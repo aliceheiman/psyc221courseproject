{
 "cells": [
  {
   "cell_type": "markdown",
   "id": "9e1fc9a2",
   "metadata": {},
   "source": [
    "# Data Processing\n",
    "\n",
    "Remove confounders for functional and structural measurements on the ABCD study."
   ]
  },
  {
   "cell_type": "markdown",
   "id": "c3e42663",
   "metadata": {},
   "source": [
    "### Imports"
   ]
  },
  {
   "cell_type": "code",
   "execution_count": 2,
   "id": "1d7d7f3f",
   "metadata": {},
   "outputs": [],
   "source": [
    "from constants import *\n",
    "\n",
    "import pandas as pd\n",
    "import numpy as np\n",
    "import os\n",
    "from pathlib import Path\n",
    "import statsmodels.api as sm\n",
    "\n",
    "import warnings\n",
    "warnings.simplefilter(action='ignore', category=pd.errors.PerformanceWarning)"
   ]
  },
  {
   "cell_type": "code",
   "execution_count": 3,
   "id": "fa9e0e58",
   "metadata": {},
   "outputs": [],
   "source": [
    "raw_path = Path(os.path.join(\"../\", \"data\", \"raw\"))\n",
    "interim_path = Path(os.path.join(\"../\", \"data\", \"interim\"))\n",
    "processed_path = Path(os.path.join(\"../\", \"data\", \"processed\"))"
   ]
  },
  {
   "cell_type": "markdown",
   "id": "0197e861",
   "metadata": {},
   "source": [
    "### Load Dataframes"
   ]
  },
  {
   "cell_type": "code",
   "execution_count": 11,
   "id": "f38396c8",
   "metadata": {},
   "outputs": [
    {
     "name": "stdout",
     "output_type": "stream",
     "text": [
      "# Dev\n",
      "(11253, 432)\n",
      "(11253, 432)\n",
      "(11253, 74)\n",
      "# Test\n",
      "(1251, 432)\n",
      "(1251, 432)\n",
      "(1251, 74)\n"
     ]
    }
   ],
   "source": [
    "# Load dataframes\n",
    "c_stop = pd.read_csv(interim_path/\"dev_c_stop_df.csv\")\n",
    "i_stop = pd.read_csv(interim_path/\"dev_i_stop_df.csv\")\n",
    "mri = pd.read_csv(interim_path/\"dev_mri_df.csv\")\n",
    "\n",
    "test_c_stop = pd.read_csv(interim_path/\"test_c_stop_df.csv\")\n",
    "test_i_stop = pd.read_csv(interim_path/\"test_i_stop_df.csv\")\n",
    "test_mri = pd.read_csv(interim_path/\"test_mri_df.csv\")\n",
    "\n",
    "print(\"# Dev\")\n",
    "print(c_stop.shape)\n",
    "print(i_stop.shape)\n",
    "print(mri.shape)\n",
    "\n",
    "print(\"# Test\")\n",
    "print(test_c_stop.shape)\n",
    "print(test_i_stop.shape)\n",
    "print(test_mri.shape)"
   ]
  },
  {
   "cell_type": "markdown",
   "id": "c955f66d",
   "metadata": {},
   "source": [
    "## Remove Confounders"
   ]
  },
  {
   "cell_type": "code",
   "execution_count": 12,
   "id": "309cd62d",
   "metadata": {},
   "outputs": [],
   "source": [
    "income_features = [(\"demo_comb_income_v2_\" + str(i) + \".0\").strip() for i in range(1, 11) if i != 9]\n",
    "demo_features = income_features + [\"demo_race_black\", \"demo_race_other\"]\n",
    "\n",
    "def add_demo(input_df):\n",
    "    df = input_df.copy()\n",
    "    df[\"demo_comb_income_v2\"] = c_stop[\"demo_comb_income_v2\"].replace({999: None, 777: None})\n",
    "    df = pd.get_dummies(df, columns=['demo_comb_income_v2'])\n",
    "    df = df.drop(\"demo_comb_income_v2_9.0\", axis=1) # most common\n",
    "\n",
    "    df[\"demo_race_black\"] = c_stop[\"demo_race_a_p___11\"] == 1\n",
    "    df[\"demo_race_other\"] = (c_stop[\"demo_race_a_p___10\"] != 1) & (c_stop[\"demo_race_a_p___11\"] != 1)\n",
    "    \n",
    "    for f in demo_features:\n",
    "        df[f] = df[f].replace({False: 0, True: 1})\n",
    "    \n",
    "    return df\n",
    "\n",
    "i_stop = add_demo(i_stop)\n",
    "mri = add_demo(mri)\n",
    "\n",
    "# add age to mri\n",
    "mri[\"interview_age\"] = c_stop[\"interview_age\"]\n",
    "\n",
    "test_i_stop = add_demo(test_i_stop)\n",
    "test_mri = add_demo(test_mri)\n",
    "test_c_stop = add_demo(test_c_stop)\n",
    "\n",
    "# add age to mri\n",
    "test_mri[\"interview_age\"] = test_c_stop[\"interview_age\"]\n",
    "\n",
    "c_stop = add_demo(c_stop)"
   ]
  },
  {
   "cell_type": "code",
   "execution_count": 13,
   "id": "0a323ead",
   "metadata": {},
   "outputs": [
    {
     "name": "stdout",
     "output_type": "stream",
     "text": [
      "(11253, 442)\n",
      "(11253, 442)\n",
      "(11253, 86)\n"
     ]
    }
   ],
   "source": [
    "print(c_stop.shape)\n",
    "print(i_stop.shape)\n",
    "print(mri.shape)"
   ]
  },
  {
   "cell_type": "code",
   "execution_count": 14,
   "id": "b0d5d09a",
   "metadata": {},
   "outputs": [],
   "source": [
    "### RESIDUALIZE\n",
    "confounders = [\"interview_age\"] + demo_features\n",
    "\n",
    "def residualize(input_df, features, mri=False):\n",
    "    print(\"Residualizing...\")\n",
    "    df = input_df.copy()\n",
    "\n",
    "    mean_age = np.mean(df[\"interview_age\"])\n",
    "    df[confounders] = df[confounders].fillna(0)\n",
    "    \n",
    "    if mri == True:\n",
    "        mean_volume = np.mean(df[\"smri_vol_scs_suprateialv\"])\n",
    "    \n",
    "    for feature in features:\n",
    "        endog = df[feature]\n",
    "        df[\"Intercept\"] = 1\n",
    "        \n",
    "        if mri == True:\n",
    "            exog = df[[\"Intercept\"] + [\"interview_age\", \"smri_vol_scs_suprateialv\"] + demo_features]\n",
    "        else:\n",
    "            exog = df[[\"Intercept\"] + confounders]\n",
    "        \n",
    "        md = sm.GLM(endog, exog, family=sm.families.Gaussian())\n",
    "    \n",
    "        try:\n",
    "            md = md.fit()\n",
    "            feature_name = feature + '_prime'\n",
    "            \n",
    "            if mri == True:\n",
    "                df[feature_name] = df[feature] - (md.params[1] * (df[\"interview_age\"] - mean_age) + md.params[2] * (df[\"smri_vol_scs_suprateialv\"]))\n",
    "            else:\n",
    "                df[feature_name] = df[feature] - (md.params[1] * (df[\"interview_age\"] - mean_age))\n",
    "            \n",
    "            for i in range(1, len(confounders)):\n",
    "                df[feature_name] = df[feature_name] - (md.params[i + 1] * df[confounders[i]])\n",
    "                \n",
    "            # remove original column\n",
    "            df = df.drop(feature, axis=1)\n",
    "            \n",
    "        except:\n",
    "            print(\"Continuing.\")\n",
    "            continue\n",
    "            \n",
    "    df = df.drop(\"Intercept\", axis=1)\n",
    "    \n",
    "    return df"
   ]
  },
  {
   "cell_type": "code",
   "execution_count": null,
   "id": "b9e059ed",
   "metadata": {},
   "outputs": [],
   "source": []
  },
  {
   "cell_type": "code",
   "execution_count": 16,
   "id": "6377d2eb",
   "metadata": {},
   "outputs": [],
   "source": [
    "mri_columns = [f for f in mri.columns if f.startswith(\"smri\") and f != \"smri_vol_scs_suprateialv\"]"
   ]
  },
  {
   "cell_type": "code",
   "execution_count": 17,
   "id": "fd45afc1",
   "metadata": {},
   "outputs": [
    {
     "name": "stdout",
     "output_type": "stream",
     "text": [
      "Residualizing...\n",
      "Residualizing...\n",
      "Residualizing...\n",
      "Residualizing...\n",
      "Residualizing...\n",
      "Residualizing...\n"
     ]
    }
   ],
   "source": [
    "c_stop_res = residualize(c_stop, c_stop_go_features)\n",
    "i_stop_res = residualize(i_stop, i_stop_go_features)\n",
    "mri_res = residualize(mri, mri_columns, mri=True)\n",
    "\n",
    "test_c_stop_res = residualize(test_c_stop, c_stop_go_features)\n",
    "test_i_stop_res = residualize(test_i_stop, i_stop_go_features)\n",
    "test_mri_res = residualize(test_mri, mri_columns, mri=True)"
   ]
  },
  {
   "cell_type": "code",
   "execution_count": 29,
   "id": "bb0eddc3",
   "metadata": {},
   "outputs": [
    {
     "name": "stdout",
     "output_type": "stream",
     "text": [
      "(11253, 442)\n",
      "(11253, 442)\n",
      "(11253, 86)\n"
     ]
    }
   ],
   "source": [
    "print(c_stop_res.shape)\n",
    "print(i_stop_res.shape)\n",
    "print(mri_res.shape)"
   ]
  },
  {
   "cell_type": "code",
   "execution_count": 18,
   "id": "bed5b77f",
   "metadata": {},
   "outputs": [
    {
     "name": "stdout",
     "output_type": "stream",
     "text": [
      "Saved to processed.\n"
     ]
    }
   ],
   "source": [
    "c_stop_res.to_csv(processed_path/\"dev_c_stop_res.csv\")\n",
    "i_stop_res.to_csv(processed_path/\"dev_i_stop_res.csv\")\n",
    "mri_res.to_csv(processed_path/\"dev_mri_res.csv\")\n",
    "\n",
    "test_c_stop_res.to_csv(processed_path/\"test_c_stop_res.csv\")\n",
    "test_i_stop_res.to_csv(processed_path/\"test_i_stop_res.csv\")\n",
    "test_mri_res.to_csv(processed_path/\"test_mri_res.csv\")\n",
    "\n",
    "print(\"Saved to processed.\")"
   ]
  },
  {
   "cell_type": "code",
   "execution_count": null,
   "id": "92d41280",
   "metadata": {},
   "outputs": [],
   "source": []
  }
 ],
 "metadata": {
  "kernelspec": {
   "display_name": "pydata-book",
   "language": "python",
   "name": "pydata-book"
  },
  "language_info": {
   "codemirror_mode": {
    "name": "ipython",
    "version": 3
   },
   "file_extension": ".py",
   "mimetype": "text/x-python",
   "name": "python",
   "nbconvert_exporter": "python",
   "pygments_lexer": "ipython3",
   "version": "3.10.12"
  }
 },
 "nbformat": 4,
 "nbformat_minor": 5
}
