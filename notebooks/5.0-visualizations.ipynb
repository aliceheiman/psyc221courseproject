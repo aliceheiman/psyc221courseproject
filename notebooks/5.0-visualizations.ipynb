{
 "cells": [
  {
   "cell_type": "markdown",
   "id": "3e6de004",
   "metadata": {},
   "source": [
    "# Visualizations"
   ]
  },
  {
   "cell_type": "code",
   "execution_count": 3,
   "id": "c08b1d67",
   "metadata": {},
   "outputs": [],
   "source": [
    "from constants import *\n",
    "\n",
    "import pandas as pd\n",
    "import numpy as np\n",
    "import os\n",
    "from pathlib import Path\n",
    "import matplotlib.pyplot as plt\n",
    "import seaborn as sns\n",
    "\n",
    "import nibabel as nib\n",
    "import nilearn\n",
    "from nilearn import plotting\n",
    "from nilearn import datasets\n",
    "\n",
    "# Visualization parameters\n",
    "%matplotlib inline\n",
    "a4_dims = (9.7, 3.27)\n",
    "plt.rcParams['figure.figsize'] = (7, 5)\n",
    "plt.rcParams['figure.dpi'] = 100\n",
    "plt.rcParams['savefig.dpi'] = 500\n",
    "plt.rcParams[\"figure.autolayout\"] = True\n",
    "sns.set_theme()"
   ]
  },
  {
   "cell_type": "markdown",
   "id": "733d91b3-5d9b-4376-8d5c-c11ec29aec82",
   "metadata": {},
   "source": [
    "## Map ABCD Features to Destrieux Labels"
   ]
  },
  {
   "cell_type": "code",
   "execution_count": 68,
   "id": "9997ddce-65e2-416c-a949-079b3f45e794",
   "metadata": {},
   "outputs": [],
   "source": [
    "def find_number(label_name):\n",
    "    for n, l in list(atlas.labels):\n",
    "        if l == label_name:\n",
    "            print(f\"Found {l}\")\n",
    "            return n"
   ]
  },
  {
   "cell_type": "code",
   "execution_count": 66,
   "id": "9c7e47c1-1058-488a-8da9-5829585d96f9",
   "metadata": {},
   "outputs": [],
   "source": [
    "destrieux_labels = datasets.fetch_atlas_surf_destrieux().labels\n",
    "destrieux_labels = [f.decode() for f in destrieux_labels]\n",
    "destrieux_labels = [f for f in destrieux_labels if f not in [\"Unknown\", \"Medial_wall\"]]\n",
    "\n",
    "num_to_label = {n: \"L \" + l for n, l in zip(range(149, 223), destrieux_labels)}\n",
    "num_to_label_r = {n: \"R \" + l for n, l in zip(range(223, 297), destrieux_labels)}\n",
    "num_to_label.update(i_num_to_label_r)\n",
    "\n",
    "i_num_to_label = {n: \"L \" + l for n, l in zip(range(297, 371), destrieux_labels)}\n",
    "i_num_to_label_r = {n: \"R \" + l for n, l in zip(range(371, 445), destrieux_labels)}\n",
    "i_num_to_label.update(i_num_to_label_r)\n",
    "\n",
    "num_to_label.update(i_num_to_label)"
   ]
  },
  {
   "cell_type": "markdown",
   "id": "b338738b-d47b-4f57-80c1-24ac6fc1008c",
   "metadata": {},
   "source": [
    "## Plotting"
   ]
  },
  {
   "cell_type": "code",
   "execution_count": 88,
   "id": "720b1a5b-c29d-409d-99f9-bc6a83bb6f04",
   "metadata": {},
   "outputs": [],
   "source": [
    "img_path = Path(os.path.join(\"../\", \"reports\", \"figures\"))"
   ]
  },
  {
   "cell_type": "code",
   "execution_count": 82,
   "id": "7afdd4f0-c891-43ab-8d3b-36072afda387",
   "metadata": {},
   "outputs": [
    {
     "name": "stderr",
     "output_type": "stream",
     "text": [
      "/Users/alice/miniforge3/envs/pydata-book/lib/python3.10/site-packages/nilearn/datasets/atlas.py:354: UserWarning: `legacy_format` will default to `False` in release 0.11. Dataset fetchers will then return pandas dataframes by default instead of recarrays.\n",
      "  warnings.warn(_LEGACY_FORMAT_MSG)\n"
     ]
    }
   ],
   "source": [
    "atlas = datasets.fetch_atlas_destrieux_2009()\n",
    "img = nilearn.image.load_img(atlas.maps)\n",
    "affine = img.affine\n",
    "img_data = img.get_fdata()"
   ]
  },
  {
   "cell_type": "code",
   "execution_count": 83,
   "id": "ec86b443-1aa8-44de-8b29-99d414bf4640",
   "metadata": {},
   "outputs": [],
   "source": [
    "#atlas.labels"
   ]
  },
  {
   "cell_type": "code",
   "execution_count": 84,
   "id": "fb1cc89b-90d7-48c7-82b0-809cd09708bf",
   "metadata": {},
   "outputs": [],
   "source": [
    "def get_img(roi_nums):\n",
    "    idx = [find_number(num_to_label[n]) for n in roi_nums]\n",
    "    a = img_data.copy()\n",
    "    a[~np.isin(img_data, idx)] = 0\n",
    "\n",
    "    new_img = nilearn.image.new_img_like(img, a, affine=affine, copy_header=True)\n",
    "    return new_img"
   ]
  },
  {
   "cell_type": "code",
   "execution_count": 90,
   "id": "324e8d56",
   "metadata": {},
   "outputs": [
    {
     "name": "stdout",
     "output_type": "stream",
     "text": [
      "Found R G_pariet_inf-Angular\n",
      "Found R G_parietal_sup\n",
      "Found L S_subparietal\n",
      "Found R G_precuneus\n",
      "Found R S_orbital_med-olfact\n"
     ]
    },
    {
     "name": "stderr",
     "output_type": "stream",
     "text": [
      "/Users/alice/miniforge3/envs/pydata-book/lib/python3.10/site-packages/nilearn/plotting/displays/_slicers.py:796: UserWarning: This figure includes Axes that are not compatible with tight_layout, so results might be incorrect.\n",
      "  self.frame_axes.figure.savefig(\n"
     ]
    }
   ],
   "source": [
    "img = get_img([395, 397, 367, 400, 433])\n",
    "save_path = img_path/\"brain_baseline_incorrect.jpg\"\n",
    "nilearn.plotting.plot_glass_brain(img, title=\"Baseline Incorrect Stop vs. Correct Go\", output_file=save_path)"
   ]
  },
  {
   "cell_type": "code",
   "execution_count": 92,
   "id": "f577c35f",
   "metadata": {},
   "outputs": [
    {
     "name": "stdout",
     "output_type": "stream",
     "text": [
      "Found L S_orbital_med-olfact\n",
      "Found R S_cingul-Marginalis\n",
      "Found R G_insular_short\n",
      "Found R S_pericallosal\n",
      "Found L S_temporal_transverse\n"
     ]
    },
    {
     "name": "stderr",
     "output_type": "stream",
     "text": [
      "/Users/alice/miniforge3/envs/pydata-book/lib/python3.10/site-packages/nilearn/plotting/displays/_slicers.py:796: UserWarning: This figure includes Axes that are not compatible with tight_layout, so results might be incorrect.\n",
      "  self.frame_axes.figure.savefig(\n"
     ]
    }
   ],
   "source": [
    "img = get_img([359, 416, 388, 436, 370])\n",
    "save_path = img_path/\"brain_followup_incorrect.jpg\"\n",
    "nilearn.plotting.plot_glass_brain(img, title=\"Followup Incorrect Stop vs. Correct Go\", output_file=save_path)"
   ]
  },
  {
   "cell_type": "code",
   "execution_count": null,
   "id": "e1ea7ff3",
   "metadata": {},
   "outputs": [],
   "source": []
  },
  {
   "cell_type": "code",
   "execution_count": null,
   "id": "0279f2c3",
   "metadata": {},
   "outputs": [],
   "source": []
  },
  {
   "cell_type": "code",
   "execution_count": null,
   "id": "8b8cdc97",
   "metadata": {},
   "outputs": [],
   "source": []
  }
 ],
 "metadata": {
  "kernelspec": {
   "display_name": "pydata-book",
   "language": "python",
   "name": "pydata-book"
  },
  "language_info": {
   "codemirror_mode": {
    "name": "ipython",
    "version": 3
   },
   "file_extension": ".py",
   "mimetype": "text/x-python",
   "name": "python",
   "nbconvert_exporter": "python",
   "pygments_lexer": "ipython3",
   "version": "3.10.12"
  }
 },
 "nbformat": 4,
 "nbformat_minor": 5
}
