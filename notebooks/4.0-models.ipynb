{
 "cells": [
  {
   "cell_type": "markdown",
   "id": "024e3aaf",
   "metadata": {},
   "source": [
    "# Models"
   ]
  },
  {
   "cell_type": "markdown",
   "id": "e7d9dcb9",
   "metadata": {},
   "source": [
    "---\n",
    "\n",
    "## Imports\n",
    "\n",
    "---"
   ]
  },
  {
   "cell_type": "code",
   "execution_count": 1,
   "id": "49c0f1bc",
   "metadata": {},
   "outputs": [],
   "source": [
    "from constants import *\n",
    "\n",
    "import pandas as pd\n",
    "import numpy as np\n",
    "import os\n",
    "from pathlib import Path\n",
    "import statsmodels.api as sm\n",
    "import matplotlib.pyplot as plt\n",
    "\n",
    "import torch # PyTorch\n",
    "from torch import nn # Modules and layers\n",
    "from torch.utils.data import Dataset # PyTorch dataset\n",
    "from torch.utils.data import DataLoader # PyTorch Dataloader\n",
    "\n",
    "import torch # PyTorch\n",
    "from torch import nn # Modules and layers\n",
    "from torch.utils.data import Dataset # PyTorch dataset\n",
    "from torch.utils.data import DataLoader # PyTorch Dataloader\n",
    "from torch.nn import BCEWithLogitsLoss\n",
    "\n",
    "from sklearn.svm import SVC\n",
    "from sklearn.ensemble import RandomForestClassifier\n",
    "from sklearn.neighbors import KNeighborsClassifier\n",
    "from sklearn.neural_network import MLPClassifier\n",
    "from sklearn.linear_model import LogisticRegression\n",
    "from sklearn.model_selection import train_test_split, cross_val_score\n",
    "from sklearn.feature_selection import f_regression, SelectKBest\n",
    "from sklearn.utils.class_weight import compute_class_weight\n",
    "\n",
    "from sklearn.metrics import accuracy_score\n",
    "from sklearn.metrics import balanced_accuracy_score\n",
    "from sklearn.metrics import f1_score\n",
    "from sklearn.metrics import roc_auc_score\n",
    "from sklearn.metrics import precision_score\n",
    "\n",
    "from tabulate import tabulate\n",
    "from IPython.display import Markdown, display\n",
    "\n",
    "from sklearn.preprocessing import StandardScaler\n",
    "from sklearn.feature_selection import f_regression, SelectKBest"
   ]
  },
  {
   "cell_type": "code",
   "execution_count": 2,
   "id": "b91d1854",
   "metadata": {},
   "outputs": [],
   "source": [
    "processed = Path(os.path.join(\"../\", \"data\", \"processed\"))\n",
    "interim = Path(os.path.join(\"../\", \"data\", \"interim\"))\n",
    "\n",
    "c_stop_res = pd.read_csv(processed/\"dev_c_stop_res.csv\")\n",
    "i_stop_res = pd.read_csv(processed/\"dev_i_stop_res.csv\")\n",
    "mri_res = pd.read_csv(processed/\"dev_mri_res.csv\")\n",
    "\n",
    "c_stop = pd.read_csv(interim/\"dev_c_stop_df.csv\")\n",
    "i_stop = pd.read_csv(interim/\"dev_i_stop_df.csv\")\n",
    "mri = pd.read_csv(interim/\"dev_mri_df.csv\")\n",
    "\n",
    "test_c_stop_res = pd.read_csv(processed/\"test_c_stop_res.csv\")\n",
    "test_i_stop_res = pd.read_csv(processed/\"test_i_stop_res.csv\")\n",
    "test_mri_res = pd.read_csv(processed/\"test_mri_res.csv\")"
   ]
  },
  {
   "cell_type": "code",
   "execution_count": 84,
   "id": "b107ed9c",
   "metadata": {},
   "outputs": [
    {
     "name": "stdout",
     "output_type": "stream",
     "text": [
      "5626.5\n",
      "625.5\n"
     ]
    }
   ],
   "source": [
    "print(len(c_stop_res) / 2)\n",
    "print(len(test_c_stop_res) / 2)"
   ]
  },
  {
   "cell_type": "code",
   "execution_count": 85,
   "id": "c2d56a53",
   "metadata": {},
   "outputs": [
    {
     "data": {
      "text/plain": [
       "6252"
      ]
     },
     "execution_count": 85,
     "metadata": {},
     "output_type": "execute_result"
    }
   ],
   "source": [
    "5626 + 626"
   ]
  },
  {
   "cell_type": "code",
   "execution_count": 3,
   "id": "91ee7616",
   "metadata": {},
   "outputs": [],
   "source": [
    "NUM_EPOCHS = 50\n",
    "LEARNING_RATE = 0.001"
   ]
  },
  {
   "cell_type": "markdown",
   "id": "ee1d4e10",
   "metadata": {},
   "source": [
    "## Functions"
   ]
  },
  {
   "cell_type": "code",
   "execution_count": 4,
   "id": "1bad5076",
   "metadata": {},
   "outputs": [],
   "source": [
    "def printmd(string):\n",
    "    display(Markdown(string))"
   ]
  },
  {
   "cell_type": "code",
   "execution_count": 5,
   "id": "1f894978",
   "metadata": {},
   "outputs": [],
   "source": [
    "def get_split(X, y):\n",
    "    X_train, X_test, y_train, y_test = train_test_split(X, y, test_size=0.2, random_state=42)\n",
    "    \n",
    "    print(\"X_train shape:\", X_train.shape)\n",
    "    print(\"X_test shape:\", X_test.shape)\n",
    "    print(\"y_train shape:\", y_train.shape)\n",
    "    print(\"y_test shape:\", y_test.shape)\n",
    "    \n",
    "    return X_train, X_test, y_train, y_test"
   ]
  },
  {
   "cell_type": "code",
   "execution_count": 6,
   "id": "cff872d0",
   "metadata": {},
   "outputs": [],
   "source": [
    "def z_normalize(X):\n",
    "    '''Performs Z-score normalization'''\n",
    "    scaler = StandardScaler().set_output(transform=\"pandas\")\n",
    "    X_scaled = scaler.fit_transform(X)\n",
    "    return X_scaled"
   ]
  },
  {
   "cell_type": "code",
   "execution_count": 7,
   "id": "2b8bde9f",
   "metadata": {},
   "outputs": [],
   "source": [
    "def feature_select(X, y, num_features=10):\n",
    "    '''Selects the top k features.'''\n",
    "    fs = SelectKBest(score_func=f_regression,k=num_features)\n",
    "\n",
    "    # Applying feature selection\n",
    "    fit = fs.fit(X, y)\n",
    "\n",
    "    features_score = pd.DataFrame(fit.scores_)\n",
    "    features = pd.DataFrame(X.columns)\n",
    "    feature_score = pd.concat([features,features_score],axis=1)\n",
    "\n",
    "    # Assigning column names\n",
    "    feature_score.columns = [\"Input_Features\",\"F_Score\"]\n",
    "    top_features = feature_score.nlargest(num_features,columns=\"F_Score\")\n",
    "    \n",
    "    return X[top_features[\"Input_Features\"]]"
   ]
  },
  {
   "cell_type": "code",
   "execution_count": 8,
   "id": "84533ef9",
   "metadata": {},
   "outputs": [],
   "source": [
    "def get_metrics(target, predictions):\n",
    "    '''Prints metrics'''\n",
    "    table = [\n",
    "        [\"Accuracy\", \"Balanced Accuracy\", \"f1 Score\", \"ROC AUC\", \"Precision\"],\n",
    "        [accuracy_score(target, predictions), balanced_accuracy_score(target, predictions),\n",
    "        f1_score(target, predictions), roc_auc_score(target, predictions),\n",
    "        precision_score(target, predictions)]\n",
    "    ]\n",
    "    \n",
    "    print(tabulate(table, headers='firstrow', tablefmt='fancy_grid'))"
   ]
  },
  {
   "cell_type": "code",
   "execution_count": 9,
   "id": "e7d51f93",
   "metadata": {},
   "outputs": [],
   "source": [
    "def run_standard_models(title, X_train, X_test, y_train, y_test, class_weight=None, feature_importance=False):\n",
    "    '''Performs Binary Clasisfication Using Scikit-learn Models'''\n",
    "    names = [\n",
    "        \"SVC\",\n",
    "        \"LogisticRegression\",\n",
    "        \"RandomForestClassifier\",\n",
    "        \"KNeighborsClassifier\",\n",
    "        \"MLPClassifier\"\n",
    "    ]\n",
    "\n",
    "    standard_models = [\n",
    "        SVC(),\n",
    "        LogisticRegression(penalty=\"l2\", max_iter=300, class_weight=class_weight),\n",
    "        RandomForestClassifier(n_estimators=50),\n",
    "        KNeighborsClassifier(),\n",
    "        MLPClassifier(hidden_layer_sizes=(2,2), max_iter=1000, random_state=42)\n",
    "    ]\n",
    "\n",
    "    trained_models = []\n",
    "    \n",
    "    printmd(f\"### Running `{title}` experiment\")\n",
    "    printmd(\"**=====================================================================**\")\n",
    "    \n",
    "    for name, model in zip(names, standard_models):\n",
    "        printmd(f\"**Trying {name}........**\")\n",
    "        model.fit(X_train, y_train)\n",
    "        cv_scores = cross_val_score(model, X_train, y_train, cv=5)\n",
    "        average_cv_score = cv_scores.mean()\n",
    "        print(f\"Average cross-validation score: {average_cv_score*100:.3f}%\")\n",
    "\n",
    "        y_pred = model.predict(X_test)\n",
    "        get_metrics(y_test, y_pred)\n",
    "\n",
    "        trained_models.append(model)\n",
    "\n",
    "    return trained_models\n",
    "    "
   ]
  },
  {
   "cell_type": "markdown",
   "id": "44d87276",
   "metadata": {},
   "source": [
    "## PyTorch Model Pipeline"
   ]
  },
  {
   "cell_type": "code",
   "execution_count": 10,
   "id": "079afd9f",
   "metadata": {},
   "outputs": [],
   "source": [
    "class ABCDDataset(Dataset):\n",
    "    '''Creates a PyTorch Tensor Dataset from X and y arrays.'''\n",
    "    def __init__(self, X, y, y_dtype=torch.int64):\n",
    "        self.X = torch.tensor(X.values, dtype=torch.float32)\n",
    "        self.y = torch.tensor(y.values, dtype=y_dtype)\n",
    "        \n",
    "    def __len__(self):\n",
    "        return len(self.y)\n",
    "\n",
    "    def __getitem__(self, idx):\n",
    "        return self.X[idx], self.y[idx]\n",
    "    \n",
    "def get_ds(X, y):\n",
    "    '''Creates a 80/20 split in two different PyTorch Datasets.'''\n",
    "    X_train, X_test, y_train, y_test = get_split(X, y)\n",
    "    \n",
    "    train_ds = ABCDDataset(X_train, y_train)\n",
    "    test_ds = ABCDDataset(X_test, y_test)\n",
    "    \n",
    "    return train_ds, test_ds\n",
    "\n",
    "def get_dls(X, y):\n",
    "    '''Creates train and test dataloaders compatible with PyTorch.'''\n",
    "    train_ds, test_ds = get_ds(X, y)\n",
    "    train_dl = DataLoader(train_ds, batch_size=32, shuffle=True)\n",
    "    test_dl = DataLoader(test_ds, batch_size=32, shuffle=False)\n",
    "    \n",
    "    return train_dl, test_dl"
   ]
  },
  {
   "cell_type": "code",
   "execution_count": 11,
   "id": "1303a340",
   "metadata": {},
   "outputs": [],
   "source": [
    "class Model1(nn.Module):\n",
    "    def __init__(self, input_size, nr_classes=2, save_path=\"models\"):\n",
    "        super().__init__()\n",
    "\n",
    "        self.layers = nn.Sequential(\n",
    "            nn.Linear(input_size, 2),\n",
    "            nn.ReLU(),\n",
    "            nn.Linear(2, 2),\n",
    "            nn.ReLU(),\n",
    "            nn.Linear(2, nr_classes),\n",
    "            nn.Sigmoid()\n",
    "        )\n",
    "\n",
    "        self.flatten = nn.Flatten()\n",
    "        self.softmax = nn.Softmax(dim=1)\n",
    "            \n",
    "    def forward(self, x):\n",
    "        '''Forward pass'''\n",
    "        x = self.flatten(x)\n",
    "        logits = self.layers(x)\n",
    "        return logits"
   ]
  },
  {
   "cell_type": "code",
   "execution_count": 12,
   "id": "a1ea86aa",
   "metadata": {},
   "outputs": [],
   "source": [
    "# Code adapted from https://www.geeksforgeeks.org/training-neural-networks-with-validation-using-pytorch/\n",
    "\n",
    "def train_model(model, loss_f, optimizer, train_dl, valid_dl, num_epochs, bce=False):\n",
    "    '''Training loop.'''\n",
    "        \n",
    "    # Keep track of loss over time\n",
    "    train_scores = []\n",
    "    valid_scores = []\n",
    "    \n",
    "    scheduler = torch.optim.lr_scheduler.StepLR(optimizer, step_size=30, gamma=0.1)\n",
    "    \n",
    "    for e in range(num_epochs):    \n",
    "        # Train\n",
    "        train_loss = 0\n",
    "        model.train()        \n",
    "\n",
    "        for data, labels in train_dl:\n",
    "            \n",
    "            # Clear the gradients\n",
    "            optimizer.zero_grad()\n",
    "            \n",
    "            # Forward pass\n",
    "            predictions = model(data)\n",
    "            \n",
    "            # Compute loss\n",
    "            if bce:\n",
    "                loss = loss_f(predictions, labels.float())\n",
    "            else:\n",
    "                loss = loss_f(predictions, labels)\n",
    "            \n",
    "            loss.backward()\n",
    "            optimizer.step()\n",
    "            \n",
    "            train_loss += loss.item()\n",
    "            \n",
    "        \n",
    "        # Compute validation loss\n",
    "        valid_loss = 0\n",
    "        with torch.no_grad():\n",
    "            model.eval()\n",
    "            for data, labels in valid_dl:\n",
    "                predictions = model(data)\n",
    "                # Compute loss\n",
    "                if bce:\n",
    "                    loss = loss_f(predictions, labels.float())\n",
    "                else:\n",
    "                    loss = loss_f(predictions, labels)\n",
    "                valid_loss += loss.item()\n",
    "            \n",
    "        avg_train = train_loss / len(train_dl)\n",
    "        avg_valid = valid_loss / len(valid_dl)\n",
    "        \n",
    "        if (e % 10 == 0):\n",
    "            print(f\"Epoch {e + 1}/{num_epochs} - Train loss: {avg_train:.2f} Valid loss: {avg_valid:.2f}\")\n",
    "        \n",
    "        train_scores.append(avg_train)\n",
    "        valid_scores.append(avg_valid)\n",
    "        \n",
    "        scheduler.step()\n",
    "\n",
    "    print(\"Training Completed!\")\n",
    "    \n",
    "    return train_scores, valid_scores"
   ]
  },
  {
   "cell_type": "code",
   "execution_count": 13,
   "id": "659d5948",
   "metadata": {},
   "outputs": [],
   "source": [
    "def plot_learning(train_loss, valid_loss, figname):\n",
    "    '''Plots train and validation loss performance'''\n",
    "    fig, ax = plt.subplots(figsize=(5,5), dpi=200)\n",
    "    ax.plot(train_loss, label=\"Training Loss\")\n",
    "    ax.plot(valid_loss, label=\"Validation Loss\")\n",
    "    ax.set_title(\"Training and Validation Loss\")\n",
    "    ax.set_xlabel(\"Epoch #\")\n",
    "    ax.set_ylabel(\"Loss\")\n",
    "    ax.legend()\n",
    "    plt.tight_layout()\n",
    "    plt.savefig(os.path.join(\"../reports/figures/\" + figname))\n",
    "    plt.show()"
   ]
  },
  {
   "cell_type": "code",
   "execution_count": 70,
   "id": "2210c77f",
   "metadata": {},
   "outputs": [],
   "source": [
    "def evaluate_model(model, dl):\n",
    "    '''Evaluate model and print metrics.'''\n",
    "    model.eval()\n",
    "    targets = []\n",
    "    predictions = []\n",
    "    \n",
    "    for data, labels in dl:\n",
    "        prediction = model(data)\n",
    "        targets += list(labels.detach().cpu().numpy())\n",
    "        predictions += list(prediction.argmax(1).detach().cpu().numpy())\n",
    "    \n",
    "    get_metrics(targets, predictions)\n",
    "    \n",
    "def evaluate_model_Xy(model, X, y):\n",
    "    '''Evaluate model and print metrics.'''\n",
    "    model.eval()\n",
    "    \n",
    "    predictions = model(X)\n",
    "    predictions = list(predictionS.argmax(1).detach().cpu().numpy())\n",
    "    \n",
    "    get_metrics(Y, predictions)"
   ]
  },
  {
   "cell_type": "code",
   "execution_count": 15,
   "id": "b3da0fa8-dd08-4147-8d6d-56aa759973a6",
   "metadata": {},
   "outputs": [],
   "source": [
    "def plot_feature_importance(features, figname, n=1, top=5):\n",
    "    model_names = [\"SVC\", \"Logistic Regression\", \"RandomForestClassifier\", \"KNeighborsClassifier\", \"MLPClassifier\"]\n",
    "    coefficients = trained_models[n].coef_[0]\n",
    "    \n",
    "    feature_importance = pd.DataFrame({'Feature': features, 'Importance': np.abs(coefficients)})\n",
    "    feature_importance = feature_importance.sort_values('Importance', ascending=True)\n",
    "    \n",
    "    fig, ax = plt.subplots(dpi=200, figsize=(7,4))\n",
    "    \n",
    "    feature_importance.iloc[:top].plot(x='Feature', y='Importance', kind='barh', ax=ax)\n",
    "    ax.set_title(f\"{model_names[n]} Feature Importance\")\n",
    "    plt.tight_layout()\n",
    "    plt.savefig(os.path.join(\"../\", \"reports\", \"figures\", figname))\n",
    "    plt.show()"
   ]
  },
  {
   "cell_type": "code",
   "execution_count": 22,
   "id": "8803ccd0-b938-438b-a682-cc81d96229d3",
   "metadata": {},
   "outputs": [],
   "source": [
    "def eval_standard_models(test_df, features, models, y_in=[]):\n",
    "    model_names = [\"SVC\", \"Logistic Regression\", \"RandomForestClassifier\", \"KNeighborsClassifier\", \"MLPClassifier\"]\n",
    "\n",
    "    X = test_df[features]\n",
    "    if len(y_in) == 0:\n",
    "        y = test_df[\"demo_sex_v2\"]\n",
    "    else:\n",
    "        y = y_in\n",
    "\n",
    "    for i, model in enumerate(models):\n",
    "        print(model_names[i])\n",
    "        \n",
    "        y_pred = model.predict(X)\n",
    "        get_metrics(y, y_pred)\n",
    "\n",
    "def eval_standard_models_Xy(X, y, models):\n",
    "    model_names = [\"SVC\", \"Logistic Regression\", \"RandomForestClassifier\", \"KNeighborsClassifier\", \"MLPClassifier\"]\n",
    "\n",
    "    for i, model in enumerate(models):\n",
    "        print(model_names[i])\n",
    "        \n",
    "        y_pred = model.predict(X)\n",
    "        get_metrics(y, y_pred)"
   ]
  },
  {
   "cell_type": "markdown",
   "id": "71c209ed",
   "metadata": {},
   "source": [
    "---\n",
    "\n",
    "## No Preprocessing\n",
    "\n",
    "---"
   ]
  },
  {
   "cell_type": "markdown",
   "id": "ed01f292",
   "metadata": {},
   "source": [
    "### Baseline"
   ]
  },
  {
   "cell_type": "code",
   "execution_count": 9,
   "id": "4144ff40",
   "metadata": {},
   "outputs": [
    {
     "name": "stdout",
     "output_type": "stream",
     "text": [
      "X_train shape: (4500, 148)\n",
      "X_test shape: (1126, 148)\n",
      "y_train shape: (4500,)\n",
      "y_test shape: (1126,)\n"
     ]
    },
    {
     "data": {
      "text/markdown": [
       "### Running `No Preprocessing: Baseline Correct Stop vs. Correct Go` experiment"
      ],
      "text/plain": [
       "<IPython.core.display.Markdown object>"
      ]
     },
     "metadata": {},
     "output_type": "display_data"
    },
    {
     "data": {
      "text/markdown": [
       "**=====================================================================**"
      ],
      "text/plain": [
       "<IPython.core.display.Markdown object>"
      ]
     },
     "metadata": {},
     "output_type": "display_data"
    },
    {
     "data": {
      "text/markdown": [
       "**Trying SVC........**"
      ],
      "text/plain": [
       "<IPython.core.display.Markdown object>"
      ]
     },
     "metadata": {},
     "output_type": "display_data"
    },
    {
     "name": "stdout",
     "output_type": "stream",
     "text": [
      "Average cross-validation score: 57.333%\n",
      "╒════════════╤═════════════════════╤════════════╤═══════════╤═════════════╕\n",
      "│   Accuracy │   Balanced Accuracy │   f1 Score │   ROC AUC │   Precision │\n",
      "╞════════════╪═════════════════════╪════════════╪═══════════╪═════════════╡\n",
      "│   0.587034 │            0.576614 │   0.483907 │  0.576614 │    0.582888 │\n",
      "╘════════════╧═════════════════════╧════════════╧═══════════╧═════════════╛\n"
     ]
    },
    {
     "data": {
      "text/markdown": [
       "**Trying LogisticRegression........**"
      ],
      "text/plain": [
       "<IPython.core.display.Markdown object>"
      ]
     },
     "metadata": {},
     "output_type": "display_data"
    },
    {
     "name": "stdout",
     "output_type": "stream",
     "text": [
      "Average cross-validation score: 56.622%\n",
      "╒════════════╤═════════════════════╤════════════╤═══════════╤═════════════╕\n",
      "│   Accuracy │   Balanced Accuracy │   f1 Score │   ROC AUC │   Precision │\n",
      "╞════════════╪═════════════════════╪════════════╪═══════════╪═════════════╡\n",
      "│   0.583481 │            0.578065 │   0.525784 │  0.578065 │    0.562771 │\n",
      "╘════════════╧═════════════════════╧════════════╧═══════════╧═════════════╛\n"
     ]
    },
    {
     "data": {
      "text/markdown": [
       "**Trying RandomForestClassifier........**"
      ],
      "text/plain": [
       "<IPython.core.display.Markdown object>"
      ]
     },
     "metadata": {},
     "output_type": "display_data"
    },
    {
     "name": "stdout",
     "output_type": "stream",
     "text": [
      "Average cross-validation score: 54.222%\n",
      "╒════════════╤═════════════════════╤════════════╤═══════════╤═════════════╕\n",
      "│   Accuracy │   Balanced Accuracy │   f1 Score │   ROC AUC │   Precision │\n",
      "╞════════════╪═════════════════════╪════════════╪═══════════╪═════════════╡\n",
      "│   0.559503 │            0.549939 │   0.459695 │  0.549939 │    0.539642 │\n",
      "╘════════════╧═════════════════════╧════════════╧═══════════╧═════════════╛\n"
     ]
    },
    {
     "data": {
      "text/markdown": [
       "**Trying KNeighborsClassifier........**"
      ],
      "text/plain": [
       "<IPython.core.display.Markdown object>"
      ]
     },
     "metadata": {},
     "output_type": "display_data"
    },
    {
     "name": "stdout",
     "output_type": "stream",
     "text": [
      "Average cross-validation score: 52.178%\n",
      "╒════════════╤═════════════════════╤════════════╤═══════════╤═════════════╕\n",
      "│   Accuracy │   Balanced Accuracy │   f1 Score │   ROC AUC │   Precision │\n",
      "╞════════════╪═════════════════════╪════════════╪═══════════╪═════════════╡\n",
      "│   0.528419 │            0.521294 │   0.448598 │  0.521294 │    0.495413 │\n",
      "╘════════════╧═════════════════════╧════════════╧═══════════╧═════════════╛\n"
     ]
    },
    {
     "data": {
      "text/markdown": [
       "**Trying MLPClassifier........**"
      ],
      "text/plain": [
       "<IPython.core.display.Markdown object>"
      ]
     },
     "metadata": {},
     "output_type": "display_data"
    },
    {
     "name": "stdout",
     "output_type": "stream",
     "text": [
      "Average cross-validation score: 55.911%\n",
      "╒════════════╤═════════════════════╤════════════╤═══════════╤═════════════╕\n",
      "│   Accuracy │   Balanced Accuracy │   f1 Score │   ROC AUC │   Precision │\n",
      "╞════════════╪═════════════════════╪════════════╪═══════════╪═════════════╡\n",
      "│   0.575488 │            0.572377 │   0.535922 │  0.572377 │    0.548708 │\n",
      "╘════════════╧═════════════════════╧════════════╧═══════════╧═════════════╛\n"
     ]
    }
   ],
   "source": [
    "X = c_stop[c_stop[\"eventname\"] == BASELINE][c_stop_go_features]\n",
    "y = c_stop.iloc[X.index][TARGET]\n",
    "\n",
    "X_train, X_test, y_train, y_test = get_split(X, y)\n",
    "run_standard_models(\"No Preprocessing: Baseline Correct Stop vs. Correct Go\", X_train, X_test, y_train, y_test)"
   ]
  },
  {
   "cell_type": "code",
   "execution_count": 11,
   "id": "3f4cceab",
   "metadata": {},
   "outputs": [
    {
     "name": "stdout",
     "output_type": "stream",
     "text": [
      "X_train shape: (4500, 148)\n",
      "X_test shape: (1126, 148)\n",
      "y_train shape: (4500,)\n",
      "y_test shape: (1126,)\n"
     ]
    },
    {
     "data": {
      "text/markdown": [
       "### Running `No Preprocessing: Baseline Incorrect Stop vs. Correct Go` experiment"
      ],
      "text/plain": [
       "<IPython.core.display.Markdown object>"
      ]
     },
     "metadata": {},
     "output_type": "display_data"
    },
    {
     "data": {
      "text/markdown": [
       "**=====================================================================**"
      ],
      "text/plain": [
       "<IPython.core.display.Markdown object>"
      ]
     },
     "metadata": {},
     "output_type": "display_data"
    },
    {
     "data": {
      "text/markdown": [
       "**Trying SVC........**"
      ],
      "text/plain": [
       "<IPython.core.display.Markdown object>"
      ]
     },
     "metadata": {},
     "output_type": "display_data"
    },
    {
     "name": "stdout",
     "output_type": "stream",
     "text": [
      "Average cross-validation score: 59.489%\n",
      "╒════════════╤═════════════════════╤════════════╤═══════════╤═════════════╕\n",
      "│   Accuracy │   Balanced Accuracy │   f1 Score │   ROC AUC │   Precision │\n",
      "╞════════════╪═════════════════════╪════════════╪═══════════╪═════════════╡\n",
      "│   0.598579 │            0.590773 │   0.522199 │  0.590773 │    0.589499 │\n",
      "╘════════════╧═════════════════════╧════════════╧═══════════╧═════════════╛\n"
     ]
    },
    {
     "data": {
      "text/markdown": [
       "**Trying LogisticRegression........**"
      ],
      "text/plain": [
       "<IPython.core.display.Markdown object>"
      ]
     },
     "metadata": {},
     "output_type": "display_data"
    },
    {
     "name": "stdout",
     "output_type": "stream",
     "text": [
      "Average cross-validation score: 60.956%\n",
      "╒════════════╤═════════════════════╤════════════╤═══════════╤═════════════╕\n",
      "│   Accuracy │   Balanced Accuracy │   f1 Score │   ROC AUC │   Precision │\n",
      "╞════════════╪═════════════════════╪════════════╪═══════════╪═════════════╡\n",
      "│   0.603908 │            0.598176 │   0.545825 │  0.598176 │    0.589011 │\n",
      "╘════════════╧═════════════════════╧════════════╧═══════════╧═════════════╛\n"
     ]
    },
    {
     "data": {
      "text/markdown": [
       "**Trying RandomForestClassifier........**"
      ],
      "text/plain": [
       "<IPython.core.display.Markdown object>"
      ]
     },
     "metadata": {},
     "output_type": "display_data"
    },
    {
     "name": "stdout",
     "output_type": "stream",
     "text": [
      "Average cross-validation score: 56.111%\n",
      "╒════════════╤═════════════════════╤════════════╤═══════════╤═════════════╕\n",
      "│   Accuracy │   Balanced Accuracy │   f1 Score │   ROC AUC │   Precision │\n",
      "╞════════════╪═════════════════════╪════════════╪═══════════╪═════════════╡\n",
      "│   0.571936 │            0.563564 │   0.486141 │  0.563564 │    0.554745 │\n",
      "╘════════════╧═════════════════════╧════════════╧═══════════╧═════════════╛\n"
     ]
    },
    {
     "data": {
      "text/markdown": [
       "**Trying KNeighborsClassifier........**"
      ],
      "text/plain": [
       "<IPython.core.display.Markdown object>"
      ]
     },
     "metadata": {},
     "output_type": "display_data"
    },
    {
     "name": "stdout",
     "output_type": "stream",
     "text": [
      "Average cross-validation score: 52.533%\n",
      "╒════════════╤═════════════════════╤════════════╤═══════════╤═════════════╕\n",
      "│   Accuracy │   Balanced Accuracy │   f1 Score │   ROC AUC │   Precision │\n",
      "╞════════════╪═════════════════════╪════════════╪═══════════╪═════════════╡\n",
      "│   0.539076 │            0.528688 │   0.426519 │  0.528688 │    0.510582 │\n",
      "╘════════════╧═════════════════════╧════════════╧═══════════╧═════════════╛\n"
     ]
    },
    {
     "data": {
      "text/markdown": [
       "**Trying MLPClassifier........**"
      ],
      "text/plain": [
       "<IPython.core.display.Markdown object>"
      ]
     },
     "metadata": {},
     "output_type": "display_data"
    },
    {
     "name": "stdout",
     "output_type": "stream",
     "text": [
      "Average cross-validation score: 59.133%\n",
      "╒════════════╤═════════════════════╤════════════╤═══════════╤═════════════╕\n",
      "│   Accuracy │   Balanced Accuracy │   f1 Score │   ROC AUC │   Precision │\n",
      "╞════════════╪═════════════════════╪════════════╪═══════════╪═════════════╡\n",
      "│   0.586146 │            0.580569 │   0.527383 │  0.580569 │    0.566449 │\n",
      "╘════════════╧═════════════════════╧════════════╧═══════════╧═════════════╛\n"
     ]
    }
   ],
   "source": [
    "X = i_stop[i_stop[\"eventname\"] == BASELINE][i_stop_go_features]\n",
    "y = i_stop.iloc[X.index][TARGET]\n",
    "\n",
    "X_train, X_test, y_train, y_test = get_split(X, y)\n",
    "run_standard_models(\"No Preprocessing: Baseline Incorrect Stop vs. Correct Go\", X_train, X_test, y_train, y_test)"
   ]
  },
  {
   "cell_type": "markdown",
   "id": "45d24084",
   "metadata": {},
   "source": [
    "---\n",
    "\n",
    "## Residualization and Z-Normalization\n",
    "\n",
    "---"
   ]
  },
  {
   "cell_type": "markdown",
   "id": "fa997119",
   "metadata": {},
   "source": [
    "### Baseline"
   ]
  },
  {
   "cell_type": "code",
   "execution_count": 111,
   "id": "72f32ef4",
   "metadata": {},
   "outputs": [
    {
     "name": "stdout",
     "output_type": "stream",
     "text": [
      "X_train shape: (4500, 148)\n",
      "X_test shape: (1126, 148)\n",
      "y_train shape: (4500,)\n",
      "y_test shape: (1126,)\n"
     ]
    },
    {
     "data": {
      "text/markdown": [
       "### Running `Baseline Correct Stop vs. Correct Go` experiment"
      ],
      "text/plain": [
       "<IPython.core.display.Markdown object>"
      ]
     },
     "metadata": {},
     "output_type": "display_data"
    },
    {
     "data": {
      "text/markdown": [
       "**=====================================================================**"
      ],
      "text/plain": [
       "<IPython.core.display.Markdown object>"
      ]
     },
     "metadata": {},
     "output_type": "display_data"
    },
    {
     "data": {
      "text/markdown": [
       "**Trying SVC........**"
      ],
      "text/plain": [
       "<IPython.core.display.Markdown object>"
      ]
     },
     "metadata": {},
     "output_type": "display_data"
    },
    {
     "name": "stdout",
     "output_type": "stream",
     "text": [
      "Average cross-validation score: 57.844%\n",
      "╒════════════╤═════════════════════╤════════════╤═══════════╤═════════════╕\n",
      "│   Accuracy │   Balanced Accuracy │   f1 Score │   ROC AUC │   Precision │\n",
      "╞════════════╪═════════════════════╪════════════╪═══════════╪═════════════╡\n",
      "│   0.608348 │            0.600183 │   0.530351 │  0.600183 │    0.604369 │\n",
      "╘════════════╧═════════════════════╧════════════╧═══════════╧═════════════╛\n"
     ]
    },
    {
     "data": {
      "text/markdown": [
       "**Trying LogisticRegression........**"
      ],
      "text/plain": [
       "<IPython.core.display.Markdown object>"
      ]
     },
     "metadata": {},
     "output_type": "display_data"
    },
    {
     "name": "stdout",
     "output_type": "stream",
     "text": [
      "Average cross-validation score: 56.644%\n",
      "╒════════════╤═════════════════════╤════════════╤═══════════╤═════════════╕\n",
      "│   Accuracy │   Balanced Accuracy │   f1 Score │   ROC AUC │   Precision │\n",
      "╞════════════╪═════════════════════╪════════════╪═══════════╪═════════════╡\n",
      "│   0.585258 │            0.580761 │   0.535323 │  0.580761 │    0.562762 │\n",
      "╘════════════╧═════════════════════╧════════════╧═══════════╧═════════════╛\n"
     ]
    },
    {
     "data": {
      "text/markdown": [
       "**Trying RandomForestClassifier........**"
      ],
      "text/plain": [
       "<IPython.core.display.Markdown object>"
      ]
     },
     "metadata": {},
     "output_type": "display_data"
    },
    {
     "name": "stdout",
     "output_type": "stream",
     "text": [
      "Average cross-validation score: 53.911%\n",
      "╒════════════╤═════════════════════╤════════════╤═══════════╤═════════════╕\n",
      "│   Accuracy │   Balanced Accuracy │   f1 Score │   ROC AUC │   Precision │\n",
      "╞════════════╪═════════════════════╪════════════╪═══════════╪═════════════╡\n",
      "│   0.568384 │            0.557944 │   0.461197 │  0.557944 │    0.554667 │\n",
      "╘════════════╧═════════════════════╧════════════╧═══════════╧═════════════╛\n"
     ]
    },
    {
     "data": {
      "text/markdown": [
       "**Trying KNeighborsClassifier........**"
      ],
      "text/plain": [
       "<IPython.core.display.Markdown object>"
      ]
     },
     "metadata": {},
     "output_type": "display_data"
    },
    {
     "name": "stdout",
     "output_type": "stream",
     "text": [
      "Average cross-validation score: 53.178%\n",
      "╒════════════╤═════════════════════╤════════════╤═══════════╤═════════════╕\n",
      "│   Accuracy │   Balanced Accuracy │   f1 Score │   ROC AUC │   Precision │\n",
      "╞════════════╪═════════════════════╪════════════╪═══════════╪═════════════╡\n",
      "│   0.539964 │            0.530891 │    0.44181 │  0.530891 │    0.511222 │\n",
      "╘════════════╧═════════════════════╧════════════╧═══════════╧═════════════╛\n"
     ]
    },
    {
     "data": {
      "text/markdown": [
       "**Trying MLPClassifier........**"
      ],
      "text/plain": [
       "<IPython.core.display.Markdown object>"
      ]
     },
     "metadata": {},
     "output_type": "display_data"
    },
    {
     "name": "stdout",
     "output_type": "stream",
     "text": [
      "Average cross-validation score: 54.356%\n",
      "╒════════════╤═════════════════════╤════════════╤═══════════╤═════════════╕\n",
      "│   Accuracy │   Balanced Accuracy │   f1 Score │   ROC AUC │   Precision │\n",
      "╞════════════╪═════════════════════╪════════════╪═══════════╪═════════════╡\n",
      "│   0.561279 │            0.557767 │   0.517578 │  0.557767 │    0.533199 │\n",
      "╘════════════╧═════════════════════╧════════════╧═══════════╧═════════════╛\n"
     ]
    }
   ],
   "source": [
    "X = c_stop_res[c_stop_res[\"eventname\"] == BASELINE][c_stop_go_features_res]\n",
    "X = z_normalize(X)\n",
    "y = c_stop_res.iloc[X.index][TARGET]\n",
    "\n",
    "X_train, X_test, y_train, y_test = get_split(X, y)\n",
    "trained_models = run_standard_models(\"Baseline Correct Stop vs. Correct Go\", X_train, X_test, y_train, y_test)"
   ]
  },
  {
   "cell_type": "code",
   "execution_count": 112,
   "id": "0d585ac8-5712-4df7-a940-2d0689a831fb",
   "metadata": {},
   "outputs": [
    {
     "name": "stdout",
     "output_type": "stream",
     "text": [
      "SVC\n",
      "╒════════════╤═════════════════════╤════════════╤═══════════╤═════════════╕\n",
      "│   Accuracy │   Balanced Accuracy │   f1 Score │   ROC AUC │   Precision │\n",
      "╞════════════╪═════════════════════╪════════════╪═══════════╪═════════════╡\n",
      "│   0.576677 │            0.562059 │   0.382284 │  0.562059 │    0.621212 │\n",
      "╘════════════╧═════════════════════╧════════════╧═══════════╧═════════════╛\n",
      "Logistic Regression\n",
      "╒════════════╤═════════════════════╤════════════╤═══════════╤═════════════╕\n",
      "│   Accuracy │   Balanced Accuracy │   f1 Score │   ROC AUC │   Precision │\n",
      "╞════════════╪═════════════════════╪════════════╪═══════════╪═════════════╡\n",
      "│   0.587859 │            0.575318 │   0.431718 │  0.575318 │    0.624204 │\n",
      "╘════════════╧═════════════════════╧════════════╧═══════════╧═════════════╛\n",
      "RandomForestClassifier\n",
      "╒════════════╤═════════════════════╤════════════╤═══════════╤═════════════╕\n",
      "│   Accuracy │   Balanced Accuracy │   f1 Score │   ROC AUC │   Precision │\n",
      "╞════════════╪═════════════════════╪════════════╪═══════════╪═════════════╡\n",
      "│   0.547923 │            0.527663 │   0.216066 │  0.527663 │    0.609375 │\n",
      "╘════════════╧═════════════════════╧════════════╧═══════════╧═════════════╛\n",
      "KNeighborsClassifier\n",
      "╒════════════╤═════════════════════╤════════════╤═══════════╤═════════════╕\n",
      "│   Accuracy │   Balanced Accuracy │   f1 Score │   ROC AUC │   Precision │\n",
      "╞════════════╪═════════════════════╪════════════╪═══════════╪═════════════╡\n",
      "│   0.533546 │            0.526266 │   0.438462 │  0.526266 │    0.511211 │\n",
      "╘════════════╧═════════════════════╧════════════╧═══════════╧═════════════╛\n",
      "MLPClassifier\n",
      "╒════════════╤═════════════════════╤════════════╤═══════════╤═════════════╕\n",
      "│   Accuracy │   Balanced Accuracy │   f1 Score │   ROC AUC │   Precision │\n",
      "╞════════════╪═════════════════════╪════════════╪═══════════╪═════════════╡\n",
      "│   0.539936 │            0.528087 │    0.37931 │  0.528087 │    0.526946 │\n",
      "╘════════════╧═════════════════════╧════════════╧═══════════╧═════════════╛\n"
     ]
    }
   ],
   "source": [
    "eval_standard_models(test_c_stop_res[test_c_stop_res[\"eventname\"] == BASELINE], c_stop_go_features_res, trained_models)"
   ]
  },
  {
   "cell_type": "code",
   "execution_count": 113,
   "id": "35b263c7-230e-43e1-9a45-a592a90a505c",
   "metadata": {},
   "outputs": [
    {
     "data": {
      "image/png": "[encoded data removed]",
      "text/plain": [
       "<Figure size 1400x800 with 1 Axes>"
      ]
     },
     "metadata": {},
     "output_type": "display_data"
    }
   ],
   "source": [
    "plot_feature_importance(c_stop_go_features_res, \"baseline_correct_feature.jpg\", n=1)"
   ]
  },
  {
   "cell_type": "markdown",
   "id": "435fa09a-71ec-446a-804c-4bf0270b5a7d",
   "metadata": {},
   "source": [
    "---"
   ]
  },
  {
   "cell_type": "code",
   "execution_count": 20,
   "id": "a6707696",
   "metadata": {},
   "outputs": [
    {
     "name": "stdout",
     "output_type": "stream",
     "text": [
      "X_train shape: (4500, 80)\n",
      "X_test shape: (1126, 80)\n",
      "y_train shape: (4500,)\n",
      "y_test shape: (1126,)\n"
     ]
    },
    {
     "data": {
      "text/markdown": [
       "### Running `Baseline Correct Stop vs. Correct Go, Feature Selection` experiment"
      ],
      "text/plain": [
       "<IPython.core.display.Markdown object>"
      ]
     },
     "metadata": {},
     "output_type": "display_data"
    },
    {
     "data": {
      "text/markdown": [
       "**=====================================================================**"
      ],
      "text/plain": [
       "<IPython.core.display.Markdown object>"
      ]
     },
     "metadata": {},
     "output_type": "display_data"
    },
    {
     "data": {
      "text/markdown": [
       "**Trying SVC........**"
      ],
      "text/plain": [
       "<IPython.core.display.Markdown object>"
      ]
     },
     "metadata": {},
     "output_type": "display_data"
    },
    {
     "name": "stdout",
     "output_type": "stream",
     "text": [
      "Average cross-validation score: 58.733%\n",
      "╒════════════╤═════════════════════╤════════════╤═══════════╤═════════════╕\n",
      "│   Accuracy │   Balanced Accuracy │   f1 Score │   ROC AUC │   Precision │\n",
      "╞════════════╪═════════════════════╪════════════╪═══════════╪═════════════╡\n",
      "│    0.60746 │            0.598094 │   0.518519 │  0.598094 │    0.608696 │\n",
      "╘════════════╧═════════════════════╧════════════╧═══════════╧═════════════╛\n"
     ]
    },
    {
     "data": {
      "text/markdown": [
       "**Trying LogisticRegression........**"
      ],
      "text/plain": [
       "<IPython.core.display.Markdown object>"
      ]
     },
     "metadata": {},
     "output_type": "display_data"
    },
    {
     "name": "stdout",
     "output_type": "stream",
     "text": [
      "Average cross-validation score: 56.844%\n",
      "╒════════════╤═════════════════════╤════════════╤═══════════╤═════════════╕\n",
      "│   Accuracy │   Balanced Accuracy │   f1 Score │   ROC AUC │   Precision │\n",
      "╞════════════╪═════════════════════╪════════════╪═══════════╪═════════════╡\n",
      "│   0.594139 │            0.587854 │   0.530319 │  0.587854 │    0.578475 │\n",
      "╘════════════╧═════════════════════╧════════════╧═══════════╧═════════════╛\n"
     ]
    },
    {
     "data": {
      "text/markdown": [
       "**Trying RandomForestClassifier........**"
      ],
      "text/plain": [
       "<IPython.core.display.Markdown object>"
      ]
     },
     "metadata": {},
     "output_type": "display_data"
    },
    {
     "name": "stdout",
     "output_type": "stream",
     "text": [
      "Average cross-validation score: 53.844%\n",
      "╒════════════╤═════════════════════╤════════════╤═══════════╤═════════════╕\n",
      "│   Accuracy │   Balanced Accuracy │   f1 Score │   ROC AUC │   Precision │\n",
      "╞════════════╪═════════════════════╪════════════╪═══════════╪═════════════╡\n",
      "│   0.566607 │            0.556959 │   0.467249 │  0.556959 │    0.550129 │\n",
      "╘════════════╧═════════════════════╧════════════╧═══════════╧═════════════╛\n"
     ]
    },
    {
     "data": {
      "text/markdown": [
       "**Trying KNeighborsClassifier........**"
      ],
      "text/plain": [
       "<IPython.core.display.Markdown object>"
      ]
     },
     "metadata": {},
     "output_type": "display_data"
    },
    {
     "name": "stdout",
     "output_type": "stream",
     "text": [
      "Average cross-validation score: 53.222%\n",
      "╒════════════╤═════════════════════╤════════════╤═══════════╤═════════════╕\n",
      "│   Accuracy │   Balanced Accuracy │   f1 Score │   ROC AUC │   Precision │\n",
      "╞════════════╪═════════════════════╪════════════╪═══════════╪═════════════╡\n",
      "│   0.564831 │            0.553579 │   0.448198 │  0.553579 │    0.551247 │\n",
      "╘════════════╧═════════════════════╧════════════╧═══════════╧═════════════╛\n"
     ]
    },
    {
     "data": {
      "text/markdown": [
       "**Trying MLPClassifier........**"
      ],
      "text/plain": [
       "<IPython.core.display.Markdown object>"
      ]
     },
     "metadata": {},
     "output_type": "display_data"
    },
    {
     "name": "stdout",
     "output_type": "stream",
     "text": [
      "Average cross-validation score: 49.711%\n",
      "╒════════════╤═════════════════════╤════════════╤═══════════╤═════════════╕\n",
      "│   Accuracy │   Balanced Accuracy │   f1 Score │   ROC AUC │   Precision │\n",
      "╞════════════╪═════════════════════╪════════════╪═══════════╪═════════════╡\n",
      "│   0.497336 │            0.515343 │    0.59744 │  0.515343 │    0.477816 │\n",
      "╘════════════╧═════════════════════╧════════════╧═══════════╧═════════════╛\n"
     ]
    }
   ],
   "source": [
    "X = c_stop_res[c_stop_res[\"eventname\"] == BASELINE][c_stop_go_features_res]\n",
    "X = z_normalize(X)\n",
    "y = c_stop_res.iloc[X.index][TARGET]\n",
    "\n",
    "X = feature_select(X, y, num_features=80)\n",
    "\n",
    "X_train, X_test, y_train, y_test = get_split(X, y)\n",
    "run_standard_models(\"Baseline Correct Stop vs. Correct Go, Feature Selection\", X_train, X_test, y_train, y_test)"
   ]
  },
  {
   "cell_type": "code",
   "execution_count": 108,
   "id": "f2c72bef",
   "metadata": {},
   "outputs": [
    {
     "name": "stdout",
     "output_type": "stream",
     "text": [
      "X_train shape: (4500, 148)\n",
      "X_test shape: (1126, 148)\n",
      "y_train shape: (4500,)\n",
      "y_test shape: (1126,)\n"
     ]
    },
    {
     "data": {
      "text/markdown": [
       "### Running `Baseline Incorrect Stop vs. Correct Go` experiment"
      ],
      "text/plain": [
       "<IPython.core.display.Markdown object>"
      ]
     },
     "metadata": {},
     "output_type": "display_data"
    },
    {
     "data": {
      "text/markdown": [
       "**=====================================================================**"
      ],
      "text/plain": [
       "<IPython.core.display.Markdown object>"
      ]
     },
     "metadata": {},
     "output_type": "display_data"
    },
    {
     "data": {
      "text/markdown": [
       "**Trying SVC........**"
      ],
      "text/plain": [
       "<IPython.core.display.Markdown object>"
      ]
     },
     "metadata": {},
     "output_type": "display_data"
    },
    {
     "name": "stdout",
     "output_type": "stream",
     "text": [
      "Average cross-validation score: 60.889%\n",
      "╒════════════╤═════════════════════╤════════════╤═══════════╤═════════════╕\n",
      "│   Accuracy │   Balanced Accuracy │   f1 Score │   ROC AUC │   Precision │\n",
      "╞════════════╪═════════════════════╪════════════╪═══════════╪═════════════╡\n",
      "│   0.611901 │            0.604548 │   0.541448 │  0.604548 │    0.605634 │\n",
      "╘════════════╧═════════════════════╧════════════╧═══════════╧═════════════╛\n"
     ]
    },
    {
     "data": {
      "text/markdown": [
       "**Trying LogisticRegression........**"
      ],
      "text/plain": [
       "<IPython.core.display.Markdown object>"
      ]
     },
     "metadata": {},
     "output_type": "display_data"
    },
    {
     "name": "stdout",
     "output_type": "stream",
     "text": [
      "Average cross-validation score: 60.556%\n",
      "╒════════════╤═════════════════════╤════════════╤═══════════╤═════════════╕\n",
      "│   Accuracy │   Balanced Accuracy │   f1 Score │   ROC AUC │   Precision │\n",
      "╞════════════╪═════════════════════╪════════════╪═══════════╪═════════════╡\n",
      "│   0.598579 │            0.592825 │   0.539715 │  0.592825 │    0.582418 │\n",
      "╘════════════╧═════════════════════╧════════════╧═══════════╧═════════════╛\n"
     ]
    },
    {
     "data": {
      "text/markdown": [
       "**Trying RandomForestClassifier........**"
      ],
      "text/plain": [
       "<IPython.core.display.Markdown object>"
      ]
     },
     "metadata": {},
     "output_type": "display_data"
    },
    {
     "name": "stdout",
     "output_type": "stream",
     "text": [
      "Average cross-validation score: 56.378%\n",
      "╒════════════╤═════════════════════╤════════════╤═══════════╤═════════════╕\n",
      "│   Accuracy │   Balanced Accuracy │   f1 Score │   ROC AUC │   Precision │\n",
      "╞════════════╪═════════════════════╪════════════╪═══════════╪═════════════╡\n",
      "│   0.561279 │            0.553776 │    0.48218 │  0.553776 │    0.538642 │\n",
      "╘════════════╧═════════════════════╧════════════╧═══════════╧═════════════╛\n"
     ]
    },
    {
     "data": {
      "text/markdown": [
       "**Trying KNeighborsClassifier........**"
      ],
      "text/plain": [
       "<IPython.core.display.Markdown object>"
      ]
     },
     "metadata": {},
     "output_type": "display_data"
    },
    {
     "name": "stdout",
     "output_type": "stream",
     "text": [
      "Average cross-validation score: 53.867%\n",
      "╒════════════╤═════════════════════╤════════════╤═══════════╤═════════════╕\n",
      "│   Accuracy │   Balanced Accuracy │   f1 Score │   ROC AUC │   Precision │\n",
      "╞════════════╪═════════════════════╪════════════╪═══════════╪═════════════╡\n",
      "│   0.547957 │            0.537035 │   0.431285 │  0.537035 │    0.524457 │\n",
      "╘════════════╧═════════════════════╧════════════╧═══════════╧═════════════╛\n"
     ]
    },
    {
     "data": {
      "text/markdown": [
       "**Trying MLPClassifier........**"
      ],
      "text/plain": [
       "<IPython.core.display.Markdown object>"
      ]
     },
     "metadata": {},
     "output_type": "display_data"
    },
    {
     "name": "stdout",
     "output_type": "stream",
     "text": [
      "Average cross-validation score: 58.089%\n",
      "╒════════════╤═════════════════════╤════════════╤═══════════╤═════════════╕\n",
      "│   Accuracy │   Balanced Accuracy │   f1 Score │   ROC AUC │   Precision │\n",
      "╞════════════╪═════════════════════╪════════════╪═══════════╪═════════════╡\n",
      "│   0.611901 │            0.597934 │   0.477897 │  0.597934 │    0.645161 │\n",
      "╘════════════╧═════════════════════╧════════════╧═══════════╧═════════════╛\n"
     ]
    }
   ],
   "source": [
    "X = i_stop_res[i_stop_res[\"eventname\"] == BASELINE][i_stop_go_features_res]\n",
    "X = z_normalize(X)\n",
    "y = i_stop_res.iloc[X.index][TARGET]\n",
    "\n",
    "X_train, X_test, y_train, y_test = get_split(X, y)\n",
    "trained_models = run_standard_models(\"Baseline Incorrect Stop vs. Correct Go\", X_train, X_test, y_train, y_test)"
   ]
  },
  {
   "cell_type": "code",
   "execution_count": 109,
   "id": "579335f4-ecfb-4a3c-9d6b-8d7a9322b040",
   "metadata": {},
   "outputs": [
    {
     "name": "stdout",
     "output_type": "stream",
     "text": [
      "SVC\n",
      "╒════════════╤═════════════════════╤════════════╤═══════════╤═════════════╕\n",
      "│   Accuracy │   Balanced Accuracy │   f1 Score │   ROC AUC │   Precision │\n",
      "╞════════════╪═════════════════════╪════════════╪═══════════╪═════════════╡\n",
      "│   0.549521 │            0.528036 │   0.184971 │  0.528036 │    0.653061 │\n",
      "╘════════════╧═════════════════════╧════════════╧═══════════╧═════════════╛\n",
      "Logistic Regression\n",
      "╒════════════╤═════════════════════╤════════════╤═══════════╤═════════════╕\n",
      "│   Accuracy │   Balanced Accuracy │   f1 Score │   ROC AUC │   Precision │\n",
      "╞════════════╪═════════════════════╪════════════╪═══════════╪═════════════╡\n",
      "│   0.579872 │            0.574105 │   0.510242 │  0.574105 │    0.570833 │\n",
      "╘════════════╧═════════════════════╧════════════╧═══════════╧═════════════╛\n",
      "RandomForestClassifier\n",
      "╒════════════╤═════════════════════╤════════════╤═══════════╤═════════════╕\n",
      "│   Accuracy │   Balanced Accuracy │   f1 Score │   ROC AUC │   Precision │\n",
      "╞════════════╪═════════════════════╪════════════╪═══════════╪═════════════╡\n",
      "│   0.528754 │            0.507952 │   0.169014 │  0.507952 │    0.517241 │\n",
      "╘════════════╧═════════════════════╧════════════╧═══════════╧═════════════╛\n",
      "KNeighborsClassifier\n",
      "╒════════════╤═════════════════════╤════════════╤═══════════╤═════════════╕\n",
      "│   Accuracy │   Balanced Accuracy │   f1 Score │   ROC AUC │   Precision │\n",
      "╞════════════╪═════════════════════╪════════════╪═══════════╪═════════════╡\n",
      "│   0.533546 │            0.510219 │  0.0987654 │  0.510219 │    0.592593 │\n",
      "╘════════════╧═════════════════════╧════════════╧═══════════╧═════════════╛\n",
      "MLPClassifier\n",
      "╒════════════╤═════════════════════╤════════════╤═══════════╤═════════════╕\n",
      "│   Accuracy │   Balanced Accuracy │   f1 Score │   ROC AUC │   Precision │\n",
      "╞════════════╪═════════════════════╪════════════╪═══════════╪═════════════╡\n",
      "│   0.549521 │            0.550797 │   0.548077 │  0.550797 │    0.522936 │\n",
      "╘════════════╧═════════════════════╧════════════╧═══════════╧═════════════╛\n"
     ]
    }
   ],
   "source": [
    "eval_standard_models(test_i_stop_res[test_i_stop_res[\"eventname\"] == BASELINE], i_stop_go_features_res, trained_models)"
   ]
  },
  {
   "cell_type": "code",
   "execution_count": 110,
   "id": "32e27799-4cfe-440d-a188-cff896180715",
   "metadata": {},
   "outputs": [
    {
     "data": {
      "image/png": "[encoded data removed]",
      "text/plain": [
       "<Figure size 1400x800 with 1 Axes>"
      ]
     },
     "metadata": {},
     "output_type": "display_data"
    }
   ],
   "source": [
    "plot_feature_importance(i_stop_go_features_res, \"baseline_incorrect_feature.jpg\", n=1)"
   ]
  },
  {
   "cell_type": "code",
   "execution_count": 57,
   "id": "d7f061f5",
   "metadata": {},
   "outputs": [
    {
     "name": "stdout",
     "output_type": "stream",
     "text": [
      "X_train shape: (4500, 80)\n",
      "X_test shape: (1126, 80)\n",
      "y_train shape: (4500,)\n",
      "y_test shape: (1126,)\n"
     ]
    },
    {
     "data": {
      "text/markdown": [
       "### Running `Baseline Incorrect Stop vs. Correct Go, Feature Selection` experiment"
      ],
      "text/plain": [
       "<IPython.core.display.Markdown object>"
      ]
     },
     "metadata": {},
     "output_type": "display_data"
    },
    {
     "data": {
      "text/markdown": [
       "**=====================================================================**"
      ],
      "text/plain": [
       "<IPython.core.display.Markdown object>"
      ]
     },
     "metadata": {},
     "output_type": "display_data"
    },
    {
     "data": {
      "text/markdown": [
       "**Trying SVC........**"
      ],
      "text/plain": [
       "<IPython.core.display.Markdown object>"
      ]
     },
     "metadata": {},
     "output_type": "display_data"
    },
    {
     "name": "stdout",
     "output_type": "stream",
     "text": [
      "Average cross-validation score: 60.400%\n",
      "╒════════════╤═════════════════════╤════════════╤═══════════╤═════════════╕\n",
      "│   Accuracy │   Balanced Accuracy │   f1 Score │   ROC AUC │   Precision │\n",
      "╞════════════╪═════════════════════╪════════════╪═══════════╪═════════════╡\n",
      "│   0.618117 │            0.611189 │   0.552083 │  0.611189 │    0.612009 │\n",
      "╘════════════╧═════════════════════╧════════════╧═══════════╧═════════════╛\n"
     ]
    },
    {
     "data": {
      "text/markdown": [
       "**Trying LogisticRegression........**"
      ],
      "text/plain": [
       "<IPython.core.display.Markdown object>"
      ]
     },
     "metadata": {},
     "output_type": "display_data"
    },
    {
     "name": "stdout",
     "output_type": "stream",
     "text": [
      "Average cross-validation score: 61.356%\n",
      "╒════════════╤═════════════════════╤════════════╤═══════════╤═════════════╕\n",
      "│   Accuracy │   Balanced Accuracy │   f1 Score │   ROC AUC │   Precision │\n",
      "╞════════════╪═════════════════════╪════════════╪═══════════╪═════════════╡\n",
      "│   0.601243 │            0.595786 │   0.545086 │  0.595786 │    0.584783 │\n",
      "╘════════════╧═════════════════════╧════════════╧═══════════╧═════════════╛\n"
     ]
    },
    {
     "data": {
      "text/markdown": [
       "**Trying RandomForestClassifier........**"
      ],
      "text/plain": [
       "<IPython.core.display.Markdown object>"
      ]
     },
     "metadata": {},
     "output_type": "display_data"
    },
    {
     "name": "stdout",
     "output_type": "stream",
     "text": [
      "Average cross-validation score: 57.600%\n",
      "╒════════════╤═════════════════════╤════════════╤═══════════╤═════════════╕\n",
      "│   Accuracy │   Balanced Accuracy │   f1 Score │   ROC AUC │   Precision │\n",
      "╞════════════╪═════════════════════╪════════════╪═══════════╪═════════════╡\n",
      "│   0.577265 │            0.572222 │   0.522088 │  0.572222 │    0.554371 │\n",
      "╘════════════╧═════════════════════╧════════════╧═══════════╧═════════════╛\n"
     ]
    },
    {
     "data": {
      "text/markdown": [
       "**Trying KNeighborsClassifier........**"
      ],
      "text/plain": [
       "<IPython.core.display.Markdown object>"
      ]
     },
     "metadata": {},
     "output_type": "display_data"
    },
    {
     "name": "stdout",
     "output_type": "stream",
     "text": [
      "Average cross-validation score: 54.867%\n",
      "╒════════════╤═════════════════════╤════════════╤═══════════╤═════════════╕\n",
      "│   Accuracy │   Balanced Accuracy │   f1 Score │   ROC AUC │   Precision │\n",
      "╞════════════╪═════════════════════╪════════════╪═══════════╪═════════════╡\n",
      "│   0.525755 │            0.515597 │   0.413187 │  0.515597 │    0.490862 │\n",
      "╘════════════╧═════════════════════╧════════════╧═══════════╧═════════════╛\n"
     ]
    },
    {
     "data": {
      "text/markdown": [
       "**Trying MLPClassifier........**"
      ],
      "text/plain": [
       "<IPython.core.display.Markdown object>"
      ]
     },
     "metadata": {},
     "output_type": "display_data"
    },
    {
     "name": "stdout",
     "output_type": "stream",
     "text": [
      "Average cross-validation score: 54.667%\n",
      "╒════════════╤═════════════════════╤════════════╤═══════════╤═════════════╕\n",
      "│   Accuracy │   Balanced Accuracy │   f1 Score │   ROC AUC │   Precision │\n",
      "╞════════════╪═════════════════════╪════════════╪═══════════╪═════════════╡\n",
      "│   0.541741 │            0.553886 │   0.603077 │  0.553886 │    0.507115 │\n",
      "╘════════════╧═════════════════════╧════════════╧═══════════╧═════════════╛\n"
     ]
    }
   ],
   "source": [
    "X = i_stop_res[i_stop_res[\"eventname\"] == BASELINE][i_stop_go_features_res]\n",
    "X = z_normalize(X)\n",
    "y = i_stop_res.iloc[X.index][TARGET]\n",
    "\n",
    "X = feature_select(X, y, num_features=80)\n",
    "\n",
    "X_train, X_test, y_train, y_test = get_split(X, y)\n",
    "trained_models = run_standard_models(\"Baseline Incorrect Stop vs. Correct Go, Feature Selection\", X_train, X_test, y_train, y_test)"
   ]
  },
  {
   "cell_type": "markdown",
   "id": "dc01ae50",
   "metadata": {},
   "source": [
    "### Followup"
   ]
  },
  {
   "cell_type": "code",
   "execution_count": 23,
   "id": "5b76971d",
   "metadata": {},
   "outputs": [
    {
     "name": "stdout",
     "output_type": "stream",
     "text": [
      "X_train shape: (4501, 148)\n",
      "X_test shape: (1126, 148)\n",
      "y_train shape: (4501,)\n",
      "y_test shape: (1126,)\n"
     ]
    },
    {
     "data": {
      "text/markdown": [
       "### Running `Followup Correct Stop vs. Correct Go` experiment"
      ],
      "text/plain": [
       "<IPython.core.display.Markdown object>"
      ]
     },
     "metadata": {},
     "output_type": "display_data"
    },
    {
     "data": {
      "text/markdown": [
       "**=====================================================================**"
      ],
      "text/plain": [
       "<IPython.core.display.Markdown object>"
      ]
     },
     "metadata": {},
     "output_type": "display_data"
    },
    {
     "data": {
      "text/markdown": [
       "**Trying SVC........**"
      ],
      "text/plain": [
       "<IPython.core.display.Markdown object>"
      ]
     },
     "metadata": {},
     "output_type": "display_data"
    },
    {
     "name": "stdout",
     "output_type": "stream",
     "text": [
      "Average cross-validation score: 60.964%\n",
      "╒════════════╤═════════════════════╤════════════╤═══════════╤═════════════╕\n",
      "│   Accuracy │   Balanced Accuracy │   f1 Score │   ROC AUC │   Precision │\n",
      "╞════════════╪═════════════════════╪════════════╪═══════════╪═════════════╡\n",
      "│   0.594139 │             0.59232 │   0.520462 │   0.59232 │    0.624685 │\n",
      "╘════════════╧═════════════════════╧════════════╧═══════════╧═════════════╛\n"
     ]
    },
    {
     "data": {
      "text/markdown": [
       "**Trying LogisticRegression........**"
      ],
      "text/plain": [
       "<IPython.core.display.Markdown object>"
      ]
     },
     "metadata": {},
     "output_type": "display_data"
    },
    {
     "name": "stdout",
     "output_type": "stream",
     "text": [
      "Average cross-validation score: 59.587%\n",
      "╒════════════╤═════════════════════╤════════════╤═══════════╤═════════════╕\n",
      "│   Accuracy │   Balanced Accuracy │   f1 Score │   ROC AUC │   Precision │\n",
      "╞════════════╪═════════════════════╪════════════╪═══════════╪═════════════╡\n",
      "│   0.585258 │            0.584078 │   0.538081 │  0.584078 │    0.597802 │\n",
      "╘════════════╧═════════════════════╧════════════╧═══════════╧═════════════╛\n"
     ]
    },
    {
     "data": {
      "text/markdown": [
       "**Trying RandomForestClassifier........**"
      ],
      "text/plain": [
       "<IPython.core.display.Markdown object>"
      ]
     },
     "metadata": {},
     "output_type": "display_data"
    },
    {
     "name": "stdout",
     "output_type": "stream",
     "text": [
      "Average cross-validation score: 56.409%\n",
      "╒════════════╤═════════════════════╤════════════╤═══════════╤═════════════╕\n",
      "│   Accuracy │   Balanced Accuracy │   f1 Score │   ROC AUC │   Precision │\n",
      "╞════════════╪═════════════════════╪════════════╪═══════════╪═════════════╡\n",
      "│   0.568384 │             0.56655 │   0.489496 │   0.56655 │    0.588384 │\n",
      "╘════════════╧═════════════════════╧════════════╧═══════════╧═════════════╛\n"
     ]
    },
    {
     "data": {
      "text/markdown": [
       "**Trying KNeighborsClassifier........**"
      ],
      "text/plain": [
       "<IPython.core.display.Markdown object>"
      ]
     },
     "metadata": {},
     "output_type": "display_data"
    },
    {
     "name": "stdout",
     "output_type": "stream",
     "text": [
      "Average cross-validation score: 53.988%\n",
      "╒════════════╤═════════════════════╤════════════╤═══════════╤═════════════╕\n",
      "│   Accuracy │   Balanced Accuracy │   f1 Score │   ROC AUC │   Precision │\n",
      "╞════════════╪═════════════════════╪════════════╪═══════════╪═════════════╡\n",
      "│   0.539964 │            0.539209 │   0.506667 │  0.539209 │    0.538462 │\n",
      "╘════════════╧═════════════════════╧════════════╧═══════════╧═════════════╛\n"
     ]
    },
    {
     "data": {
      "text/markdown": [
       "**Trying MLPClassifier........**"
      ],
      "text/plain": [
       "<IPython.core.display.Markdown object>"
      ]
     },
     "metadata": {},
     "output_type": "display_data"
    },
    {
     "name": "stdout",
     "output_type": "stream",
     "text": [
      "Average cross-validation score: 57.743%\n",
      "╒════════════╤═════════════════════╤════════════╤═══════════╤═════════════╕\n",
      "│   Accuracy │   Balanced Accuracy │   f1 Score │   ROC AUC │   Precision │\n",
      "╞════════════╪═════════════════════╪════════════╪═══════════╪═════════════╡\n",
      "│   0.563055 │            0.559586 │    0.38806 │  0.559586 │    0.629032 │\n",
      "╘════════════╧═════════════════════╧════════════╧═══════════╧═════════════╛\n"
     ]
    }
   ],
   "source": [
    "X = c_stop_res[c_stop_res[\"eventname\"] == FOLLOWUP][c_stop_go_features_res]\n",
    "X = z_normalize(X)\n",
    "y = c_stop_res.iloc[X.index][TARGET]\n",
    "\n",
    "X_train, X_test, y_train, y_test = get_split(X, y)\n",
    "run_standard_models(\"Followup Correct Stop vs. Correct Go\", X_train, X_test, y_train, y_test)"
   ]
  },
  {
   "cell_type": "code",
   "execution_count": 24,
   "id": "f1fc7f51",
   "metadata": {},
   "outputs": [
    {
     "name": "stdout",
     "output_type": "stream",
     "text": [
      "X_train shape: (4501, 80)\n",
      "X_test shape: (1126, 80)\n",
      "y_train shape: (4501,)\n",
      "y_test shape: (1126,)\n"
     ]
    },
    {
     "data": {
      "text/markdown": [
       "### Running `Followup Correct Stop vs. Correct Go, Feature Selection` experiment"
      ],
      "text/plain": [
       "<IPython.core.display.Markdown object>"
      ]
     },
     "metadata": {},
     "output_type": "display_data"
    },
    {
     "data": {
      "text/markdown": [
       "**=====================================================================**"
      ],
      "text/plain": [
       "<IPython.core.display.Markdown object>"
      ]
     },
     "metadata": {},
     "output_type": "display_data"
    },
    {
     "data": {
      "text/markdown": [
       "**Trying SVC........**"
      ],
      "text/plain": [
       "<IPython.core.display.Markdown object>"
      ]
     },
     "metadata": {},
     "output_type": "display_data"
    },
    {
     "name": "stdout",
     "output_type": "stream",
     "text": [
      "Average cross-validation score: 58.120%\n",
      "╒════════════╤═════════════════════╤════════════╤═══════════╤═════════════╕\n",
      "│   Accuracy │   Balanced Accuracy │   f1 Score │   ROC AUC │   Precision │\n",
      "╞════════════╪═════════════════════╪════════════╪═══════════╪═════════════╡\n",
      "│   0.578153 │            0.576111 │    0.49089 │  0.576111 │    0.607427 │\n",
      "╘════════════╧═════════════════════╧════════════╧═══════════╧═════════════╛\n"
     ]
    },
    {
     "data": {
      "text/markdown": [
       "**Trying LogisticRegression........**"
      ],
      "text/plain": [
       "<IPython.core.display.Markdown object>"
      ]
     },
     "metadata": {},
     "output_type": "display_data"
    },
    {
     "name": "stdout",
     "output_type": "stream",
     "text": [
      "Average cross-validation score: 57.876%\n",
      "╒════════════╤═════════════════════╤════════════╤═══════════╤═════════════╕\n",
      "│   Accuracy │   Balanced Accuracy │   f1 Score │   ROC AUC │   Precision │\n",
      "╞════════════╪═════════════════════╪════════════╪═══════════╪═════════════╡\n",
      "│   0.568384 │             0.56697 │   0.509091 │   0.56697 │    0.580645 │\n",
      "╘════════════╧═════════════════════╧════════════╧═══════════╧═════════════╛\n"
     ]
    },
    {
     "data": {
      "text/markdown": [
       "**Trying RandomForestClassifier........**"
      ],
      "text/plain": [
       "<IPython.core.display.Markdown object>"
      ]
     },
     "metadata": {},
     "output_type": "display_data"
    },
    {
     "name": "stdout",
     "output_type": "stream",
     "text": [
      "Average cross-validation score: 54.877%\n",
      "╒════════════╤═════════════════════╤════════════╤═══════════╤═════════════╕\n",
      "│   Accuracy │   Balanced Accuracy │   f1 Score │   ROC AUC │   Precision │\n",
      "╞════════════╪═════════════════════╪════════════╪═══════════╪═════════════╡\n",
      "│    0.55151 │            0.549707 │   0.471204 │  0.549707 │     0.56391 │\n",
      "╘════════════╧═════════════════════╧════════════╧═══════════╧═════════════╛\n"
     ]
    },
    {
     "data": {
      "text/markdown": [
       "**Trying KNeighborsClassifier........**"
      ],
      "text/plain": [
       "<IPython.core.display.Markdown object>"
      ]
     },
     "metadata": {},
     "output_type": "display_data"
    },
    {
     "name": "stdout",
     "output_type": "stream",
     "text": [
      "Average cross-validation score: 53.322%\n",
      "╒════════════╤═════════════════════╤════════════╤═══════════╤═════════════╕\n",
      "│   Accuracy │   Balanced Accuracy │   f1 Score │   ROC AUC │   Precision │\n",
      "╞════════════╪═════════════════════╪════════════╪═══════════╪═════════════╡\n",
      "│   0.527531 │            0.526972 │   0.501873 │  0.526972 │    0.523438 │\n",
      "╘════════════╧═════════════════════╧════════════╧═══════════╧═════════════╛\n"
     ]
    },
    {
     "data": {
      "text/markdown": [
       "**Trying MLPClassifier........**"
      ],
      "text/plain": [
       "<IPython.core.display.Markdown object>"
      ]
     },
     "metadata": {},
     "output_type": "display_data"
    },
    {
     "name": "stdout",
     "output_type": "stream",
     "text": [
      "Average cross-validation score: 52.278%\n",
      "╒════════════╤═════════════════════╤════════════╤═══════════╤═════════════╕\n",
      "│   Accuracy │   Balanced Accuracy │   f1 Score │   ROC AUC │   Precision │\n",
      "╞════════════╪═════════════════════╪════════════╪═══════════╪═════════════╡\n",
      "│    0.51421 │            0.508911 │   0.143975 │  0.508911 │    0.554217 │\n",
      "╘════════════╧═════════════════════╧════════════╧═══════════╧═════════════╛\n"
     ]
    }
   ],
   "source": [
    "X = c_stop_res[c_stop_res[\"eventname\"] == FOLLOWUP][c_stop_go_features_res]\n",
    "X = z_normalize(X)\n",
    "y = c_stop_res.iloc[X.index][TARGET]\n",
    "\n",
    "X = feature_select(X, y, num_features=80)\n",
    "\n",
    "X_train, X_test, y_train, y_test = get_split(X, y)\n",
    "run_standard_models(\"Followup Correct Stop vs. Correct Go, Feature Selection\", X_train, X_test, y_train, y_test)"
   ]
  },
  {
   "cell_type": "code",
   "execution_count": 114,
   "id": "71743e66",
   "metadata": {},
   "outputs": [
    {
     "name": "stdout",
     "output_type": "stream",
     "text": [
      "X_train shape: (4501, 148)\n",
      "X_test shape: (1126, 148)\n",
      "y_train shape: (4501,)\n",
      "y_test shape: (1126,)\n"
     ]
    },
    {
     "data": {
      "text/markdown": [
       "### Running `Followup Incorrect Stop vs. Correct Go` experiment"
      ],
      "text/plain": [
       "<IPython.core.display.Markdown object>"
      ]
     },
     "metadata": {},
     "output_type": "display_data"
    },
    {
     "data": {
      "text/markdown": [
       "**=====================================================================**"
      ],
      "text/plain": [
       "<IPython.core.display.Markdown object>"
      ]
     },
     "metadata": {},
     "output_type": "display_data"
    },
    {
     "data": {
      "text/markdown": [
       "**Trying SVC........**"
      ],
      "text/plain": [
       "<IPython.core.display.Markdown object>"
      ]
     },
     "metadata": {},
     "output_type": "display_data"
    },
    {
     "name": "stdout",
     "output_type": "stream",
     "text": [
      "Average cross-validation score: 62.675%\n",
      "╒════════════╤═════════════════════╤════════════╤═══════════╤═════════════╕\n",
      "│   Accuracy │   Balanced Accuracy │   f1 Score │   ROC AUC │   Precision │\n",
      "╞════════════╪═════════════════════╪════════════╪═══════════╪═════════════╡\n",
      "│    0.62611 │            0.624606 │   0.570846 │  0.624606 │    0.658824 │\n",
      "╘════════════╧═════════════════════╧════════════╧═══════════╧═════════════╛\n"
     ]
    },
    {
     "data": {
      "text/markdown": [
       "**Trying LogisticRegression........**"
      ],
      "text/plain": [
       "<IPython.core.display.Markdown object>"
      ]
     },
     "metadata": {},
     "output_type": "display_data"
    },
    {
     "name": "stdout",
     "output_type": "stream",
     "text": [
      "Average cross-validation score: 62.542%\n",
      "╒════════════╤═════════════════════╤════════════╤═══════════╤═════════════╕\n",
      "│   Accuracy │   Balanced Accuracy │   f1 Score │   ROC AUC │   Precision │\n",
      "╞════════════╪═════════════════════╪════════════╪═══════════╪═════════════╡\n",
      "│   0.635879 │            0.634741 │   0.595661 │  0.634741 │    0.659389 │\n",
      "╘════════════╧═════════════════════╧════════════╧═══════════╧═════════════╛\n"
     ]
    },
    {
     "data": {
      "text/markdown": [
       "**Trying RandomForestClassifier........**"
      ],
      "text/plain": [
       "<IPython.core.display.Markdown object>"
      ]
     },
     "metadata": {},
     "output_type": "display_data"
    },
    {
     "name": "stdout",
     "output_type": "stream",
     "text": [
      "Average cross-validation score: 58.943%\n",
      "╒════════════╤═════════════════════╤════════════╤═══════════╤═════════════╕\n",
      "│   Accuracy │   Balanced Accuracy │   f1 Score │   ROC AUC │   Precision │\n",
      "╞════════════╪═════════════════════╪════════════╪═══════════╪═════════════╡\n",
      "│   0.592362 │            0.590654 │   0.523364 │  0.590654 │    0.619165 │\n",
      "╘════════════╧═════════════════════╧════════════╧═══════════╧═════════════╛\n"
     ]
    },
    {
     "data": {
      "text/markdown": [
       "**Trying KNeighborsClassifier........**"
      ],
      "text/plain": [
       "<IPython.core.display.Markdown object>"
      ]
     },
     "metadata": {},
     "output_type": "display_data"
    },
    {
     "name": "stdout",
     "output_type": "stream",
     "text": [
      "Average cross-validation score: 55.054%\n",
      "╒════════════╤═════════════════════╤════════════╤═══════════╤═════════════╕\n",
      "│   Accuracy │   Balanced Accuracy │   f1 Score │   ROC AUC │   Precision │\n",
      "╞════════════╪═════════════════════╪════════════╪═══════════╪═════════════╡\n",
      "│   0.540853 │            0.538584 │   0.433735 │  0.538584 │    0.554622 │\n",
      "╘════════════╧═════════════════════╧════════════╧═══════════╧═════════════╛\n"
     ]
    },
    {
     "data": {
      "text/markdown": [
       "**Trying MLPClassifier........**"
      ],
      "text/plain": [
       "<IPython.core.display.Markdown object>"
      ]
     },
     "metadata": {},
     "output_type": "display_data"
    },
    {
     "name": "stdout",
     "output_type": "stream",
     "text": [
      "Average cross-validation score: 59.765%\n",
      "╒════════════╤═════════════════════╤════════════╤═══════════╤═════════════╕\n",
      "│   Accuracy │   Balanced Accuracy │   f1 Score │   ROC AUC │   Precision │\n",
      "╞════════════╪═════════════════════╪════════════╪═══════════╪═════════════╡\n",
      "│   0.598579 │            0.595557 │   0.464455 │  0.595557 │    0.680556 │\n",
      "╘════════════╧═════════════════════╧════════════╧═══════════╧═════════════╛\n"
     ]
    }
   ],
   "source": [
    "X = i_stop_res[i_stop_res[\"eventname\"] == FOLLOWUP][i_stop_go_features_res]\n",
    "X = z_normalize(X)\n",
    "y = i_stop_res.iloc[X.index][TARGET]\n",
    "\n",
    "X_train, X_test, y_train, y_test = get_split(X, y)\n",
    "trained_models = run_standard_models(\"Followup Incorrect Stop vs. Correct Go\", X_train, X_test, y_train, y_test)"
   ]
  },
  {
   "cell_type": "code",
   "execution_count": 115,
   "id": "c1c87faf-388f-458c-a509-ab3a9f4c049e",
   "metadata": {},
   "outputs": [
    {
     "name": "stdout",
     "output_type": "stream",
     "text": [
      "SVC\n",
      "╒════════════╤═════════════════════╤════════════╤═══════════╤═════════════╕\n",
      "│   Accuracy │   Balanced Accuracy │   f1 Score │   ROC AUC │   Precision │\n",
      "╞════════════╪═════════════════════╪════════════╪═══════════╪═════════════╡\n",
      "│     0.5984 │            0.581774 │   0.386308 │  0.581774 │    0.699115 │\n",
      "╘════════════╧═════════════════════╧════════════╧═══════════╧═════════════╛\n",
      "Logistic Regression\n",
      "╒════════════╤═════════════════════╤════════════╤═══════════╤═════════════╕\n",
      "│   Accuracy │   Balanced Accuracy │   f1 Score │   ROC AUC │   Precision │\n",
      "╞════════════╪═════════════════════╪════════════╪═══════════╪═════════════╡\n",
      "│     0.6112 │            0.601557 │   0.505092 │  0.601557 │    0.635897 │\n",
      "╘════════════╧═════════════════════╧════════════╧═══════════╧═════════════╛\n",
      "RandomForestClassifier\n",
      "╒════════════╤═════════════════════╤════════════╤═══════════╤═════════════╕\n",
      "│   Accuracy │   Balanced Accuracy │   f1 Score │   ROC AUC │   Precision │\n",
      "╞════════════╪═════════════════════╪════════════╪═══════════╪═════════════╡\n",
      "│     0.5472 │            0.529076 │   0.279898 │  0.529076 │     0.56701 │\n",
      "╘════════════╧═════════════════════╧════════════╧═══════════╧═════════════╛\n",
      "KNeighborsClassifier\n",
      "╒════════════╤═════════════════════╤════════════╤═══════════╤═════════════╕\n",
      "│   Accuracy │   Balanced Accuracy │   f1 Score │   ROC AUC │   Precision │\n",
      "╞════════════╪═════════════════════╪════════════╪═══════════╪═════════════╡\n",
      "│      0.544 │            0.527222 │   0.303178 │  0.527222 │    0.548673 │\n",
      "╘════════════╧═════════════════════╧════════════╧═══════════╧═════════════╛\n",
      "MLPClassifier\n",
      "╒════════════╤═════════════════════╤════════════╤═══════════╤═════════════╕\n",
      "│   Accuracy │   Balanced Accuracy │   f1 Score │   ROC AUC │   Precision │\n",
      "╞════════════╪═════════════════════╪════════════╪═══════════╪═════════════╡\n",
      "│     0.5632 │            0.558844 │   0.508108 │  0.558844 │    0.544402 │\n",
      "╘════════════╧═════════════════════╧════════════╧═══════════╧═════════════╛\n"
     ]
    }
   ],
   "source": [
    "eval_standard_models(test_i_stop_res[test_i_stop_res[\"eventname\"] == FOLLOWUP], i_stop_go_features_res, trained_models)"
   ]
  },
  {
   "cell_type": "code",
   "execution_count": 116,
   "id": "40ba9f08-6d54-4ada-904d-0145442f178f",
   "metadata": {},
   "outputs": [
    {
     "data": {
      "image/png": "[encoded data removed]",
      "text/plain": [
       "<Figure size 1400x800 with 1 Axes>"
      ]
     },
     "metadata": {},
     "output_type": "display_data"
    }
   ],
   "source": [
    "plot_feature_importance(i_stop_go_features_res, \"followup_incorrect_feature.jpg\", n=1)"
   ]
  },
  {
   "cell_type": "code",
   "execution_count": null,
   "id": "51a6e8df-6dfa-40ae-9466-8e34097ac335",
   "metadata": {},
   "outputs": [],
   "source": []
  },
  {
   "cell_type": "code",
   "execution_count": 49,
   "id": "8da10890",
   "metadata": {},
   "outputs": [
    {
     "name": "stdout",
     "output_type": "stream",
     "text": [
      "X_train shape: (4501, 80)\n",
      "X_test shape: (1126, 80)\n",
      "y_train shape: (4501,)\n",
      "y_test shape: (1126,)\n"
     ]
    },
    {
     "data": {
      "text/markdown": [
       "### Running `Followup Incorrect Stop vs. Correct Go, Feature Selection` experiment"
      ],
      "text/plain": [
       "<IPython.core.display.Markdown object>"
      ]
     },
     "metadata": {},
     "output_type": "display_data"
    },
    {
     "data": {
      "text/markdown": [
       "**=====================================================================**"
      ],
      "text/plain": [
       "<IPython.core.display.Markdown object>"
      ]
     },
     "metadata": {},
     "output_type": "display_data"
    },
    {
     "data": {
      "text/markdown": [
       "**Trying SVC........**"
      ],
      "text/plain": [
       "<IPython.core.display.Markdown object>"
      ]
     },
     "metadata": {},
     "output_type": "display_data"
    },
    {
     "name": "stdout",
     "output_type": "stream",
     "text": [
      "Average cross-validation score: 61.720%\n",
      "╒════════════╤═════════════════════╤════════════╤═══════════╤═════════════╕\n",
      "│   Accuracy │   Balanced Accuracy │   f1 Score │   ROC AUC │   Precision │\n",
      "╞════════════╪═════════════════════╪════════════╪═══════════╪═════════════╡\n",
      "│   0.619005 │            0.617676 │   0.569709 │  0.617676 │    0.643991 │\n",
      "╘════════════╧═════════════════════╧════════════╧═══════════╧═════════════╛\n"
     ]
    },
    {
     "data": {
      "text/markdown": [
       "**Trying LogisticRegression........**"
      ],
      "text/plain": [
       "<IPython.core.display.Markdown object>"
      ]
     },
     "metadata": {},
     "output_type": "display_data"
    },
    {
     "name": "stdout",
     "output_type": "stream",
     "text": [
      "Average cross-validation score: 60.365%\n",
      "╒════════════╤═════════════════════╤════════════╤═══════════╤═════════════╕\n",
      "│   Accuracy │   Balanced Accuracy │   f1 Score │   ROC AUC │   Precision │\n",
      "╞════════════╪═════════════════════╪════════════╪═══════════╪═════════════╡\n",
      "│   0.619005 │            0.617941 │   0.579824 │  0.617941 │    0.636559 │\n",
      "╘════════════╧═════════════════════╧════════════╧═══════════╧═════════════╛\n"
     ]
    },
    {
     "data": {
      "text/markdown": [
       "**Trying RandomForestClassifier........**"
      ],
      "text/plain": [
       "<IPython.core.display.Markdown object>"
      ]
     },
     "metadata": {},
     "output_type": "display_data"
    },
    {
     "name": "stdout",
     "output_type": "stream",
     "text": [
      "Average cross-validation score: 58.232%\n",
      "╒════════════╤═════════════════════╤════════════╤═══════════╤═════════════╕\n",
      "│   Accuracy │   Balanced Accuracy │   f1 Score │   ROC AUC │   Precision │\n",
      "╞════════════╪═════════════════════╪════════════╪═══════════╪═════════════╡\n",
      "│   0.583481 │            0.581595 │   0.504752 │  0.581595 │    0.611253 │\n",
      "╘════════════╧═════════════════════╧════════════╧═══════════╧═════════════╛\n"
     ]
    },
    {
     "data": {
      "text/markdown": [
       "**Trying KNeighborsClassifier........**"
      ],
      "text/plain": [
       "<IPython.core.display.Markdown object>"
      ]
     },
     "metadata": {},
     "output_type": "display_data"
    },
    {
     "name": "stdout",
     "output_type": "stream",
     "text": [
      "Average cross-validation score: 55.343%\n",
      "╒════════════╤═════════════════════╤════════════╤═══════════╤═════════════╕\n",
      "│   Accuracy │   Balanced Accuracy │   f1 Score │   ROC AUC │   Precision │\n",
      "╞════════════╪═════════════════════╪════════════╪═══════════╪═════════════╡\n",
      "│   0.539964 │            0.538082 │   0.453586 │  0.538082 │    0.548469 │\n",
      "╘════════════╧═════════════════════╧════════════╧═══════════╧═════════════╛\n"
     ]
    },
    {
     "data": {
      "text/markdown": [
       "**Trying MLPClassifier........**"
      ],
      "text/plain": [
       "<IPython.core.display.Markdown object>"
      ]
     },
     "metadata": {},
     "output_type": "display_data"
    },
    {
     "name": "stdout",
     "output_type": "stream",
     "text": [
      "Average cross-validation score: 58.054%\n",
      "╒════════════╤═════════════════════╤════════════╤═══════════╤═════════════╕\n",
      "│   Accuracy │   Balanced Accuracy │   f1 Score │   ROC AUC │   Precision │\n",
      "╞════════════╪═════════════════════╪════════════╪═══════════╪═════════════╡\n",
      "│    0.60302 │             0.60372 │   0.621507 │   0.60372 │      0.5872 │\n",
      "╘════════════╧═════════════════════╧════════════╧═══════════╧═════════════╛\n"
     ]
    }
   ],
   "source": [
    "X = i_stop_res[c_stop_res[\"eventname\"] == FOLLOWUP][i_stop_go_features_res]\n",
    "X = z_normalize(X)\n",
    "y = i_stop_res.iloc[X.index][TARGET]\n",
    "\n",
    "X = feature_select(X, y, num_features=80)\n",
    "\n",
    "X_train, X_test, y_train, y_test = get_split(X, y)\n",
    "trained_models = run_standard_models(\"Followup Incorrect Stop vs. Correct Go, Feature Selection\", X_train, X_test, y_train, y_test)"
   ]
  },
  {
   "cell_type": "markdown",
   "id": "dfcd7254",
   "metadata": {},
   "source": [
    "### Followup - Baseline"
   ]
  },
  {
   "cell_type": "code",
   "execution_count": 27,
   "id": "34cda0d7",
   "metadata": {},
   "outputs": [
    {
     "name": "stdout",
     "output_type": "stream",
     "text": [
      "X_train shape: (4500, 148)\n",
      "X_test shape: (1126, 148)\n",
      "y_train shape: (4500,)\n",
      "y_test shape: (1126,)\n"
     ]
    },
    {
     "data": {
      "text/markdown": [
       "### Running `Followup - Baseline, Correct Stop vs. Correct Go` experiment"
      ],
      "text/plain": [
       "<IPython.core.display.Markdown object>"
      ]
     },
     "metadata": {},
     "output_type": "display_data"
    },
    {
     "data": {
      "text/markdown": [
       "**=====================================================================**"
      ],
      "text/plain": [
       "<IPython.core.display.Markdown object>"
      ]
     },
     "metadata": {},
     "output_type": "display_data"
    },
    {
     "data": {
      "text/markdown": [
       "**Trying SVC........**"
      ],
      "text/plain": [
       "<IPython.core.display.Markdown object>"
      ]
     },
     "metadata": {},
     "output_type": "display_data"
    },
    {
     "name": "stdout",
     "output_type": "stream",
     "text": [
      "Average cross-validation score: 52.911%\n",
      "╒════════════╤═════════════════════╤════════════╤═══════════╤═════════════╕\n",
      "│   Accuracy │   Balanced Accuracy │   f1 Score │   ROC AUC │   Precision │\n",
      "╞════════════╪═════════════════════╪════════════╪═══════════╪═════════════╡\n",
      "│     0.5373 │            0.524167 │   0.392065 │  0.524167 │    0.509091 │\n",
      "╘════════════╧═════════════════════╧════════════╧═══════════╧═════════════╛\n"
     ]
    },
    {
     "data": {
      "text/markdown": [
       "**Trying LogisticRegression........**"
      ],
      "text/plain": [
       "<IPython.core.display.Markdown object>"
      ]
     },
     "metadata": {},
     "output_type": "display_data"
    },
    {
     "name": "stdout",
     "output_type": "stream",
     "text": [
      "Average cross-validation score: 51.222%\n",
      "╒════════════╤═════════════════════╤════════════╤═══════════╤═════════════╕\n",
      "│   Accuracy │   Balanced Accuracy │   f1 Score │   ROC AUC │   Precision │\n",
      "╞════════════╪═════════════════════╪════════════╪═══════════╪═════════════╡\n",
      "│   0.529307 │             0.51962 │   0.422658 │   0.51962 │    0.496164 │\n",
      "╘════════════╧═════════════════════╧════════════╧═══════════╧═════════════╛\n"
     ]
    },
    {
     "data": {
      "text/markdown": [
       "**Trying RandomForestClassifier........**"
      ],
      "text/plain": [
       "<IPython.core.display.Markdown object>"
      ]
     },
     "metadata": {},
     "output_type": "display_data"
    },
    {
     "name": "stdout",
     "output_type": "stream",
     "text": [
      "Average cross-validation score: 51.978%\n",
      "╒════════════╤═════════════════════╤════════════╤═══════════╤═════════════╕\n",
      "│   Accuracy │   Balanced Accuracy │   f1 Score │   ROC AUC │   Precision │\n",
      "╞════════════╪═════════════════════╪════════════╪═══════════╪═════════════╡\n",
      "│   0.507993 │             0.49856 │   0.400433 │   0.49856 │    0.465995 │\n",
      "╘════════════╧═════════════════════╧════════════╧═══════════╧═════════════╛\n"
     ]
    },
    {
     "data": {
      "text/markdown": [
       "**Trying KNeighborsClassifier........**"
      ],
      "text/plain": [
       "<IPython.core.display.Markdown object>"
      ]
     },
     "metadata": {},
     "output_type": "display_data"
    },
    {
     "name": "stdout",
     "output_type": "stream",
     "text": [
      "Average cross-validation score: 51.956%\n",
      "╒════════════╤═════════════════════╤════════════╤═══════════╤═════════════╕\n",
      "│   Accuracy │   Balanced Accuracy │   f1 Score │   ROC AUC │   Precision │\n",
      "╞════════════╪═════════════════════╪════════════╪═══════════╪═════════════╡\n",
      "│   0.540853 │            0.535945 │   0.483516 │  0.535945 │    0.510549 │\n",
      "╘════════════╧═════════════════════╧════════════╧═══════════╧═════════════╛\n"
     ]
    },
    {
     "data": {
      "text/markdown": [
       "**Trying MLPClassifier........**"
      ],
      "text/plain": [
       "<IPython.core.display.Markdown object>"
      ]
     },
     "metadata": {},
     "output_type": "display_data"
    },
    {
     "name": "stdout",
     "output_type": "stream",
     "text": [
      "Average cross-validation score: 50.667%\n",
      "╒════════════╤═════════════════════╤════════════╤═══════════╤═════════════╕\n",
      "│   Accuracy │   Balanced Accuracy │   f1 Score │   ROC AUC │   Precision │\n",
      "╞════════════╪═════════════════════╪════════════╪═══════════╪═════════════╡\n",
      "│    0.50444 │            0.505371 │   0.495479 │  0.505371 │     0.47323 │\n",
      "╘════════════╧═════════════════════╧════════════╧═══════════╧═════════════╛\n"
     ]
    }
   ],
   "source": [
    "X_baseline = c_stop_res[c_stop_res[\"eventname\"] == BASELINE][c_stop_go_features_res]\n",
    "X_followup = c_stop_res[c_stop_res[\"eventname\"] == FOLLOWUP][c_stop_go_features_res].reset_index(drop=True)\n",
    "X_followup.drop(X_followup.tail(1).index,inplace=True)\n",
    "\n",
    "X = X_followup.reset_index(drop=True) - X_baseline.reset_index(drop=True)\n",
    "y = c_stop_res.iloc[X_baseline.index][TARGET]\n",
    "\n",
    "X_train, X_test, y_train, y_test = get_split(X, y)\n",
    "run_standard_models(\"Followup - Baseline, Correct Stop vs. Correct Go\", X_train, X_test, y_train, y_test)"
   ]
  },
  {
   "cell_type": "code",
   "execution_count": 28,
   "id": "b32c8286",
   "metadata": {},
   "outputs": [
    {
     "name": "stdout",
     "output_type": "stream",
     "text": [
      "X_train shape: (4500, 148)\n",
      "X_test shape: (1126, 148)\n",
      "y_train shape: (4500,)\n",
      "y_test shape: (1126,)\n"
     ]
    },
    {
     "data": {
      "text/markdown": [
       "### Running `Followup - Baseline, Incorrect Stop vs. Correct Go` experiment"
      ],
      "text/plain": [
       "<IPython.core.display.Markdown object>"
      ]
     },
     "metadata": {},
     "output_type": "display_data"
    },
    {
     "data": {
      "text/markdown": [
       "**=====================================================================**"
      ],
      "text/plain": [
       "<IPython.core.display.Markdown object>"
      ]
     },
     "metadata": {},
     "output_type": "display_data"
    },
    {
     "data": {
      "text/markdown": [
       "**Trying SVC........**"
      ],
      "text/plain": [
       "<IPython.core.display.Markdown object>"
      ]
     },
     "metadata": {},
     "output_type": "display_data"
    },
    {
     "name": "stdout",
     "output_type": "stream",
     "text": [
      "Average cross-validation score: 53.600%\n",
      "╒════════════╤═════════════════════╤════════════╤═══════════╤═════════════╕\n",
      "│   Accuracy │   Balanced Accuracy │   f1 Score │   ROC AUC │   Precision │\n",
      "╞════════════╪═════════════════════╪════════════╪═══════════╪═════════════╡\n",
      "│    0.53286 │            0.516915 │    0.34901 │  0.516915 │    0.501779 │\n",
      "╘════════════╧═════════════════════╧════════════╧═══════════╧═════════════╛\n"
     ]
    },
    {
     "data": {
      "text/markdown": [
       "**Trying LogisticRegression........**"
      ],
      "text/plain": [
       "<IPython.core.display.Markdown object>"
      ]
     },
     "metadata": {},
     "output_type": "display_data"
    },
    {
     "name": "stdout",
     "output_type": "stream",
     "text": [
      "Average cross-validation score: 51.756%\n",
      "╒════════════╤═════════════════════╤════════════╤═══════════╤═════════════╕\n",
      "│   Accuracy │   Balanced Accuracy │   f1 Score │   ROC AUC │   Precision │\n",
      "╞════════════╪═════════════════════╪════════════╪═══════════╪═════════════╡\n",
      "│   0.528419 │            0.517417 │   0.406704 │  0.517417 │    0.494565 │\n",
      "╘════════════╧═════════════════════╧════════════╧═══════════╧═════════════╛\n"
     ]
    },
    {
     "data": {
      "text/markdown": [
       "**Trying RandomForestClassifier........**"
      ],
      "text/plain": [
       "<IPython.core.display.Markdown object>"
      ]
     },
     "metadata": {},
     "output_type": "display_data"
    },
    {
     "name": "stdout",
     "output_type": "stream",
     "text": [
      "Average cross-validation score: 52.244%\n",
      "╒════════════╤═════════════════════╤════════════╤═══════════╤═════════════╕\n",
      "│   Accuracy │   Balanced Accuracy │   f1 Score │   ROC AUC │   Precision │\n",
      "╞════════════╪═════════════════════╪════════════╪═══════════╪═════════════╡\n",
      "│   0.535524 │            0.524095 │   0.410372 │  0.524095 │    0.505556 │\n",
      "╘════════════╧═════════════════════╧════════════╧═══════════╧═════════════╛\n"
     ]
    },
    {
     "data": {
      "text/markdown": [
       "**Trying KNeighborsClassifier........**"
      ],
      "text/plain": [
       "<IPython.core.display.Markdown object>"
      ]
     },
     "metadata": {},
     "output_type": "display_data"
    },
    {
     "name": "stdout",
     "output_type": "stream",
     "text": [
      "Average cross-validation score: 51.556%\n",
      "╒════════════╤═════════════════════╤════════════╤═══════════╤═════════════╕\n",
      "│   Accuracy │   Balanced Accuracy │   f1 Score │   ROC AUC │   Precision │\n",
      "╞════════════╪═════════════════════╪════════════╪═══════════╪═════════════╡\n",
      "│   0.530195 │             0.52456 │   0.465116 │   0.52456 │    0.497835 │\n",
      "╘════════════╧═════════════════════╧════════════╧═══════════╧═════════════╛\n"
     ]
    },
    {
     "data": {
      "text/markdown": [
       "**Trying MLPClassifier........**"
      ],
      "text/plain": [
       "<IPython.core.display.Markdown object>"
      ]
     },
     "metadata": {},
     "output_type": "display_data"
    },
    {
     "name": "stdout",
     "output_type": "stream",
     "text": [
      "Average cross-validation score: 50.044%\n",
      "╒════════════╤═════════════════════╤════════════╤═══════════╤═════════════╕\n",
      "│   Accuracy │   Balanced Accuracy │   f1 Score │   ROC AUC │   Precision │\n",
      "╞════════════╪═════════════════════╪════════════╪═══════════╪═════════════╡\n",
      "│   0.511545 │             0.51011 │   0.483083 │   0.51011 │    0.478585 │\n",
      "╘════════════╧═════════════════════╧════════════╧═══════════╧═════════════╛\n"
     ]
    }
   ],
   "source": [
    "X_baseline = i_stop_res[c_stop_res[\"eventname\"] == BASELINE][i_stop_go_features_res]\n",
    "X_followup = i_stop_res[c_stop_res[\"eventname\"] == FOLLOWUP][i_stop_go_features_res].reset_index(drop=True)\n",
    "X_followup.drop(X_followup.tail(1).index,inplace=True)\n",
    "\n",
    "X = X_followup.reset_index(drop=True) - X_baseline.reset_index(drop=True)\n",
    "y = i_stop_res.iloc[X_baseline.index][TARGET]\n",
    "\n",
    "X_train, X_test, y_train, y_test = get_split(X, y)\n",
    "run_standard_models(\"Followup - Baseline, Incorrect Stop vs. Correct Go\", X_train, X_test, y_train, y_test)"
   ]
  },
  {
   "cell_type": "code",
   "execution_count": 29,
   "id": "fa1f4bcb",
   "metadata": {},
   "outputs": [
    {
     "name": "stdout",
     "output_type": "stream",
     "text": [
      "X_train shape: (4500, 296)\n",
      "X_test shape: (1126, 296)\n",
      "y_train shape: (4500,)\n",
      "y_test shape: (1126,)\n"
     ]
    },
    {
     "data": {
      "text/markdown": [
       "### Running `Baseline + (Followup - Baseline), Correct Stop vs. Correct Go` experiment"
      ],
      "text/plain": [
       "<IPython.core.display.Markdown object>"
      ]
     },
     "metadata": {},
     "output_type": "display_data"
    },
    {
     "data": {
      "text/markdown": [
       "**=====================================================================**"
      ],
      "text/plain": [
       "<IPython.core.display.Markdown object>"
      ]
     },
     "metadata": {},
     "output_type": "display_data"
    },
    {
     "data": {
      "text/markdown": [
       "**Trying SVC........**"
      ],
      "text/plain": [
       "<IPython.core.display.Markdown object>"
      ]
     },
     "metadata": {},
     "output_type": "display_data"
    },
    {
     "name": "stdout",
     "output_type": "stream",
     "text": [
      "Average cross-validation score: 56.622%\n",
      "╒════════════╤═════════════════════╤════════════╤═══════════╤═════════════╕\n",
      "│   Accuracy │   Balanced Accuracy │   f1 Score │   ROC AUC │   Precision │\n",
      "╞════════════╪═════════════════════╪════════════╪═══════════╪═════════════╡\n",
      "│   0.565719 │            0.554756 │   0.452408 │  0.554756 │    0.551913 │\n",
      "╘════════════╧═════════════════════╧════════════╧═══════════╧═════════════╛\n"
     ]
    },
    {
     "data": {
      "text/markdown": [
       "**Trying LogisticRegression........**"
      ],
      "text/plain": [
       "<IPython.core.display.Markdown object>"
      ]
     },
     "metadata": {},
     "output_type": "display_data"
    },
    {
     "name": "stdout",
     "output_type": "stream",
     "text": [
      "Average cross-validation score: 59.400%\n",
      "╒════════════╤═════════════════════╤════════════╤═══════════╤═════════════╕\n",
      "│   Accuracy │   Balanced Accuracy │   f1 Score │   ROC AUC │   Precision │\n",
      "╞════════════╪═════════════════════╪════════════╪═══════════╪═════════════╡\n",
      "│    0.58881 │             0.58467 │   0.542038 │   0.58467 │    0.566116 │\n",
      "╘════════════╧═════════════════════╧════════════╧═══════════╧═════════════╛\n"
     ]
    },
    {
     "data": {
      "text/markdown": [
       "**Trying RandomForestClassifier........**"
      ],
      "text/plain": [
       "<IPython.core.display.Markdown object>"
      ]
     },
     "metadata": {},
     "output_type": "display_data"
    },
    {
     "name": "stdout",
     "output_type": "stream",
     "text": [
      "Average cross-validation score: 55.133%\n",
      "╒════════════╤═════════════════════╤════════════╤═══════════╤═════════════╕\n",
      "│   Accuracy │   Balanced Accuracy │   f1 Score │   ROC AUC │   Precision │\n",
      "╞════════════╪═════════════════════╪════════════╪═══════════╪═════════════╡\n",
      "│   0.541741 │            0.530736 │   0.422819 │  0.530736 │    0.514986 │\n",
      "╘════════════╧═════════════════════╧════════════╧═══════════╧═════════════╛\n"
     ]
    },
    {
     "data": {
      "text/markdown": [
       "**Trying KNeighborsClassifier........**"
      ],
      "text/plain": [
       "<IPython.core.display.Markdown object>"
      ]
     },
     "metadata": {},
     "output_type": "display_data"
    },
    {
     "name": "stdout",
     "output_type": "stream",
     "text": [
      "Average cross-validation score: 51.333%\n",
      "╒════════════╤═════════════════════╤════════════╤═══════════╤═════════════╕\n",
      "│   Accuracy │   Balanced Accuracy │   f1 Score │   ROC AUC │   Precision │\n",
      "╞════════════╪═════════════════════╪════════════╪═══════════╪═════════════╡\n",
      "│   0.521314 │            0.515643 │   0.455005 │  0.515643 │    0.487013 │\n",
      "╘════════════╧═════════════════════╧════════════╧═══════════╧═════════════╛\n"
     ]
    },
    {
     "data": {
      "text/markdown": [
       "**Trying MLPClassifier........**"
      ],
      "text/plain": [
       "<IPython.core.display.Markdown object>"
      ]
     },
     "metadata": {},
     "output_type": "display_data"
    },
    {
     "name": "stdout",
     "output_type": "stream",
     "text": [
      "Average cross-validation score: 50.600%\n",
      "╒════════════╤═════════════════════╤════════════╤═══════════╤═════════════╕\n",
      "│   Accuracy │   Balanced Accuracy │   f1 Score │   ROC AUC │   Precision │\n",
      "╞════════════╪═════════════════════╪════════════╪═══════════╪═════════════╡\n",
      "│   0.509769 │            0.533302 │    0.63249 │  0.533302 │    0.487179 │\n",
      "╘════════════╧═════════════════════╧════════════╧═══════════╧═════════════╛\n"
     ]
    }
   ],
   "source": [
    "title = \"Baseline + (Followup - Baseline), Correct Stop vs. Correct Go\"\n",
    "\n",
    "X_baseline = c_stop_res[c_stop_res[\"eventname\"] == BASELINE][c_stop_go_features_res]\n",
    "X_followup = c_stop_res[c_stop_res[\"eventname\"] == FOLLOWUP][c_stop_go_features_res].reset_index(drop=True)\n",
    "X_followup.drop(X_followup.tail(1).index,inplace=True)\n",
    "\n",
    "X_diff = X_followup.reset_index(drop=True) - X_baseline.reset_index(drop=True)\n",
    "y = c_stop_res.iloc[X_baseline.index][TARGET]\n",
    "\n",
    "X = pd.concat([X_baseline.reset_index(drop=True), X_diff], keys=c_stop_go_features_res, axis=1)\n",
    "\n",
    "X_train, X_test, y_train, y_test = get_split(X, y)\n",
    "run_standard_models(title, X_train, X_test, y_train, y_test)"
   ]
  },
  {
   "cell_type": "code",
   "execution_count": 30,
   "id": "d5c80de9",
   "metadata": {},
   "outputs": [
    {
     "name": "stdout",
     "output_type": "stream",
     "text": [
      "X_train shape: (4500, 296)\n",
      "X_test shape: (1126, 296)\n",
      "y_train shape: (4500,)\n",
      "y_test shape: (1126,)\n"
     ]
    },
    {
     "data": {
      "text/markdown": [
       "### Running `Baseline + (Followup - Baseline), Incorrect Stop vs. Correct Go` experiment"
      ],
      "text/plain": [
       "<IPython.core.display.Markdown object>"
      ]
     },
     "metadata": {},
     "output_type": "display_data"
    },
    {
     "data": {
      "text/markdown": [
       "**=====================================================================**"
      ],
      "text/plain": [
       "<IPython.core.display.Markdown object>"
      ]
     },
     "metadata": {},
     "output_type": "display_data"
    },
    {
     "data": {
      "text/markdown": [
       "**Trying SVC........**"
      ],
      "text/plain": [
       "<IPython.core.display.Markdown object>"
      ]
     },
     "metadata": {},
     "output_type": "display_data"
    },
    {
     "name": "stdout",
     "output_type": "stream",
     "text": [
      "Average cross-validation score: 59.889%\n",
      "╒════════════╤═════════════════════╤════════════╤═══════════╤═════════════╕\n",
      "│   Accuracy │   Balanced Accuracy │   f1 Score │   ROC AUC │   Precision │\n",
      "╞════════════╪═════════════════════╪════════════╪═══════════╪═════════════╡\n",
      "│   0.604796 │            0.597984 │   0.537902 │  0.597984 │    0.594037 │\n",
      "╘════════════╧═════════════════════╧════════════╧═══════════╧═════════════╛\n"
     ]
    },
    {
     "data": {
      "text/markdown": [
       "**Trying LogisticRegression........**"
      ],
      "text/plain": [
       "<IPython.core.display.Markdown object>"
      ]
     },
     "metadata": {},
     "output_type": "display_data"
    },
    {
     "name": "stdout",
     "output_type": "stream",
     "text": [
      "Average cross-validation score: 62.622%\n",
      "╒════════════╤═════════════════════╤════════════╤═══════════╤═════════════╕\n",
      "│   Accuracy │   Balanced Accuracy │   f1 Score │   ROC AUC │   Precision │\n",
      "╞════════════╪═════════════════════╪════════════╪═══════════╪═════════════╡\n",
      "│   0.627886 │            0.623907 │   0.585559 │  0.623907 │     0.61157 │\n",
      "╘════════════╧═════════════════════╧════════════╧═══════════╧═════════════╛\n"
     ]
    },
    {
     "data": {
      "text/markdown": [
       "**Trying RandomForestClassifier........**"
      ],
      "text/plain": [
       "<IPython.core.display.Markdown object>"
      ]
     },
     "metadata": {},
     "output_type": "display_data"
    },
    {
     "name": "stdout",
     "output_type": "stream",
     "text": [
      "Average cross-validation score: 56.067%\n",
      "╒════════════╤═════════════════════╤════════════╤═══════════╤═════════════╕\n",
      "│   Accuracy │   Balanced Accuracy │   f1 Score │   ROC AUC │   Precision │\n",
      "╞════════════╪═════════════════════╪════════════╪═══════════╪═════════════╡\n",
      "│   0.559503 │            0.552334 │   0.483333 │  0.552334 │    0.535797 │\n",
      "╘════════════╧═════════════════════╧════════════╧═══════════╧═════════════╛\n"
     ]
    },
    {
     "data": {
      "text/markdown": [
       "**Trying KNeighborsClassifier........**"
      ],
      "text/plain": [
       "<IPython.core.display.Markdown object>"
      ]
     },
     "metadata": {},
     "output_type": "display_data"
    },
    {
     "name": "stdout",
     "output_type": "stream",
     "text": [
      "Average cross-validation score: 51.022%\n",
      "╒════════════╤═════════════════════╤════════════╤═══════════╤═════════════╕\n",
      "│   Accuracy │   Balanced Accuracy │   f1 Score │   ROC AUC │   Precision │\n",
      "╞════════════╪═════════════════════╪════════════╪═══════════╪═════════════╡\n",
      "│   0.526643 │            0.519739 │   0.448811 │  0.519739 │    0.493182 │\n",
      "╘════════════╧═════════════════════╧════════════╧═══════════╧═════════════╛\n"
     ]
    },
    {
     "data": {
      "text/markdown": [
       "**Trying MLPClassifier........**"
      ],
      "text/plain": [
       "<IPython.core.display.Markdown object>"
      ]
     },
     "metadata": {},
     "output_type": "display_data"
    },
    {
     "name": "stdout",
     "output_type": "stream",
     "text": [
      "Average cross-validation score: 49.600%\n",
      "╒════════════╤═════════════════════╤════════════╤═══════════╤═════════════╕\n",
      "│   Accuracy │   Balanced Accuracy │   f1 Score │   ROC AUC │   Precision │\n",
      "╞════════════╪═════════════════════╪════════════╪═══════════╪═════════════╡\n",
      "│   0.488455 │            0.512926 │   0.621053 │  0.512926 │    0.475327 │\n",
      "╘════════════╧═════════════════════╧════════════╧═══════════╧═════════════╛\n"
     ]
    }
   ],
   "source": [
    "title = \"Baseline + (Followup - Baseline), Incorrect Stop vs. Correct Go\"\n",
    "\n",
    "X_baseline = i_stop_res[c_stop_res[\"eventname\"] == BASELINE][i_stop_go_features_res]\n",
    "X_followup = i_stop_res[c_stop_res[\"eventname\"] == FOLLOWUP][i_stop_go_features_res].reset_index(drop=True)\n",
    "X_followup.drop(X_followup.tail(1).index,inplace=True)\n",
    "\n",
    "X_diff = X_followup.reset_index(drop=True) - X_baseline.reset_index(drop=True)\n",
    "y = i_stop_res.iloc[X_baseline.index][TARGET]\n",
    "\n",
    "X = pd.concat([X_baseline.reset_index(drop=True), X_diff], keys=i_stop_go_features_res, axis=1)\n",
    "\n",
    "X_train, X_test, y_train, y_test = get_split(X, y)\n",
    "run_standard_models(title, X_train, X_test, y_train, y_test)"
   ]
  },
  {
   "cell_type": "code",
   "execution_count": 31,
   "id": "b5607dd9",
   "metadata": {},
   "outputs": [
    {
     "name": "stdout",
     "output_type": "stream",
     "text": [
      "X_train shape: (4500, 444)\n",
      "X_test shape: (1126, 444)\n",
      "y_train shape: (4500,)\n",
      "y_test shape: (1126,)\n"
     ]
    },
    {
     "data": {
      "text/markdown": [
       "### Running `Baseline + Followup + (Followup - Baseline), Correct Stop vs. Correct Go` experiment"
      ],
      "text/plain": [
       "<IPython.core.display.Markdown object>"
      ]
     },
     "metadata": {},
     "output_type": "display_data"
    },
    {
     "data": {
      "text/markdown": [
       "**=====================================================================**"
      ],
      "text/plain": [
       "<IPython.core.display.Markdown object>"
      ]
     },
     "metadata": {},
     "output_type": "display_data"
    },
    {
     "data": {
      "text/markdown": [
       "**Trying SVC........**"
      ],
      "text/plain": [
       "<IPython.core.display.Markdown object>"
      ]
     },
     "metadata": {},
     "output_type": "display_data"
    },
    {
     "name": "stdout",
     "output_type": "stream",
     "text": [
      "Average cross-validation score: 57.733%\n",
      "╒════════════╤═════════════════════╤════════════╤═══════════╤═════════════╕\n",
      "│   Accuracy │   Balanced Accuracy │   f1 Score │   ROC AUC │   Precision │\n",
      "╞════════════╪═════════════════════╪════════════╪═══════════╪═════════════╡\n",
      "│   0.576377 │            0.565115 │   0.462232 │  0.565115 │    0.569444 │\n",
      "╘════════════╧═════════════════════╧════════════╧═══════════╧═════════════╛\n"
     ]
    },
    {
     "data": {
      "text/markdown": [
       "**Trying LogisticRegression........**"
      ],
      "text/plain": [
       "<IPython.core.display.Markdown object>"
      ]
     },
     "metadata": {},
     "output_type": "display_data"
    },
    {
     "name": "stdout",
     "output_type": "stream",
     "text": [
      "Average cross-validation score: 59.844%\n",
      "╒════════════╤═════════════════════╤════════════╤═══════════╤═════════════╕\n",
      "│   Accuracy │   Balanced Accuracy │   f1 Score │   ROC AUC │   Precision │\n",
      "╞════════════╪═════════════════════╪════════════╪═══════════╪═════════════╡\n",
      "│   0.594139 │            0.589792 │   0.546177 │  0.589792 │    0.572917 │\n",
      "╘════════════╧═════════════════════╧════════════╧═══════════╧═════════════╛\n"
     ]
    },
    {
     "data": {
      "text/markdown": [
       "**Trying RandomForestClassifier........**"
      ],
      "text/plain": [
       "<IPython.core.display.Markdown object>"
      ]
     },
     "metadata": {},
     "output_type": "display_data"
    },
    {
     "name": "stdout",
     "output_type": "stream",
     "text": [
      "Average cross-validation score: 54.022%\n",
      "╒════════════╤═════════════════════╤════════════╤═══════════╤═════════════╕\n",
      "│   Accuracy │   Balanced Accuracy │   f1 Score │   ROC AUC │   Precision │\n",
      "╞════════════╪═════════════════════╪════════════╪═══════════╪═════════════╡\n",
      "│    0.57016 │            0.559386 │   0.459821 │  0.559386 │    0.558266 │\n",
      "╘════════════╧═════════════════════╧════════════╧═══════════╧═════════════╛\n"
     ]
    },
    {
     "data": {
      "text/markdown": [
       "**Trying KNeighborsClassifier........**"
      ],
      "text/plain": [
       "<IPython.core.display.Markdown object>"
      ]
     },
     "metadata": {},
     "output_type": "display_data"
    },
    {
     "name": "stdout",
     "output_type": "stream",
     "text": [
      "Average cross-validation score: 51.244%\n",
      "╒════════════╤═════════════════════╤════════════╤═══════════╤═════════════╕\n",
      "│   Accuracy │   Balanced Accuracy │   f1 Score │   ROC AUC │   Precision │\n",
      "╞════════════╪═════════════════════╪════════════╪═══════════╪═════════════╡\n",
      "│   0.547957 │            0.542965 │    0.49049 │  0.542965 │    0.519068 │\n",
      "╘════════════╧═════════════════════╧════════════╧═══════════╧═════════════╛\n"
     ]
    },
    {
     "data": {
      "text/markdown": [
       "**Trying MLPClassifier........**"
      ],
      "text/plain": [
       "<IPython.core.display.Markdown object>"
      ]
     },
     "metadata": {},
     "output_type": "display_data"
    },
    {
     "name": "stdout",
     "output_type": "stream",
     "text": [
      "Average cross-validation score: 60.578%\n",
      "╒════════════╤═════════════════════╤════════════╤═══════════╤═════════════╕\n",
      "│   Accuracy │   Balanced Accuracy │   f1 Score │   ROC AUC │   Precision │\n",
      "╞════════════╪═════════════════════╪════════════╪═══════════╪═════════════╡\n",
      "│    0.58881 │            0.583529 │   0.532795 │  0.583529 │    0.568966 │\n",
      "╘════════════╧═════════════════════╧════════════╧═══════════╧═════════════╛\n"
     ]
    }
   ],
   "source": [
    "title = \"Baseline + Followup + (Followup - Baseline), Correct Stop vs. Correct Go\"\n",
    "\n",
    "X_baseline = c_stop_res[c_stop_res[\"eventname\"] == BASELINE][c_stop_go_features_res]\n",
    "X_followup = c_stop_res[c_stop_res[\"eventname\"] == FOLLOWUP][c_stop_go_features_res].reset_index(drop=True)\n",
    "X_followup.drop(X_followup.tail(1).index,inplace=True)\n",
    "\n",
    "X_diff = X_followup.reset_index(drop=True) - X_baseline.reset_index(drop=True)\n",
    "y = c_stop_res.iloc[X_baseline.index][TARGET]\n",
    "\n",
    "X = pd.concat([X_baseline.reset_index(drop=True), X_followup.reset_index(drop=True), X_diff], keys=c_stop_go_features_res, axis=1)\n",
    "\n",
    "X_train, X_test, y_train, y_test = get_split(X, y)\n",
    "run_standard_models(title, X_train, X_test, y_train, y_test)"
   ]
  },
  {
   "cell_type": "code",
   "execution_count": 19,
   "id": "6d56e322",
   "metadata": {},
   "outputs": [
    {
     "name": "stdout",
     "output_type": "stream",
     "text": [
      "X_train shape: (4500, 444)\n",
      "X_test shape: (1126, 444)\n",
      "y_train shape: (4500,)\n",
      "y_test shape: (1126,)\n"
     ]
    },
    {
     "data": {
      "text/markdown": [
       "### Running `Baseline + Followup + (Followup - Baseline), Incorrect Stop vs. Correct Go` experiment"
      ],
      "text/plain": [
       "<IPython.core.display.Markdown object>"
      ]
     },
     "metadata": {},
     "output_type": "display_data"
    },
    {
     "data": {
      "text/markdown": [
       "**=====================================================================**"
      ],
      "text/plain": [
       "<IPython.core.display.Markdown object>"
      ]
     },
     "metadata": {},
     "output_type": "display_data"
    },
    {
     "data": {
      "text/markdown": [
       "**Trying SVC........**"
      ],
      "text/plain": [
       "<IPython.core.display.Markdown object>"
      ]
     },
     "metadata": {},
     "output_type": "display_data"
    },
    {
     "name": "stdout",
     "output_type": "stream",
     "text": [
      "Average cross-validation score: 60.356%\n",
      "╒════════════╤═════════════════════╤════════════╤═══════════╤═════════════╕\n",
      "│   Accuracy │   Balanced Accuracy │   f1 Score │   ROC AUC │   Precision │\n",
      "╞════════════╪═════════════════════╪════════════╪═══════════╪═════════════╡\n",
      "│   0.612789 │            0.606295 │   0.549587 │  0.606295 │    0.603175 │\n",
      "╘════════════╧═════════════════════╧════════════╧═══════════╧═════════════╛\n"
     ]
    },
    {
     "data": {
      "text/markdown": [
       "**Trying LogisticRegression........**"
      ],
      "text/plain": [
       "<IPython.core.display.Markdown object>"
      ]
     },
     "metadata": {},
     "output_type": "display_data"
    },
    {
     "name": "stdout",
     "output_type": "stream",
     "text": [
      "Average cross-validation score: 62.978%\n",
      "╒════════════╤═════════════════════╤════════════╤═══════════╤═════════════╕\n",
      "│   Accuracy │   Balanced Accuracy │   f1 Score │   ROC AUC │   Precision │\n",
      "╞════════════╪═════════════════════╪════════════╪═══════════╪═════════════╡\n",
      "│   0.623446 │            0.619505 │   0.581028 │  0.619505 │    0.606186 │\n",
      "╘════════════╧═════════════════════╧════════════╧═══════════╧═════════════╛\n"
     ]
    },
    {
     "data": {
      "text/markdown": [
       "**Trying RandomForestClassifier........**"
      ],
      "text/plain": [
       "<IPython.core.display.Markdown object>"
      ]
     },
     "metadata": {},
     "output_type": "display_data"
    },
    {
     "name": "stdout",
     "output_type": "stream",
     "text": [
      "Average cross-validation score: 57.267%\n",
      "╒════════════╤═════════════════════╤════════════╤═══════════╤═════════════╕\n",
      "│   Accuracy │   Balanced Accuracy │   f1 Score │   ROC AUC │   Precision │\n",
      "╞════════════╪═════════════════════╪════════════╪═══════════╪═════════════╡\n",
      "│   0.591474 │            0.582955 │   0.507495 │  0.582955 │     0.58231 │\n",
      "╘════════════╧═════════════════════╧════════════╧═══════════╧═════════════╛\n"
     ]
    },
    {
     "data": {
      "text/markdown": [
       "**Trying KNeighborsClassifier........**"
      ],
      "text/plain": [
       "<IPython.core.display.Markdown object>"
      ]
     },
     "metadata": {},
     "output_type": "display_data"
    },
    {
     "name": "stdout",
     "output_type": "stream",
     "text": [
      "Average cross-validation score: 52.000%\n",
      "╒════════════╤═════════════════════╤════════════╤═══════════╤═════════════╕\n",
      "│   Accuracy │   Balanced Accuracy │   f1 Score │   ROC AUC │   Precision │\n",
      "╞════════════╪═════════════════════╪════════════╪═══════════╪═════════════╡\n",
      "│   0.526643 │              0.5178 │   0.428725 │    0.5178 │    0.492611 │\n",
      "╘════════════╧═════════════════════╧════════════╧═══════════╧═════════════╛\n"
     ]
    },
    {
     "data": {
      "text/markdown": [
       "**Trying MLPClassifier........**"
      ],
      "text/plain": [
       "<IPython.core.display.Markdown object>"
      ]
     },
     "metadata": {},
     "output_type": "display_data"
    },
    {
     "name": "stdout",
     "output_type": "stream",
     "text": [
      "Average cross-validation score: 61.578%\n",
      "╒════════════╤═════════════════════╤════════════╤═══════════╤═════════════╕\n",
      "│   Accuracy │   Balanced Accuracy │   f1 Score │   ROC AUC │   Precision │\n",
      "╞════════════╪═════════════════════╪════════════╪═══════════╪═════════════╡\n",
      "│    0.62611 │            0.620413 │   0.570846 │  0.620413 │     0.61674 │\n",
      "╘════════════╧═════════════════════╧════════════╧═══════════╧═════════════╛\n"
     ]
    }
   ],
   "source": [
    "title = \"Baseline + Followup + (Followup - Baseline), Incorrect Stop vs. Correct Go\"\n",
    "\n",
    "X_baseline = i_stop_res[i_stop_res[\"eventname\"] == BASELINE][i_stop_go_features_res]\n",
    "X_followup = i_stop_res[i_stop_res[\"eventname\"] == FOLLOWUP][i_stop_go_features_res].reset_index(drop=True)\n",
    "X_followup.drop(X_followup.tail(1).index,inplace=True)\n",
    "\n",
    "X_diff = X_followup.reset_index(drop=True) - X_baseline.reset_index(drop=True)\n",
    "y = i_stop_res.iloc[X_baseline.index][TARGET]\n",
    "\n",
    "X = pd.concat([X_baseline.reset_index(drop=True), X_followup.reset_index(drop=True), X_diff], keys=i_stop_go_features_res, axis=1)\n",
    "\n",
    "X_train, X_test, y_train, y_test = get_split(X, y)\n",
    "trained_models = run_standard_models(title, X_train, X_test, y_train, y_test)"
   ]
  },
  {
   "cell_type": "code",
   "execution_count": 43,
   "id": "a54d05ba",
   "metadata": {
    "scrolled": true
   },
   "outputs": [
    {
     "name": "stdout",
     "output_type": "stream",
     "text": [
      "SVC\n",
      "╒════════════╤═════════════════════╤════════════╤═══════════╤═════════════╕\n",
      "│   Accuracy │   Balanced Accuracy │   f1 Score │   ROC AUC │   Precision │\n",
      "╞════════════╪═════════════════════╪════════════╪═══════════╪═════════════╡\n",
      "│   0.538462 │            0.530957 │   0.446154 │  0.530957 │    0.515556 │\n",
      "╘════════════╧═════════════════════╧════════════╧═══════════╧═════════════╛\n",
      "Logistic Regression\n",
      "╒════════════╤═════════════════════╤════════════╤═══════════╤═════════════╕\n",
      "│   Accuracy │   Balanced Accuracy │   f1 Score │   ROC AUC │   Precision │\n",
      "╞════════════╪═════════════════════╪════════════╪═══════════╪═════════════╡\n",
      "│   0.548077 │            0.543754 │   0.492806 │  0.543754 │    0.524904 │\n",
      "╘════════════╧═════════════════════╧════════════╧═══════════╧═════════════╛\n",
      "RandomForestClassifier\n",
      "╒════════════╤═════════════════════╤════════════╤═══════════╤═════════════╕\n",
      "│   Accuracy │   Balanced Accuracy │   f1 Score │   ROC AUC │   Precision │\n",
      "╞════════════╪═════════════════════╪════════════╪═══════════╪═════════════╡\n",
      "│   0.508013 │            0.499804 │   0.401559 │  0.499804 │    0.472477 │\n",
      "╘════════════╧═════════════════════╧════════════╧═══════════╧═════════════╛\n",
      "KNeighborsClassifier\n",
      "╒════════════╤═════════════════════╤════════════╤═══════════╤═════════════╕\n",
      "│   Accuracy │   Balanced Accuracy │   f1 Score │   ROC AUC │   Precision │\n",
      "╞════════════╪═════════════════════╪════════════╪═══════════╪═════════════╡\n",
      "│   0.501603 │            0.493725 │   0.398453 │  0.493725 │    0.463964 │\n",
      "╘════════════╧═════════════════════╧════════════╧═══════════╧═════════════╛\n",
      "MLPClassifier\n",
      "╒════════════╤═════════════════════╤════════════╤═══════════╤═════════════╕\n",
      "│   Accuracy │   Balanced Accuracy │   f1 Score │   ROC AUC │   Precision │\n",
      "╞════════════╪═════════════════════╪════════════╪═══════════╪═════════════╡\n",
      "│   0.554487 │            0.549307 │   0.490842 │  0.549307 │    0.533865 │\n",
      "╘════════════╧═════════════════════╧════════════╧═══════════╧═════════════╛\n"
     ]
    }
   ],
   "source": [
    "title = \"Baseline + Followup + (Followup - Baseline), Incorrect Stop vs. Correct Go\"\n",
    "\n",
    "X_baseline = test_i_stop_res[test_i_stop_res[\"eventname\"] == BASELINE][i_stop_go_features_res]\n",
    "X_followup = test_i_stop_res[test_i_stop_res[\"eventname\"] == FOLLOWUP][i_stop_go_features_res].reset_index(drop=True)\n",
    "X_followup.drop(X_followup.tail(1).index,inplace=True)\n",
    "\n",
    "X_diff = X_followup.reset_index(drop=True) - X_baseline.reset_index(drop=True)\n",
    "\n",
    "X = pd.concat([X_baseline.reset_index(drop=True), X_followup.reset_index(drop=True), X_diff], keys=i_stop_go_features_res, axis=1)\n",
    "X[\"demo_sex_v2\"] = test_i_stop_res[test_i_stop_res[\"eventname\"] == BASELINE].reset_index(drop=True)[\"demo_sex_v2\"]\n",
    "X = X.dropna()\n",
    "\n",
    "y = X[\"demo_sex_v2\"]\n",
    "X = X.drop(\"demo_sex_v2\", axis=1)\n",
    "\n",
    "eval_standard_models_Xy(X, y, trained_models)"
   ]
  },
  {
   "cell_type": "code",
   "execution_count": null,
   "id": "6b9c3aab",
   "metadata": {},
   "outputs": [],
   "source": []
  },
  {
   "cell_type": "code",
   "execution_count": 22,
   "id": "448800ed",
   "metadata": {},
   "outputs": [
    {
     "name": "stdout",
     "output_type": "stream",
     "text": [
      "X_train shape: (4500, 80)\n",
      "X_test shape: (1126, 80)\n",
      "y_train shape: (4500,)\n",
      "y_test shape: (1126,)\n"
     ]
    },
    {
     "data": {
      "text/markdown": [
       "### Running `Baseline + Followup + (Followup - Baseline), Feature Selection, Incorrect Stop vs. Correct Go` experiment"
      ],
      "text/plain": [
       "<IPython.core.display.Markdown object>"
      ]
     },
     "metadata": {},
     "output_type": "display_data"
    },
    {
     "data": {
      "text/markdown": [
       "**=====================================================================**"
      ],
      "text/plain": [
       "<IPython.core.display.Markdown object>"
      ]
     },
     "metadata": {},
     "output_type": "display_data"
    },
    {
     "data": {
      "text/markdown": [
       "**Trying SVC........**"
      ],
      "text/plain": [
       "<IPython.core.display.Markdown object>"
      ]
     },
     "metadata": {},
     "output_type": "display_data"
    },
    {
     "name": "stdout",
     "output_type": "stream",
     "text": [
      "Average cross-validation score: 61.533%\n",
      "╒════════════╤═════════════════════╤════════════╤═══════════╤═════════════╕\n",
      "│   Accuracy │   Balanced Accuracy │   f1 Score │   ROC AUC │   Precision │\n",
      "╞════════════╪═════════════════════╪════════════╪═══════════╪═════════════╡\n",
      "│   0.614565 │             0.60728 │   0.545073 │   0.60728 │    0.608899 │\n",
      "╘════════════╧═════════════════════╧════════════╧═══════════╧═════════════╛\n"
     ]
    },
    {
     "data": {
      "text/markdown": [
       "**Trying LogisticRegression........**"
      ],
      "text/plain": [
       "<IPython.core.display.Markdown object>"
      ]
     },
     "metadata": {},
     "output_type": "display_data"
    },
    {
     "name": "stdout",
     "output_type": "stream",
     "text": [
      "Average cross-validation score: 61.711%\n",
      "╒════════════╤═════════════════════╤════════════╤═══════════╤═════════════╕\n",
      "│   Accuracy │   Balanced Accuracy │   f1 Score │   ROC AUC │   Precision │\n",
      "╞════════════╪═════════════════════╪════════════╪═══════════╪═════════════╡\n",
      "│    0.60746 │            0.601629 │    0.54898 │  0.601629 │    0.593819 │\n",
      "╘════════════╧═════════════════════╧════════════╧═══════════╧═════════════╛\n"
     ]
    },
    {
     "data": {
      "text/markdown": [
       "**Trying RandomForestClassifier........**"
      ],
      "text/plain": [
       "<IPython.core.display.Markdown object>"
      ]
     },
     "metadata": {},
     "output_type": "display_data"
    },
    {
     "name": "stdout",
     "output_type": "stream",
     "text": [
      "Average cross-validation score: 59.133%\n",
      "╒════════════╤═════════════════════╤════════════╤═══════════╤═════════════╕\n",
      "│   Accuracy │   Balanced Accuracy │   f1 Score │   ROC AUC │   Precision │\n",
      "╞════════════╪═════════════════════╪════════════╪═══════════╪═════════════╡\n",
      "│   0.598579 │            0.591457 │   0.528184 │  0.591457 │    0.587007 │\n",
      "╘════════════╧═════════════════════╧════════════╧═══════════╧═════════════╛\n"
     ]
    },
    {
     "data": {
      "text/markdown": [
       "**Trying KNeighborsClassifier........**"
      ],
      "text/plain": [
       "<IPython.core.display.Markdown object>"
      ]
     },
     "metadata": {},
     "output_type": "display_data"
    },
    {
     "name": "stdout",
     "output_type": "stream",
     "text": [
      "Average cross-validation score: 54.133%\n",
      "╒════════════╤═════════════════════╤════════════╤═══════════╤═════════════╕\n",
      "│   Accuracy │   Balanced Accuracy │   f1 Score │   ROC AUC │   Precision │\n",
      "╞════════════╪═════════════════════╪════════════╪═══════════╪═════════════╡\n",
      "│   0.581705 │            0.574685 │   0.509886 │  0.574685 │    0.564516 │\n",
      "╘════════════╧═════════════════════╧════════════╧═══════════╧═════════════╛\n"
     ]
    },
    {
     "data": {
      "text/markdown": [
       "**Trying MLPClassifier........**"
      ],
      "text/plain": [
       "<IPython.core.display.Markdown object>"
      ]
     },
     "metadata": {},
     "output_type": "display_data"
    },
    {
     "name": "stdout",
     "output_type": "stream",
     "text": [
      "Average cross-validation score: 61.222%\n",
      "╒════════════╤═════════════════════╤════════════╤═══════════╤═════════════╕\n",
      "│   Accuracy │   Balanced Accuracy │   f1 Score │   ROC AUC │   Precision │\n",
      "╞════════════╪═════════════════════╪════════════╪═══════════╪═════════════╡\n",
      "│   0.630551 │            0.623446 │   0.564854 │  0.623446 │    0.629371 │\n",
      "╘════════════╧═════════════════════╧════════════╧═══════════╧═════════════╛\n"
     ]
    }
   ],
   "source": [
    "title = \"Baseline + Followup + (Followup - Baseline), Feature Selection, Incorrect Stop vs. Correct Go\"\n",
    "\n",
    "X_baseline = i_stop_res[i_stop_res[\"eventname\"] == BASELINE][i_stop_go_features_res]\n",
    "X_followup = i_stop_res[i_stop_res[\"eventname\"] == FOLLOWUP][i_stop_go_features_res].reset_index(drop=True)\n",
    "X_followup.drop(X_followup.tail(1).index,inplace=True)\n",
    "\n",
    "X_diff = X_followup.reset_index(drop=True) - X_baseline.reset_index(drop=True)\n",
    "y = i_stop_res.iloc[X_baseline.index][TARGET]\n",
    "\n",
    "X = pd.concat([X_baseline.reset_index(drop=True), X_followup.reset_index(drop=True), X_diff], keys=i_stop_go_features_res, axis=1)\n",
    "X = feature_select(X, y, num_features=80)\n",
    "    \n",
    "X_train, X_test, y_train, y_test = get_split(X, y)\n",
    "trained_models = run_standard_models(title, X_train, X_test, y_train, y_test, feature_importance=True)"
   ]
  },
  {
   "cell_type": "code",
   "execution_count": null,
   "id": "0cc3deb2",
   "metadata": {},
   "outputs": [],
   "source": []
  },
  {
   "cell_type": "markdown",
   "id": "ea3d8b2f",
   "metadata": {},
   "source": [
    "### PyTorch Neural Network"
   ]
  },
  {
   "cell_type": "code",
   "execution_count": 75,
   "id": "14ccbf10",
   "metadata": {},
   "outputs": [
    {
     "name": "stdout",
     "output_type": "stream",
     "text": [
      "Model1(\n",
      "  (layers): Sequential(\n",
      "    (0): Linear(in_features=444, out_features=2, bias=True)\n",
      "    (1): ReLU()\n",
      "    (2): Linear(in_features=2, out_features=2, bias=True)\n",
      "    (3): ReLU()\n",
      "    (4): Linear(in_features=2, out_features=2, bias=True)\n",
      "    (5): Sigmoid()\n",
      "  )\n",
      "  (flatten): Flatten(start_dim=1, end_dim=-1)\n",
      "  (softmax): Softmax(dim=1)\n",
      ")\n",
      "X_train shape: (4500, 444)\n",
      "X_test shape: (1126, 444)\n",
      "y_train shape: (4500,)\n",
      "y_test shape: (1126,)\n"
     ]
    }
   ],
   "source": [
    "torch.manual_seed(42)\n",
    "\n",
    "X_baseline = i_stop_res[i_stop_res[\"eventname\"] == BASELINE][i_stop_go_features_res]\n",
    "X_followup = i_stop_res[i_stop_res[\"eventname\"] == FOLLOWUP][i_stop_go_features_res].reset_index(drop=True)\n",
    "X_followup.drop(X_followup.tail(1).index,inplace=True)\n",
    "\n",
    "X_diff = X_followup.reset_index(drop=True) - X_baseline.reset_index(drop=True)\n",
    "y = i_stop_res.iloc[X_baseline.index][TARGET]\n",
    "\n",
    "X = pd.concat([X_baseline.reset_index(drop=True), X_followup.reset_index(drop=True), X_diff], keys=i_stop_go_features_res, axis=1)\n",
    "\n",
    "model = Model1(len(X.columns))\n",
    "print(model)\n",
    "loss_function = nn.CrossEntropyLoss()\n",
    "optimizer = torch.optim.Adam(model.parameters(), lr=LEARNING_RATE, weight_decay=1e-5)\n",
    "\n",
    "train_dl, test_dl = get_dls(X, y)"
   ]
  },
  {
   "cell_type": "code",
   "execution_count": 76,
   "id": "f4f875a0",
   "metadata": {},
   "outputs": [
    {
     "name": "stdout",
     "output_type": "stream",
     "text": [
      "Shape of X: torch.Size([32, 444])\n",
      "Shape of y: torch.Size([32]) float64\n"
     ]
    }
   ],
   "source": [
    "for X_check, y_check in train_dl:\n",
    "    print(f\"Shape of X: {X_check.shape}\")\n",
    "    print(f\"Shape of y: {y_check.shape} {y.dtype}\")\n",
    "    break"
   ]
  },
  {
   "cell_type": "code",
   "execution_count": 77,
   "id": "f05c1f75",
   "metadata": {},
   "outputs": [
    {
     "name": "stdout",
     "output_type": "stream",
     "text": [
      "Epoch 1/50 - Train loss: 0.69 Valid loss: 0.69\n",
      "Epoch 11/50 - Train loss: 0.64 Valid loss: 0.65\n",
      "Epoch 21/50 - Train loss: 0.61 Valid loss: 0.65\n",
      "Epoch 31/50 - Train loss: 0.59 Valid loss: 0.65\n",
      "Epoch 41/50 - Train loss: 0.59 Valid loss: 0.65\n",
      "Training Completed!\n"
     ]
    }
   ],
   "source": [
    "train_loss, valid_loss = train_model(model, loss_function, optimizer, train_dl, test_dl, NUM_EPOCHS)"
   ]
  },
  {
   "cell_type": "code",
   "execution_count": 345,
   "id": "3eb9d7e3",
   "metadata": {},
   "outputs": [
    {
     "data": {
      "image/png": "[encoded data removed]",
      "text/plain": [
       "<Figure size 1000x1000 with 1 Axes>"
      ]
     },
     "metadata": {},
     "output_type": "display_data"
    }
   ],
   "source": [
    "plot_learning(train_loss, valid_loss, \"incorrect_stop_neural.jpg\")"
   ]
  },
  {
   "cell_type": "code",
   "execution_count": 80,
   "id": "1ba43074",
   "metadata": {},
   "outputs": [
    {
     "name": "stdout",
     "output_type": "stream",
     "text": [
      "╒════════════╤═════════════════════╤════════════╤═══════════╤═════════════╕\n",
      "│   Accuracy │   Balanced Accuracy │   f1 Score │   ROC AUC │   Precision │\n",
      "╞════════════╪═════════════════════╪════════════╪═══════════╪═════════════╡\n",
      "│   0.643872 │            0.638019 │    0.58956 │  0.638019 │        0.64 │\n",
      "╘════════════╧═════════════════════╧════════════╧═══════════╧═════════════╛\n"
     ]
    }
   ],
   "source": [
    "evaluate_model(model, test_dl)"
   ]
  },
  {
   "cell_type": "code",
   "execution_count": 79,
   "id": "0949a092",
   "metadata": {},
   "outputs": [
    {
     "name": "stdout",
     "output_type": "stream",
     "text": [
      "╒════════════╤═════════════════════╤════════════╤═══════════╤═════════════╕\n",
      "│   Accuracy │   Balanced Accuracy │   f1 Score │   ROC AUC │   Precision │\n",
      "╞════════════╪═════════════════════╪════════════╪═══════════╪═════════════╡\n",
      "│   0.532051 │            0.526279 │   0.459259 │  0.526279 │    0.506122 │\n",
      "╘════════════╧═════════════════════╧════════════╧═══════════╧═════════════╛\n"
     ]
    }
   ],
   "source": [
    "X_baseline = test_i_stop_res[test_i_stop_res[\"eventname\"] == BASELINE][i_stop_go_features_res]\n",
    "X_followup = test_i_stop_res[test_i_stop_res[\"eventname\"] == FOLLOWUP][i_stop_go_features_res].reset_index(drop=True)\n",
    "X_followup.drop(X_followup.tail(1).index,inplace=True)\n",
    "\n",
    "X_diff = X_followup.reset_index(drop=True) - X_baseline.reset_index(drop=True)\n",
    "\n",
    "X = pd.concat([X_baseline.reset_index(drop=True), X_followup.reset_index(drop=True), X_diff], keys=i_stop_go_features_res, axis=1)\n",
    "X[\"demo_sex_v2\"] = test_i_stop_res[test_i_stop_res[\"eventname\"] == BASELINE].reset_index(drop=True)[\"demo_sex_v2\"]\n",
    "X = X.dropna()\n",
    "\n",
    "y = X[\"demo_sex_v2\"]\n",
    "X = X.drop(\"demo_sex_v2\", axis=1)\n",
    "\n",
    "ds = ABCDDataset(X, y)\n",
    "dl = DataLoader(ds, batch_size=32, shuffle=True)\n",
    "\n",
    "evaluate_model(model, dl)"
   ]
  },
  {
   "cell_type": "markdown",
   "id": "7d92ffe3",
   "metadata": {},
   "source": [
    "---\n",
    "\n",
    "## 🧠 Structural MRI Data\n",
    "\n",
    "---"
   ]
  },
  {
   "cell_type": "markdown",
   "id": "956508ea",
   "metadata": {},
   "source": [
    "### Not accounting for volume as a confounder"
   ]
  },
  {
   "cell_type": "code",
   "execution_count": 347,
   "id": "33436eea",
   "metadata": {},
   "outputs": [
    {
     "name": "stdout",
     "output_type": "stream",
     "text": [
      "X_train shape: (4500, 71)\n",
      "X_test shape: (1126, 71)\n",
      "y_train shape: (4500,)\n",
      "y_test shape: (1126,)\n"
     ]
    },
    {
     "data": {
      "text/markdown": [
       "### Running `Not accounting for volume: Structural MRI Baseline` experiment"
      ],
      "text/plain": [
       "<IPython.core.display.Markdown object>"
      ]
     },
     "metadata": {},
     "output_type": "display_data"
    },
    {
     "data": {
      "text/markdown": [
       "**=====================================================================**"
      ],
      "text/plain": [
       "<IPython.core.display.Markdown object>"
      ]
     },
     "metadata": {},
     "output_type": "display_data"
    },
    {
     "data": {
      "text/markdown": [
       "**Trying SVC........**"
      ],
      "text/plain": [
       "<IPython.core.display.Markdown object>"
      ]
     },
     "metadata": {},
     "output_type": "display_data"
    },
    {
     "name": "stdout",
     "output_type": "stream",
     "text": [
      "Average cross-validation score: 66.244%\n",
      "╒════════════╤═════════════════════╤════════════╤═══════════╤═════════════╕\n",
      "│   Accuracy │   Balanced Accuracy │   f1 Score │   ROC AUC │   Precision │\n",
      "╞════════════╪═════════════════════╪════════════╪═══════════╪═════════════╡\n",
      "│   0.650089 │            0.646599 │   0.612967 │  0.646599 │    0.635438 │\n",
      "╘════════════╧═════════════════════╧════════════╧═══════════╧═════════════╛\n"
     ]
    },
    {
     "data": {
      "text/markdown": [
       "**Trying LogisticRegression........**"
      ],
      "text/plain": [
       "<IPython.core.display.Markdown object>"
      ]
     },
     "metadata": {},
     "output_type": "display_data"
    },
    {
     "name": "stdout",
     "output_type": "stream",
     "text": [
      "Average cross-validation score: 66.689%\n",
      "╒════════════╤═════════════════════╤════════════╤═══════════╤═════════════╕\n",
      "│   Accuracy │   Balanced Accuracy │   f1 Score │   ROC AUC │   Precision │\n",
      "╞════════════╪═════════════════════╪════════════╪═══════════╪═════════════╡\n",
      "│   0.662522 │            0.659654 │    0.63035 │  0.659654 │    0.646707 │\n",
      "╘════════════╧═════════════════════╧════════════╧═══════════╧═════════════╛\n"
     ]
    },
    {
     "data": {
      "text/markdown": [
       "**Trying RandomForestClassifier........**"
      ],
      "text/plain": [
       "<IPython.core.display.Markdown object>"
      ]
     },
     "metadata": {},
     "output_type": "display_data"
    },
    {
     "name": "stdout",
     "output_type": "stream",
     "text": [
      "Average cross-validation score: 62.289%\n",
      "╒════════════╤═════════════════════╤════════════╤═══════════╤═════════════╕\n",
      "│   Accuracy │   Balanced Accuracy │   f1 Score │   ROC AUC │   Precision │\n",
      "╞════════════╪═════════════════════╪════════════╪═══════════╪═════════════╡\n",
      "│   0.600355 │             0.59324 │   0.530271 │   0.59324 │    0.589327 │\n",
      "╘════════════╧═════════════════════╧════════════╧═══════════╧═════════════╛\n"
     ]
    },
    {
     "data": {
      "text/markdown": [
       "**Trying KNeighborsClassifier........**"
      ],
      "text/plain": [
       "<IPython.core.display.Markdown object>"
      ]
     },
     "metadata": {},
     "output_type": "display_data"
    },
    {
     "name": "stdout",
     "output_type": "stream",
     "text": [
      "Average cross-validation score: 58.022%\n",
      "╒════════════╤═════════════════════╤════════════╤═══════════╤═════════════╕\n",
      "│   Accuracy │   Balanced Accuracy │   f1 Score │   ROC AUC │   Precision │\n",
      "╞════════════╪═════════════════════╪════════════╪═══════════╪═════════════╡\n",
      "│    0.57016 │            0.565544 │   0.517928 │  0.565544 │    0.545073 │\n",
      "╘════════════╧═════════════════════╧════════════╧═══════════╧═════════════╛\n"
     ]
    },
    {
     "data": {
      "text/markdown": [
       "**Trying MLPClassifier........**"
      ],
      "text/plain": [
       "<IPython.core.display.Markdown object>"
      ]
     },
     "metadata": {},
     "output_type": "display_data"
    },
    {
     "name": "stdout",
     "output_type": "stream",
     "text": [
      "Average cross-validation score: 52.711%\n",
      "╒════════════╤═════════════════════╤════════════╤═══════════╤═════════════╕\n",
      "│   Accuracy │   Balanced Accuracy │   f1 Score │   ROC AUC │   Precision │\n",
      "╞════════════╪═════════════════════╪════════════╪═══════════╪═════════════╡\n",
      "│   0.531972 │                 0.5 │          0 │       0.5 │           0 │\n",
      "╘════════════╧═════════════════════╧════════════╧═══════════╧═════════════╛\n"
     ]
    },
    {
     "name": "stderr",
     "output_type": "stream",
     "text": [
      "/Users/alice/miniforge3/envs/pydata-book/lib/python3.10/site-packages/sklearn/metrics/_classification.py:1469: UndefinedMetricWarning: Precision is ill-defined and being set to 0.0 due to no predicted samples. Use `zero_division` parameter to control this behavior.\n",
      "  _warn_prf(average, modifier, msg_start, len(result))\n"
     ]
    }
   ],
   "source": [
    "mri_features = [f[:-6] for f in mri_features_res]\n",
    "\n",
    "X = mri[mri[\"eventname\"] == BASELINE][mri_features]\n",
    "X = z_normalize(X)\n",
    "y = c_stop_res.iloc[X.index][TARGET]\n",
    "\n",
    "X_train, X_test, y_train, y_test = get_split(X, y)\n",
    "run_standard_models(\"Not accounting for volume: Structural MRI Baseline\", X_train, X_test, y_train, y_test)"
   ]
  },
  {
   "cell_type": "markdown",
   "id": "6f37264c",
   "metadata": {},
   "source": [
    "### Considering volume as confounder"
   ]
  },
  {
   "cell_type": "code",
   "execution_count": 117,
   "id": "c3600981",
   "metadata": {},
   "outputs": [
    {
     "name": "stdout",
     "output_type": "stream",
     "text": [
      "X_train shape: (4500, 71)\n",
      "X_test shape: (1126, 71)\n",
      "y_train shape: (4500,)\n",
      "y_test shape: (1126,)\n"
     ]
    },
    {
     "data": {
      "text/markdown": [
       "### Running `Accounting for volume: Structural MRI Baseline` experiment"
      ],
      "text/plain": [
       "<IPython.core.display.Markdown object>"
      ]
     },
     "metadata": {},
     "output_type": "display_data"
    },
    {
     "data": {
      "text/markdown": [
       "**=====================================================================**"
      ],
      "text/plain": [
       "<IPython.core.display.Markdown object>"
      ]
     },
     "metadata": {},
     "output_type": "display_data"
    },
    {
     "data": {
      "text/markdown": [
       "**Trying SVC........**"
      ],
      "text/plain": [
       "<IPython.core.display.Markdown object>"
      ]
     },
     "metadata": {},
     "output_type": "display_data"
    },
    {
     "name": "stdout",
     "output_type": "stream",
     "text": [
      "Average cross-validation score: 62.311%\n",
      "╒════════════╤═════════════════════╤════════════╤═══════════╤═════════════╕\n",
      "│   Accuracy │   Balanced Accuracy │   f1 Score │   ROC AUC │   Precision │\n",
      "╞════════════╪═════════════════════╪════════════╪═══════════╪═════════════╡\n",
      "│   0.625222 │            0.620718 │   0.578842 │  0.620718 │    0.610526 │\n",
      "╘════════════╧═════════════════════╧════════════╧═══════════╧═════════════╛\n"
     ]
    },
    {
     "data": {
      "text/markdown": [
       "**Trying LogisticRegression........**"
      ],
      "text/plain": [
       "<IPython.core.display.Markdown object>"
      ]
     },
     "metadata": {},
     "output_type": "display_data"
    },
    {
     "name": "stdout",
     "output_type": "stream",
     "text": [
      "Average cross-validation score: 62.067%\n",
      "╒════════════╤═════════════════════╤════════════╤═══════════╤═════════════╕\n",
      "│   Accuracy │   Balanced Accuracy │   f1 Score │   ROC AUC │   Precision │\n",
      "╞════════════╪═════════════════════╪════════════╪═══════════╪═════════════╡\n",
      "│   0.618117 │            0.613812 │   0.572565 │  0.613812 │    0.601253 │\n",
      "╘════════════╧═════════════════════╧════════════╧═══════════╧═════════════╛\n"
     ]
    },
    {
     "data": {
      "text/markdown": [
       "**Trying RandomForestClassifier........**"
      ],
      "text/plain": [
       "<IPython.core.display.Markdown object>"
      ]
     },
     "metadata": {},
     "output_type": "display_data"
    },
    {
     "name": "stdout",
     "output_type": "stream",
     "text": [
      "Average cross-validation score: 58.667%\n",
      "╒════════════╤═════════════════════╤════════════╤═══════════╤═════════════╕\n",
      "│   Accuracy │   Balanced Accuracy │   f1 Score │   ROC AUC │   Precision │\n",
      "╞════════════╪═════════════════════╪════════════╪═══════════╪═════════════╡\n",
      "│   0.590586 │            0.580409 │   0.490608 │  0.580409 │    0.587302 │\n",
      "╘════════════╧═════════════════════╧════════════╧═══════════╧═════════════╛\n"
     ]
    },
    {
     "data": {
      "text/markdown": [
       "**Trying KNeighborsClassifier........**"
      ],
      "text/plain": [
       "<IPython.core.display.Markdown object>"
      ]
     },
     "metadata": {},
     "output_type": "display_data"
    },
    {
     "name": "stdout",
     "output_type": "stream",
     "text": [
      "Average cross-validation score: 56.333%\n",
      "╒════════════╤═════════════════════╤════════════╤═══════════╤═════════════╕\n",
      "│   Accuracy │   Balanced Accuracy │   f1 Score │   ROC AUC │   Precision │\n",
      "╞════════════╪═════════════════════╪════════════╪═══════════╪═════════════╡\n",
      "│   0.565719 │            0.560116 │   0.504559 │  0.560116 │    0.541304 │\n",
      "╘════════════╧═════════════════════╧════════════╧═══════════╧═════════════╛\n"
     ]
    },
    {
     "data": {
      "text/markdown": [
       "**Trying MLPClassifier........**"
      ],
      "text/plain": [
       "<IPython.core.display.Markdown object>"
      ]
     },
     "metadata": {},
     "output_type": "display_data"
    },
    {
     "name": "stdout",
     "output_type": "stream",
     "text": [
      "Average cross-validation score: 52.711%\n",
      "╒════════════╤═════════════════════╤════════════╤═══════════╤═════════════╕\n",
      "│   Accuracy │   Balanced Accuracy │   f1 Score │   ROC AUC │   Precision │\n",
      "╞════════════╪═════════════════════╪════════════╪═══════════╪═════════════╡\n",
      "│   0.531972 │                 0.5 │          0 │       0.5 │           0 │\n",
      "╘════════════╧═════════════════════╧════════════╧═══════════╧═════════════╛\n"
     ]
    },
    {
     "name": "stderr",
     "output_type": "stream",
     "text": [
      "/Users/alice/miniforge3/envs/pydata-book/lib/python3.10/site-packages/sklearn/metrics/_classification.py:1469: UndefinedMetricWarning: Precision is ill-defined and being set to 0.0 due to no predicted samples. Use `zero_division` parameter to control this behavior.\n",
      "  _warn_prf(average, modifier, msg_start, len(result))\n"
     ]
    }
   ],
   "source": [
    "X = mri_res[mri_res[\"eventname\"] == BASELINE][mri_features_res]\n",
    "X = z_normalize(X)\n",
    "y = c_stop_res.iloc[X.index][TARGET]\n",
    "\n",
    "X_train, X_test, y_train, y_test = get_split(X, y)\n",
    "trained_models = run_standard_models(\"Accounting for volume: Structural MRI Baseline\", X_train, X_test, y_train, y_test)"
   ]
  },
  {
   "cell_type": "code",
   "execution_count": 124,
   "id": "473fdb1c-dd07-46f7-ba90-b3fe1a54fc4f",
   "metadata": {},
   "outputs": [
    {
     "name": "stdout",
     "output_type": "stream",
     "text": [
      "SVC\n",
      "╒════════════╤═════════════════════╤════════════╤═══════════╤═════════════╕\n",
      "│   Accuracy │   Balanced Accuracy │   f1 Score │   ROC AUC │   Precision │\n",
      "╞════════════╪═════════════════════╪════════════╪═══════════╪═════════════╡\n",
      "│   0.474441 │                 0.5 │   0.643554 │       0.5 │    0.474441 │\n",
      "╘════════════╧═════════════════════╧════════════╧═══════════╧═════════════╛\n",
      "Logistic Regression\n",
      "╒════════════╤═════════════════════╤════════════╤═══════════╤═════════════╕\n",
      "│   Accuracy │   Balanced Accuracy │   f1 Score │   ROC AUC │   Precision │\n",
      "╞════════════╪═════════════════════╪════════════╪═══════════╪═════════════╡\n",
      "│   0.474441 │                 0.5 │   0.643554 │       0.5 │    0.474441 │\n",
      "╘════════════╧═════════════════════╧════════════╧═══════════╧═════════════╛\n",
      "RandomForestClassifier\n",
      "╒════════════╤═════════════════════╤════════════╤═══════════╤═════════════╕\n",
      "│   Accuracy │   Balanced Accuracy │   f1 Score │   ROC AUC │   Precision │\n",
      "╞════════════╪═════════════════════╪════════════╪═══════════╪═════════════╡\n",
      "│   0.472843 │            0.498316 │   0.642082 │  0.498316 │      0.4736 │\n",
      "╘════════════╧═════════════════════╧════════════╧═══════════╧═════════════╛\n",
      "KNeighborsClassifier\n",
      "╒════════════╤═════════════════════╤════════════╤═══════════╤═════════════╕\n",
      "│   Accuracy │   Balanced Accuracy │   f1 Score │   ROC AUC │   Precision │\n",
      "╞════════════╪═════════════════════╪════════════╪═══════════╪═════════════╡\n",
      "│   0.474441 │                 0.5 │   0.643554 │       0.5 │    0.474441 │\n",
      "╘════════════╧═════════════════════╧════════════╧═══════════╧═════════════╛\n",
      "MLPClassifier\n",
      "╒════════════╤═════════════════════╤════════════╤═══════════╤═════════════╕\n",
      "│   Accuracy │   Balanced Accuracy │   f1 Score │   ROC AUC │   Precision │\n",
      "╞════════════╪═════════════════════╪════════════╪═══════════╪═════════════╡\n",
      "│   0.525559 │                 0.5 │          0 │       0.5 │           0 │\n",
      "╘════════════╧═════════════════════╧════════════╧═══════════╧═════════════╛\n"
     ]
    },
    {
     "name": "stderr",
     "output_type": "stream",
     "text": [
      "/Users/alice/miniforge3/envs/pydata-book/lib/python3.10/site-packages/sklearn/metrics/_classification.py:1469: UndefinedMetricWarning: Precision is ill-defined and being set to 0.0 due to no predicted samples. Use `zero_division` parameter to control this behavior.\n",
      "  _warn_prf(average, modifier, msg_start, len(result))\n"
     ]
    }
   ],
   "source": [
    "X = test_mri_res[test_mri_res[\"eventname\"] == BASELINE]\n",
    "y = test_c_stop_res.iloc[X.index][TARGET]\n",
    "eval_standard_models(X, mri_features_res, trained_models, y_in=y)"
   ]
  },
  {
   "cell_type": "code",
   "execution_count": 125,
   "id": "d9f44495-198c-4750-8264-d9f7efbcd30f",
   "metadata": {},
   "outputs": [
    {
     "data": {
      "image/png": "[encoded data removed]",
      "text/plain": [
       "<Figure size 1400x800 with 1 Axes>"
      ]
     },
     "metadata": {},
     "output_type": "display_data"
    }
   ],
   "source": [
    "plot_feature_importance(mri_features_res, \"baseline_mri_feature.jpg\", n=1)"
   ]
  },
  {
   "cell_type": "code",
   "execution_count": 96,
   "id": "4e2f29e0",
   "metadata": {},
   "outputs": [
    {
     "name": "stdout",
     "output_type": "stream",
     "text": [
      "X_train shape: (4501, 71)\n",
      "X_test shape: (1126, 71)\n",
      "y_train shape: (4501,)\n",
      "y_test shape: (1126,)\n"
     ]
    },
    {
     "data": {
      "text/markdown": [
       "### Running `Structural MRI Followup` experiment"
      ],
      "text/plain": [
       "<IPython.core.display.Markdown object>"
      ]
     },
     "metadata": {},
     "output_type": "display_data"
    },
    {
     "data": {
      "text/markdown": [
       "**=====================================================================**"
      ],
      "text/plain": [
       "<IPython.core.display.Markdown object>"
      ]
     },
     "metadata": {},
     "output_type": "display_data"
    },
    {
     "data": {
      "text/markdown": [
       "**Trying SVC........**"
      ],
      "text/plain": [
       "<IPython.core.display.Markdown object>"
      ]
     },
     "metadata": {},
     "output_type": "display_data"
    },
    {
     "name": "stdout",
     "output_type": "stream",
     "text": [
      "Average cross-validation score: 61.320%\n",
      "╒════════════╤═════════════════════╤════════════╤═══════════╤═════════════╕\n",
      "│   Accuracy │   Balanced Accuracy │   f1 Score │   ROC AUC │   Precision │\n",
      "╞════════════╪═════════════════════╪════════════╪═══════════╪═════════════╡\n",
      "│   0.631439 │            0.630288 │   0.590326 │  0.630288 │    0.654267 │\n",
      "╘════════════╧═════════════════════╧════════════╧═══════════╧═════════════╛\n"
     ]
    },
    {
     "data": {
      "text/markdown": [
       "**Trying LogisticRegression........**"
      ],
      "text/plain": [
       "<IPython.core.display.Markdown object>"
      ]
     },
     "metadata": {},
     "output_type": "display_data"
    },
    {
     "name": "stdout",
     "output_type": "stream",
     "text": [
      "Average cross-validation score: 62.475%\n",
      "╒════════════╤═════════════════════╤════════════╤═══════════╤═════════════╕\n",
      "│   Accuracy │   Balanced Accuracy │   f1 Score │   ROC AUC │   Precision │\n",
      "╞════════════╪═════════════════════╪════════════╪═══════════╪═════════════╡\n",
      "│   0.629663 │            0.628865 │   0.600957 │  0.628865 │    0.642127 │\n",
      "╘════════════╧═════════════════════╧════════════╧═══════════╧═════════════╛\n"
     ]
    },
    {
     "data": {
      "text/markdown": [
       "**Trying RandomForestClassifier........**"
      ],
      "text/plain": [
       "<IPython.core.display.Markdown object>"
      ]
     },
     "metadata": {},
     "output_type": "display_data"
    },
    {
     "name": "stdout",
     "output_type": "stream",
     "text": [
      "Average cross-validation score: 58.720%\n",
      "╒════════════╤═════════════════════╤════════════╤═══════════╤═════════════╕\n",
      "│   Accuracy │   Balanced Accuracy │   f1 Score │   ROC AUC │   Precision │\n",
      "╞════════════╪═════════════════════╪════════════╪═══════════╪═════════════╡\n",
      "│   0.575488 │            0.573413 │   0.486022 │  0.573413 │    0.604278 │\n",
      "╘════════════╧═════════════════════╧════════════╧═══════════╧═════════════╛\n"
     ]
    },
    {
     "data": {
      "text/markdown": [
       "**Trying KNeighborsClassifier........**"
      ],
      "text/plain": [
       "<IPython.core.display.Markdown object>"
      ]
     },
     "metadata": {},
     "output_type": "display_data"
    },
    {
     "name": "stdout",
     "output_type": "stream",
     "text": [
      "Average cross-validation score: 55.454%\n",
      "╒════════════╤═════════════════════╤════════════╤═══════════╤═════════════╕\n",
      "│   Accuracy │   Balanced Accuracy │   f1 Score │   ROC AUC │   Precision │\n",
      "╞════════════╪═════════════════════╪════════════╪═══════════╪═════════════╡\n",
      "│   0.547069 │            0.545873 │    0.49505 │  0.545873 │    0.550661 │\n",
      "╘════════════╧═════════════════════╧════════════╧═══════════╧═════════════╛\n"
     ]
    },
    {
     "data": {
      "text/markdown": [
       "**Trying MLPClassifier........**"
      ],
      "text/plain": [
       "<IPython.core.display.Markdown object>"
      ]
     },
     "metadata": {},
     "output_type": "display_data"
    },
    {
     "name": "stdout",
     "output_type": "stream",
     "text": [
      "Average cross-validation score: 53.344%\n",
      "╒════════════╤═════════════════════╤════════════╤═══════════╤═════════════╕\n",
      "│   Accuracy │   Balanced Accuracy │   f1 Score │   ROC AUC │   Precision │\n",
      "╞════════════╪═════════════════════╪════════════╪═══════════╪═════════════╡\n",
      "│   0.506217 │                 0.5 │          0 │       0.5 │           0 │\n",
      "╘════════════╧═════════════════════╧════════════╧═══════════╧═════════════╛\n"
     ]
    },
    {
     "name": "stderr",
     "output_type": "stream",
     "text": [
      "/Users/alice/miniforge3/envs/pydata-book/lib/python3.10/site-packages/sklearn/metrics/_classification.py:1469: UndefinedMetricWarning: Precision is ill-defined and being set to 0.0 due to no predicted samples. Use `zero_division` parameter to control this behavior.\n",
      "  _warn_prf(average, modifier, msg_start, len(result))\n"
     ]
    }
   ],
   "source": [
    "X = mri_res[mri_res[\"eventname\"] == FOLLOWUP][mri_features_res]\n",
    "X = z_normalize(X)\n",
    "y = c_stop_res.iloc[X.index][TARGET]\n",
    "\n",
    "X_train, X_test, y_train, y_test = get_split(X, y)\n",
    "trained_figures = run_standard_models(\"Structural MRI Followup\", X_train, X_test, y_train, y_test)"
   ]
  },
  {
   "cell_type": "code",
   "execution_count": 97,
   "id": "7f36e875-66bf-4d57-b60c-1f84f1399f28",
   "metadata": {},
   "outputs": [
    {
     "data": {
      "image/png": "[encoded data removed]",
      "text/plain": [
       "<Figure size 1400x800 with 1 Axes>"
      ]
     },
     "metadata": {},
     "output_type": "display_data"
    }
   ],
   "source": [
    "plot_feature_importance(mri_features_res, \"followup_mri_feature.jpg\", n=1)"
   ]
  },
  {
   "cell_type": "code",
   "execution_count": 63,
   "id": "f09bb0f0",
   "metadata": {},
   "outputs": [
    {
     "name": "stdout",
     "output_type": "stream",
     "text": [
      "X_train shape: (4500, 71)\n",
      "X_test shape: (1126, 71)\n",
      "y_train shape: (4500,)\n",
      "y_test shape: (1126,)\n"
     ]
    },
    {
     "data": {
      "text/markdown": [
       "### Running `Structural MRI, Followup - Baseline` experiment"
      ],
      "text/plain": [
       "<IPython.core.display.Markdown object>"
      ]
     },
     "metadata": {},
     "output_type": "display_data"
    },
    {
     "data": {
      "text/markdown": [
       "**=====================================================================**"
      ],
      "text/plain": [
       "<IPython.core.display.Markdown object>"
      ]
     },
     "metadata": {},
     "output_type": "display_data"
    },
    {
     "data": {
      "text/markdown": [
       "**Trying SVC........**"
      ],
      "text/plain": [
       "<IPython.core.display.Markdown object>"
      ]
     },
     "metadata": {},
     "output_type": "display_data"
    },
    {
     "name": "stdout",
     "output_type": "stream",
     "text": [
      "Average cross-validation score: 58.889%\n",
      "╒════════════╤═════════════════════╤════════════╤═══════════╤═════════════╕\n",
      "│   Accuracy │   Balanced Accuracy │   f1 Score │   ROC AUC │   Precision │\n",
      "╞════════════╪═════════════════════╪════════════╪═══════════╪═════════════╡\n",
      "│   0.611012 │            0.605424 │   0.554878 │  0.605424 │    0.597374 │\n",
      "╘════════════╧═════════════════════╧════════════╧═══════════╧═════════════╛\n"
     ]
    },
    {
     "data": {
      "text/markdown": [
       "**Trying LogisticRegression........**"
      ],
      "text/plain": [
       "<IPython.core.display.Markdown object>"
      ]
     },
     "metadata": {},
     "output_type": "display_data"
    },
    {
     "name": "stdout",
     "output_type": "stream",
     "text": [
      "Average cross-validation score: 59.044%\n",
      "╒════════════╤═════════════════════╤════════════╤═══════════╤═════════════╕\n",
      "│   Accuracy │   Balanced Accuracy │   f1 Score │   ROC AUC │   Precision │\n",
      "╞════════════╪═════════════════════╪════════════╪═══════════╪═════════════╡\n",
      "│   0.581705 │            0.576966 │   0.529471 │  0.576966 │    0.559072 │\n",
      "╘════════════╧═════════════════════╧════════════╧═══════════╧═════════════╛\n"
     ]
    },
    {
     "data": {
      "text/markdown": [
       "**Trying RandomForestClassifier........**"
      ],
      "text/plain": [
       "<IPython.core.display.Markdown object>"
      ]
     },
     "metadata": {},
     "output_type": "display_data"
    },
    {
     "name": "stdout",
     "output_type": "stream",
     "text": [
      "Average cross-validation score: 56.867%\n",
      "╒════════════╤═════════════════════╤════════════╤═══════════╤═════════════╕\n",
      "│   Accuracy │   Balanced Accuracy │   f1 Score │   ROC AUC │   Precision │\n",
      "╞════════════╪═════════════════════╪════════════╪═══════════╪═════════════╡\n",
      "│   0.594139 │            0.587283 │   0.525441 │  0.587283 │    0.580275 │\n",
      "╘════════════╧═════════════════════╧════════════╧═══════════╧═════════════╛\n"
     ]
    },
    {
     "data": {
      "text/markdown": [
       "**Trying KNeighborsClassifier........**"
      ],
      "text/plain": [
       "<IPython.core.display.Markdown object>"
      ]
     },
     "metadata": {},
     "output_type": "display_data"
    },
    {
     "name": "stdout",
     "output_type": "stream",
     "text": [
      "Average cross-validation score: 54.644%\n",
      "╒════════════╤═════════════════════╤════════════╤═══════════╤═════════════╕\n",
      "│   Accuracy │   Balanced Accuracy │   f1 Score │   ROC AUC │   Precision │\n",
      "╞════════════╪═════════════════════╪════════════╪═══════════╪═════════════╡\n",
      "│   0.533748 │            0.525162 │   0.439701 │  0.525162 │    0.502439 │\n",
      "╘════════════╧═════════════════════╧════════════╧═══════════╧═════════════╛\n"
     ]
    },
    {
     "data": {
      "text/markdown": [
       "**Trying MLPClassifier........**"
      ],
      "text/plain": [
       "<IPython.core.display.Markdown object>"
      ]
     },
     "metadata": {},
     "output_type": "display_data"
    },
    {
     "name": "stdout",
     "output_type": "stream",
     "text": [
      "Average cross-validation score: 54.444%\n",
      "╒════════════╤═════════════════════╤════════════╤═══════════╤═════════════╕\n",
      "│   Accuracy │   Balanced Accuracy │   f1 Score │   ROC AUC │   Precision │\n",
      "╞════════════╪═════════════════════╪════════════╪═══════════╪═════════════╡\n",
      "│   0.539964 │            0.512758 │    0.15082 │  0.512758 │    0.554217 │\n",
      "╘════════════╧═════════════════════╧════════════╧═══════════╧═════════════╛\n"
     ]
    }
   ],
   "source": [
    "X_baseline = mri_res[mri_res[\"eventname\"] == BASELINE][mri_features_res]\n",
    "X_followup = mri_res[mri_res[\"eventname\"] == FOLLOWUP][mri_features_res]\n",
    "X_followup.drop(X_followup.tail(1).index,inplace=True)\n",
    "\n",
    "X_diff = X_followup.reset_index(drop=True) - X_baseline.reset_index(drop=True)\n",
    "y = c_stop_res.iloc[X_baseline.index][TARGET]\n",
    "\n",
    "X = z_normalize(X_diff)\n",
    "\n",
    "X_train, X_test, y_train, y_test = get_split(X, y)\n",
    "run_standard_models(\"Structural MRI, Followup - Baseline\", X_train, X_test, y_train, y_test)"
   ]
  },
  {
   "cell_type": "code",
   "execution_count": 64,
   "id": "fb52a913",
   "metadata": {},
   "outputs": [
    {
     "name": "stdout",
     "output_type": "stream",
     "text": [
      "X_train shape: (4500, 142)\n",
      "X_test shape: (1126, 142)\n",
      "y_train shape: (4500,)\n",
      "y_test shape: (1126,)\n"
     ]
    },
    {
     "data": {
      "text/markdown": [
       "### Running `Structural MRI, Baseline + (Followup - Baseline)` experiment"
      ],
      "text/plain": [
       "<IPython.core.display.Markdown object>"
      ]
     },
     "metadata": {},
     "output_type": "display_data"
    },
    {
     "data": {
      "text/markdown": [
       "**=====================================================================**"
      ],
      "text/plain": [
       "<IPython.core.display.Markdown object>"
      ]
     },
     "metadata": {},
     "output_type": "display_data"
    },
    {
     "data": {
      "text/markdown": [
       "**Trying SVC........**"
      ],
      "text/plain": [
       "<IPython.core.display.Markdown object>"
      ]
     },
     "metadata": {},
     "output_type": "display_data"
    },
    {
     "name": "stdout",
     "output_type": "stream",
     "text": [
      "Average cross-validation score: 64.800%\n",
      "╒════════════╤═════════════════════╤════════════╤═══════════╤═════════════╕\n",
      "│   Accuracy │   Balanced Accuracy │   f1 Score │   ROC AUC │   Precision │\n",
      "╞════════════╪═════════════════════╪════════════╪═══════════╪═════════════╡\n",
      "│   0.646536 │            0.643603 │    0.61284 │  0.643603 │    0.628743 │\n",
      "╘════════════╧═════════════════════╧════════════╧═══════════╧═════════════╛\n"
     ]
    },
    {
     "data": {
      "text/markdown": [
       "**Trying LogisticRegression........**"
      ],
      "text/plain": [
       "<IPython.core.display.Markdown object>"
      ]
     },
     "metadata": {},
     "output_type": "display_data"
    },
    {
     "name": "stdout",
     "output_type": "stream",
     "text": [
      "Average cross-validation score: 64.533%\n",
      "╒════════════╤═════════════════════╤════════════╤═══════════╤═════════════╕\n",
      "│   Accuracy │   Balanced Accuracy │   f1 Score │   ROC AUC │   Precision │\n",
      "╞════════════╪═════════════════════╪════════════╪═══════════╪═════════════╡\n",
      "│   0.637655 │            0.634685 │   0.603113 │  0.634685 │    0.618762 │\n",
      "╘════════════╧═════════════════════╧════════════╧═══════════╧═════════════╛\n"
     ]
    },
    {
     "data": {
      "text/markdown": [
       "**Trying RandomForestClassifier........**"
      ],
      "text/plain": [
       "<IPython.core.display.Markdown object>"
      ]
     },
     "metadata": {},
     "output_type": "display_data"
    },
    {
     "name": "stdout",
     "output_type": "stream",
     "text": [
      "Average cross-validation score: 59.556%\n",
      "╒════════════╤═════════════════════╤════════════╤═══════════╤═════════════╕\n",
      "│   Accuracy │   Balanced Accuracy │   f1 Score │   ROC AUC │   Precision │\n",
      "╞════════════╪═════════════════════╪════════════╪═══════════╪═════════════╡\n",
      "│   0.596803 │              0.5907 │   0.534836 │    0.5907 │    0.581292 │\n",
      "╘════════════╧═════════════════════╧════════════╧═══════════╧═════════════╛\n"
     ]
    },
    {
     "data": {
      "text/markdown": [
       "**Trying KNeighborsClassifier........**"
      ],
      "text/plain": [
       "<IPython.core.display.Markdown object>"
      ]
     },
     "metadata": {},
     "output_type": "display_data"
    },
    {
     "name": "stdout",
     "output_type": "stream",
     "text": [
      "Average cross-validation score: 56.067%\n",
      "╒════════════╤═════════════════════╤════════════╤═══════════╤═════════════╕\n",
      "│   Accuracy │   Balanced Accuracy │   f1 Score │   ROC AUC │   Precision │\n",
      "╞════════════╪═════════════════════╪════════════╪═══════════╪═════════════╡\n",
      "│   0.569272 │            0.561288 │   0.486772 │  0.561288 │    0.550239 │\n",
      "╘════════════╧═════════════════════╧════════════╧═══════════╧═════════════╛\n"
     ]
    },
    {
     "data": {
      "text/markdown": [
       "**Trying MLPClassifier........**"
      ],
      "text/plain": [
       "<IPython.core.display.Markdown object>"
      ]
     },
     "metadata": {},
     "output_type": "display_data"
    },
    {
     "name": "stdout",
     "output_type": "stream",
     "text": [
      "Average cross-validation score: 55.444%\n",
      "╒════════════╤═════════════════════╤════════════╤═══════════╤═════════════╕\n",
      "│   Accuracy │   Balanced Accuracy │   f1 Score │   ROC AUC │   Precision │\n",
      "╞════════════╪═════════════════════╪════════════╪═══════════╪═════════════╡\n",
      "│    0.57016 │            0.582422 │   0.627692 │  0.582422 │    0.527814 │\n",
      "╘════════════╧═════════════════════╧════════════╧═══════════╧═════════════╛\n"
     ]
    }
   ],
   "source": [
    "X_baseline = mri_res[mri_res[\"eventname\"] == BASELINE][mri_features_res]\n",
    "X_followup = mri_res[mri_res[\"eventname\"] == FOLLOWUP][mri_features_res]\n",
    "X_followup.drop(X_followup.tail(1).index,inplace=True)\n",
    "\n",
    "X_diff = X_followup.reset_index(drop=True) - X_baseline.reset_index(drop=True)\n",
    "y = c_stop_res.iloc[X_baseline.index][TARGET]\n",
    "\n",
    "X = pd.concat([X_baseline.reset_index(drop=True), X_diff], keys=mri_features_res, axis=1)\n",
    "X = z_normalize(X)\n",
    "\n",
    "X_train, X_test, y_train, y_test = get_split(X, y)\n",
    "run_standard_models(\"Structural MRI, Baseline + (Followup - Baseline)\", X_train, X_test, y_train, y_test)"
   ]
  },
  {
   "cell_type": "code",
   "execution_count": 45,
   "id": "59251630",
   "metadata": {},
   "outputs": [
    {
     "name": "stdout",
     "output_type": "stream",
     "text": [
      "X_train shape: (4500, 213)\n",
      "X_test shape: (1126, 213)\n",
      "y_train shape: (4500,)\n",
      "y_test shape: (1126,)\n"
     ]
    },
    {
     "data": {
      "text/markdown": [
       "### Running `Structural MRI, Baseline + Followup + (Followup - Baseline)` experiment"
      ],
      "text/plain": [
       "<IPython.core.display.Markdown object>"
      ]
     },
     "metadata": {},
     "output_type": "display_data"
    },
    {
     "data": {
      "text/markdown": [
       "**=====================================================================**"
      ],
      "text/plain": [
       "<IPython.core.display.Markdown object>"
      ]
     },
     "metadata": {},
     "output_type": "display_data"
    },
    {
     "data": {
      "text/markdown": [
       "**Trying SVC........**"
      ],
      "text/plain": [
       "<IPython.core.display.Markdown object>"
      ]
     },
     "metadata": {},
     "output_type": "display_data"
    },
    {
     "name": "stdout",
     "output_type": "stream",
     "text": [
      "Average cross-validation score: 64.889%\n",
      "╒════════════╤═════════════════════╤════════════╤═══════════╤═════════════╕\n",
      "│   Accuracy │   Balanced Accuracy │   f1 Score │   ROC AUC │   Precision │\n",
      "╞════════════╪═════════════════════╪════════════╪═══════════╪═════════════╡\n",
      "│   0.652753 │            0.649446 │   0.617042 │  0.649446 │    0.637652 │\n",
      "╘════════════╧═════════════════════╧════════════╧═══════════╧═════════════╛\n"
     ]
    },
    {
     "data": {
      "text/markdown": [
       "**Trying LogisticRegression........**"
      ],
      "text/plain": [
       "<IPython.core.display.Markdown object>"
      ]
     },
     "metadata": {},
     "output_type": "display_data"
    },
    {
     "name": "stdout",
     "output_type": "stream",
     "text": [
      "Average cross-validation score: 64.556%\n",
      "╒════════════╤═════════════════════╤════════════╤═══════════╤═════════════╕\n",
      "│   Accuracy │   Balanced Accuracy │   f1 Score │   ROC AUC │   Precision │\n",
      "╞════════════╪═════════════════════╪════════════╪═══════════╪═════════════╡\n",
      "│    0.64032 │            0.637418 │   0.606414 │  0.637418 │    0.621514 │\n",
      "╘════════════╧═════════════════════╧════════════╧═══════════╧═════════════╛\n"
     ]
    },
    {
     "data": {
      "text/markdown": [
       "**Trying RandomForestClassifier........**"
      ],
      "text/plain": [
       "<IPython.core.display.Markdown object>"
      ]
     },
     "metadata": {},
     "output_type": "display_data"
    },
    {
     "name": "stdout",
     "output_type": "stream",
     "text": [
      "Average cross-validation score: 59.578%\n",
      "╒════════════╤═════════════════════╤════════════╤═══════════╤═════════════╕\n",
      "│   Accuracy │   Balanced Accuracy │   f1 Score │   ROC AUC │   Precision │\n",
      "╞════════════╪═════════════════════╪════════════╪═══════════╪═════════════╡\n",
      "│   0.599467 │            0.592292 │   0.528736 │  0.592292 │    0.588372 │\n",
      "╘════════════╧═════════════════════╧════════════╧═══════════╧═════════════╛\n"
     ]
    },
    {
     "data": {
      "text/markdown": [
       "**Trying KNeighborsClassifier........**"
      ],
      "text/plain": [
       "<IPython.core.display.Markdown object>"
      ]
     },
     "metadata": {},
     "output_type": "display_data"
    },
    {
     "name": "stdout",
     "output_type": "stream",
     "text": [
      "Average cross-validation score: 57.222%\n",
      "╒════════════╤═════════════════════╤════════════╤═══════════╤═════════════╕\n",
      "│   Accuracy │   Balanced Accuracy │   f1 Score │   ROC AUC │   Precision │\n",
      "╞════════════╪═════════════════════╪════════════╪═══════════╪═════════════╡\n",
      "│   0.546181 │            0.537647 │   0.454642 │  0.537647 │    0.519512 │\n",
      "╘════════════╧═════════════════════╧════════════╧═══════════╧═════════════╛\n"
     ]
    },
    {
     "data": {
      "text/markdown": [
       "**Trying MLPClassifier........**"
      ],
      "text/plain": [
       "<IPython.core.display.Markdown object>"
      ]
     },
     "metadata": {},
     "output_type": "display_data"
    },
    {
     "name": "stdout",
     "output_type": "stream",
     "text": [
      "Average cross-validation score: 62.956%\n",
      "╒════════════╤═════════════════════╤════════════╤═══════════╤═════════════╕\n",
      "│   Accuracy │   Balanced Accuracy │   f1 Score │   ROC AUC │   Precision │\n",
      "╞════════════╪═════════════════════╪════════════╪═══════════╪═════════════╡\n",
      "│   0.638544 │            0.635064 │   0.600589 │  0.635064 │    0.621951 │\n",
      "╘════════════╧═════════════════════╧════════════╧═══════════╧═════════════╛\n"
     ]
    }
   ],
   "source": [
    "X_baseline = mri_res[mri_res[\"eventname\"] == BASELINE][mri_features_res]\n",
    "X_followup = mri_res[mri_res[\"eventname\"] == FOLLOWUP][mri_features_res]\n",
    "X_followup.drop(X_followup.tail(1).index,inplace=True)\n",
    "\n",
    "X_diff = X_followup.reset_index(drop=True) - X_baseline.reset_index(drop=True)\n",
    "y = c_stop_res.iloc[X_baseline.index][TARGET]\n",
    "\n",
    "X = pd.concat([X_baseline.reset_index(drop=True), X_followup.reset_index(drop=True), X_diff], keys=mri_features_res, axis=1)\n",
    "X = z_normalize(X)\n",
    "\n",
    "X_train, X_test, y_train, y_test = get_split(X, y)\n",
    "trained_models = run_standard_models(\"Structural MRI, Baseline + Followup + (Followup - Baseline)\", X_train, X_test, y_train, y_test)"
   ]
  },
  {
   "cell_type": "code",
   "execution_count": 60,
   "id": "38eac4bd",
   "metadata": {},
   "outputs": [
    {
     "name": "stdout",
     "output_type": "stream",
     "text": [
      "(626, 213)\n",
      "(626,)\n"
     ]
    }
   ],
   "source": [
    "X_baseline = test_mri_res[test_mri_res[\"eventname\"] == BASELINE][mri_features_res]\n",
    "X_followup = test_mri_res[test_mri_res[\"eventname\"] == FOLLOWUP][mri_features_res]\n",
    "X_followup.drop(X_followup.tail(1).index,inplace=True)\n",
    "\n",
    "X_diff = X_followup.reset_index(drop=True) - X_baseline.reset_index(drop=True)\n",
    "y = test_c_stop_res[test_c_stop_res[\"eventname\"] == BASELINE][TARGET]\n",
    "\n",
    "X = pd.concat([X_baseline.reset_index(drop=True), X_followup.reset_index(drop=True), X_diff], keys=mri_features_res, axis=1)\n",
    "X = z_normalize(X)\n",
    "\n",
    "print(X.shape)\n",
    "print(y.shape)"
   ]
  },
  {
   "cell_type": "code",
   "execution_count": 63,
   "id": "7a155ae7",
   "metadata": {},
   "outputs": [
    {
     "name": "stdout",
     "output_type": "stream",
     "text": [
      "SVC\n",
      "╒════════════╤═════════════════════╤════════════╤═══════════╤═════════════╕\n",
      "│   Accuracy │   Balanced Accuracy │   f1 Score │   ROC AUC │   Precision │\n",
      "╞════════════╪═════════════════════╪════════════╪═══════════╪═════════════╡\n",
      "│    0.55609 │            0.552228 │   0.506239 │  0.552228 │    0.533835 │\n",
      "╘════════════╧═════════════════════╧════════════╧═══════════╧═════════════╛\n",
      "Logistic Regression\n",
      "╒════════════╤═════════════════════╤════════════╤═══════════╤═════════════╕\n",
      "│   Accuracy │   Balanced Accuracy │   f1 Score │   ROC AUC │   Precision │\n",
      "╞════════════╪═════════════════════╪════════════╪═══════════╪═════════════╡\n",
      "│   0.543269 │            0.540596 │   0.504348 │  0.540596 │    0.517857 │\n",
      "╘════════════╧═════════════════════╧════════════╧═══════════╧═════════════╛\n",
      "RandomForestClassifier\n",
      "╒════════════╤═════════════════════╤════════════╤═══════════╤═════════════╕\n",
      "│   Accuracy │   Balanced Accuracy │   f1 Score │   ROC AUC │   Precision │\n",
      "╞════════════╪═════════════════════╪════════════╪═══════════╪═════════════╡\n",
      "│   0.589744 │            0.585369 │   0.537906 │  0.585369 │     0.57529 │\n",
      "╘════════════╧═════════════════════╧════════════╧═══════════╧═════════════╛\n",
      "KNeighborsClassifier\n",
      "╒════════════╤═════════════════════╤════════════╤═══════════╤═════════════╕\n",
      "│   Accuracy │   Balanced Accuracy │   f1 Score │   ROC AUC │   Precision │\n",
      "╞════════════╪═════════════════════╪════════════╪═══════════╪═════════════╡\n",
      "│   0.532051 │            0.526279 │   0.459259 │  0.526279 │    0.506122 │\n",
      "╘════════════╧═════════════════════╧════════════╧═══════════╧═════════════╛\n",
      "MLPClassifier\n",
      "╒════════════╤═════════════════════╤════════════╤═══════════╤═════════════╕\n",
      "│   Accuracy │   Balanced Accuracy │   f1 Score │   ROC AUC │   Precision │\n",
      "╞════════════╪═════════════════════╪════════════╪═══════════╪═════════════╡\n",
      "│   0.564103 │            0.561754 │   0.529412 │  0.561754 │    0.540636 │\n",
      "╘════════════╧═════════════════════╧════════════╧═══════════╧═════════════╛\n"
     ]
    }
   ],
   "source": [
    "eval_standard_models_Xy(X[:-2], y[:-2], trained_models)"
   ]
  },
  {
   "cell_type": "markdown",
   "id": "329485e1",
   "metadata": {},
   "source": [
    "### PyTorch Model using Baseline, Followup and Followup - Baseline"
   ]
  },
  {
   "cell_type": "code",
   "execution_count": 64,
   "id": "accf9099",
   "metadata": {},
   "outputs": [],
   "source": [
    "X_baseline = mri_res[mri_res[\"eventname\"] == BASELINE][mri_features_res]\n",
    "X_followup = mri_res[mri_res[\"eventname\"] == FOLLOWUP][mri_features_res]\n",
    "X_followup.drop(X_followup.tail(1).index,inplace=True)\n",
    "\n",
    "X_diff = X_followup.reset_index(drop=True) - X_baseline.reset_index(drop=True)\n",
    "y = c_stop_res.iloc[X_baseline.index][TARGET]\n",
    "\n",
    "X = pd.concat([X_baseline.reset_index(drop=True), X_followup.reset_index(drop=True), X_diff], keys=mri_features_res, axis=1)\n",
    "X = z_normalize(X)"
   ]
  },
  {
   "cell_type": "code",
   "execution_count": 65,
   "id": "f9e99247",
   "metadata": {},
   "outputs": [
    {
     "name": "stdout",
     "output_type": "stream",
     "text": [
      "X_train shape: (4500, 213)\n",
      "X_test shape: (1126, 213)\n",
      "y_train shape: (4500,)\n",
      "y_test shape: (1126,)\n",
      "Model1(\n",
      "  (layers): Sequential(\n",
      "    (0): Linear(in_features=213, out_features=2, bias=True)\n",
      "    (1): ReLU()\n",
      "    (2): Linear(in_features=2, out_features=2, bias=True)\n",
      "    (3): ReLU()\n",
      "    (4): Linear(in_features=2, out_features=2, bias=True)\n",
      "    (5): Sigmoid()\n",
      "  )\n",
      "  (flatten): Flatten(start_dim=1, end_dim=-1)\n",
      "  (softmax): Softmax(dim=1)\n",
      ")\n"
     ]
    }
   ],
   "source": [
    "torch.manual_seed(42)\n",
    "\n",
    "model = Model1(len(X.columns))\n",
    "loss_function = nn.CrossEntropyLoss()\n",
    "optimizer = torch.optim.Adam(model.parameters(), lr=LEARNING_RATE, weight_decay=1e-5)\n",
    "\n",
    "train_dl, test_dl = get_dls(X, y)\n",
    "print(model)"
   ]
  },
  {
   "cell_type": "code",
   "execution_count": 66,
   "id": "042bfff4",
   "metadata": {},
   "outputs": [
    {
     "name": "stdout",
     "output_type": "stream",
     "text": [
      "Epoch 1/50 - Train loss: 0.69 Valid loss: 0.68\n",
      "Epoch 11/50 - Train loss: 0.60 Valid loss: 0.64\n",
      "Epoch 21/50 - Train loss: 0.59 Valid loss: 0.64\n",
      "Epoch 31/50 - Train loss: 0.58 Valid loss: 0.64\n",
      "Epoch 41/50 - Train loss: 0.58 Valid loss: 0.64\n",
      "Training Completed!\n"
     ]
    }
   ],
   "source": [
    "train_loss, valid_loss = train_model(model, loss_function, optimizer, train_dl, test_dl, NUM_EPOCHS)"
   ]
  },
  {
   "cell_type": "code",
   "execution_count": 431,
   "id": "f7c54088",
   "metadata": {},
   "outputs": [
    {
     "data": {
      "image/png": "[encoded data removed]",
      "text/plain": [
       "<Figure size 1000x1000 with 1 Axes>"
      ]
     },
     "metadata": {},
     "output_type": "display_data"
    }
   ],
   "source": [
    "plot_learning(train_loss, valid_loss, \"structuralneural.jpg\")"
   ]
  },
  {
   "cell_type": "code",
   "execution_count": 432,
   "id": "4166cad4",
   "metadata": {},
   "outputs": [
    {
     "name": "stdout",
     "output_type": "stream",
     "text": [
      "╒════════════╤═════════════════════╤════════════╤═══════════╤═════════════╕\n",
      "│   Accuracy │   Balanced Accuracy │   f1 Score │   ROC AUC │   Precision │\n",
      "╞════════════╪═════════════════════╪════════════╪═══════════╪═════════════╡\n",
      "│   0.646536 │            0.641322 │   0.597166 │  0.641322 │    0.639913 │\n",
      "╘════════════╧═════════════════════╧════════════╧═══════════╧═════════════╛\n"
     ]
    }
   ],
   "source": [
    "evaluate_model(model, test_dl)"
   ]
  },
  {
   "cell_type": "code",
   "execution_count": 71,
   "id": "6e44e19a",
   "metadata": {},
   "outputs": [
    {
     "name": "stdout",
     "output_type": "stream",
     "text": [
      "(626, 213)\n",
      "(626,)\n"
     ]
    }
   ],
   "source": [
    "X_baseline = test_mri_res[test_mri_res[\"eventname\"] == BASELINE][mri_features_res]\n",
    "X_followup = test_mri_res[test_mri_res[\"eventname\"] == FOLLOWUP][mri_features_res]\n",
    "X_followup.drop(X_followup.tail(1).index,inplace=True)\n",
    "\n",
    "X_diff = X_followup.reset_index(drop=True) - X_baseline.reset_index(drop=True)\n",
    "y = test_c_stop_res[test_c_stop_res[\"eventname\"] == BASELINE][TARGET]\n",
    "\n",
    "X = pd.concat([X_baseline.reset_index(drop=True), X_followup.reset_index(drop=True), X_diff], keys=mri_features_res, axis=1)\n",
    "X = z_normalize(X)\n",
    "\n",
    "print(X.shape)\n",
    "print(y.shape)"
   ]
  },
  {
   "cell_type": "code",
   "execution_count": 74,
   "id": "00897a1f",
   "metadata": {},
   "outputs": [
    {
     "name": "stdout",
     "output_type": "stream",
     "text": [
      "╒════════════╤═════════════════════╤════════════╤═══════════╤═════════════╕\n",
      "│   Accuracy │   Balanced Accuracy │   f1 Score │   ROC AUC │   Precision │\n",
      "╞════════════╪═════════════════════╪════════════╪═══════════╪═════════════╡\n",
      "│   0.573482 │            0.569008 │   0.517179 │  0.569008 │    0.558594 │\n",
      "╘════════════╧═════════════════════╧════════════╧═══════════╧═════════════╛\n"
     ]
    }
   ],
   "source": [
    "ds = ABCDDataset(X, y)\n",
    "dl = DataLoader(ds, batch_size=32, shuffle=True)\n",
    "\n",
    "evaluate_model(model, dl)"
   ]
  },
  {
   "cell_type": "markdown",
   "id": "e24e1987",
   "metadata": {},
   "source": [
    "---\n",
    "\n",
    "## Predict before or after pandemic\n",
    "\n",
    "---"
   ]
  },
  {
   "cell_type": "code",
   "execution_count": 442,
   "id": "f9cab57b",
   "metadata": {},
   "outputs": [],
   "source": [
    "def get_combined(df, features):\n",
    "    baseline = df[df[\"eventname\"] == BASELINE]\n",
    "    followup = df[df[\"eventname\"] == FOLLOWUP]\n",
    "    followup = followup.drop(followup.tail(1).index)\n",
    "\n",
    "    baseline = baseline[[\"src_subject_id\", \"interview_age\"] + features]\n",
    "    followup = followup[[\"src_subject_id\", \"interview_age\"] + features]\n",
    "    \n",
    "    baseline[\"demo_sex_v2\"] = c_stop_res[c_stop_res[\"eventname\"] == BASELINE][\"demo_sex_v2\"]\n",
    "    combined = baseline.merge(followup, on=\"src_subject_id\")\n",
    "\n",
    "    combined[\"age_diff\"] = combined[\"interview_age_y\"] - combined[\"interview_age_x\"]\n",
    "    combined[\"delayed\"] = combined[\"age_diff\"] > 28\n",
    "    combined[\"delayed\"] = combined[\"delayed\"].replace({False: 0, True: 1})\n",
    "    \n",
    "    return combined"
   ]
  },
  {
   "cell_type": "code",
   "execution_count": 443,
   "id": "44206d84",
   "metadata": {},
   "outputs": [
    {
     "data": {
      "text/plain": [
       "delayed\n",
       "0    5057\n",
       "1     569\n",
       "Name: count, dtype: int64"
      ]
     },
     "execution_count": 443,
     "metadata": {},
     "output_type": "execute_result"
    }
   ],
   "source": [
    "combined = get_combined(c_stop_res, c_stop_go_features_res)\n",
    "combined[\"delayed\"].value_counts()"
   ]
  },
  {
   "cell_type": "code",
   "execution_count": 448,
   "id": "f1ee6c75",
   "metadata": {},
   "outputs": [],
   "source": [
    "zeros = combined[\"delayed\"].value_counts().iloc[0]\n",
    "ones = combined[\"delayed\"].value_counts().iloc[1]\n",
    "\n",
    "targets = np.concatenate((np.zeros(zeros), np.ones(ones)), axis=0)\n",
    "class_weights = compute_class_weight('balanced', classes=[0, 1], y=targets)\n",
    "class_weights = torch.tensor(class_weights, dtype=torch.float32)"
   ]
  },
  {
   "cell_type": "code",
   "execution_count": 472,
   "id": "4fe2677d",
   "metadata": {},
   "outputs": [
    {
     "name": "stdout",
     "output_type": "stream",
     "text": [
      "X_train shape: (4500, 142)\n",
      "X_test shape: (1126, 142)\n",
      "y_train shape: (4500, 2)\n",
      "y_test shape: (1126, 2)\n",
      "Model1(\n",
      "  (layers): Sequential(\n",
      "    (0): Linear(in_features=142, out_features=2, bias=True)\n",
      "    (1): ReLU()\n",
      "    (2): Linear(in_features=2, out_features=2, bias=True)\n",
      "    (3): ReLU()\n",
      "    (4): Linear(in_features=2, out_features=2, bias=True)\n",
      "    (5): Sigmoid()\n",
      "  )\n",
      "  (flatten): Flatten(start_dim=1, end_dim=-1)\n",
      "  (softmax): Softmax(dim=1)\n",
      ")\n"
     ]
    }
   ],
   "source": [
    "all_features = [c + \"_x\" for c in mri_features_res] + [c + \"_y\" for c in mri_features_res]\n",
    "combined = get_combined(mri_res, mri_features_res)\n",
    "X = combined[all_features]\n",
    "y = combined[\"delayed\"]\n",
    "y_one_hot = pd.DataFrame(np.eye(2)[y])\n",
    "\n",
    "X = z_normalize(X)\n",
    "\n",
    "torch.manual_seed(42)\n",
    "\n",
    "model = Model1(len(X.columns))\n",
    "\n",
    "loss_function = BCEWithLogitsLoss(pos_weight=class_weights[1])\n",
    "optimizer = torch.optim.Adam(model.parameters(), lr=LEARNING_RATE, weight_decay=1e-5)\n",
    "\n",
    "train_dl, test_dl = get_dls(X, y_one_hot)\n",
    "print(model)"
   ]
  },
  {
   "cell_type": "code",
   "execution_count": 473,
   "id": "f0f94947",
   "metadata": {},
   "outputs": [
    {
     "name": "stdout",
     "output_type": "stream",
     "text": [
      "Epoch 1/50 - Train loss: 1.74 Valid loss: 1.72\n",
      "Epoch 11/50 - Train loss: 1.45 Valid loss: 1.44\n",
      "Epoch 21/50 - Train loss: 1.34 Valid loss: 1.33\n",
      "Epoch 31/50 - Train loss: 1.29 Valid loss: 1.29\n",
      "Epoch 41/50 - Train loss: 1.29 Valid loss: 1.29\n",
      "Training Completed!\n"
     ]
    }
   ],
   "source": [
    "train_loss, valid_loss = train_model(model, loss_function, optimizer, train_dl, test_dl, NUM_EPOCHS, bce=True)"
   ]
  },
  {
   "cell_type": "code",
   "execution_count": 470,
   "id": "80bb1bac",
   "metadata": {},
   "outputs": [
    {
     "data": {
      "image/png": "[encoded data removed]",
      "text/plain": [
       "<Figure size 1000x1000 with 1 Axes>"
      ]
     },
     "metadata": {},
     "output_type": "display_data"
    }
   ],
   "source": [
    "plot_learning(train_loss, valid_loss, \"beforeafterpandemic.jpg\")"
   ]
  },
  {
   "cell_type": "code",
   "execution_count": 474,
   "id": "c20ffa4e",
   "metadata": {},
   "outputs": [
    {
     "name": "stdout",
     "output_type": "stream",
     "text": [
      "X_train shape: (4500, 142)\n",
      "X_test shape: (1126, 142)\n",
      "y_train shape: (4500,)\n",
      "y_test shape: (1126,)\n",
      "╒════════════╤═════════════════════╤════════════╤═══════════╤═════════════╕\n",
      "│   Accuracy │   Balanced Accuracy │   f1 Score │   ROC AUC │   Precision │\n",
      "╞════════════╪═════════════════════╪════════════╪═══════════╪═════════════╡\n",
      "│   0.900533 │                 0.5 │          0 │       0.5 │           0 │\n",
      "╘════════════╧═════════════════════╧════════════╧═══════════╧═════════════╛\n"
     ]
    },
    {
     "name": "stderr",
     "output_type": "stream",
     "text": [
      "/Users/alice/miniforge3/envs/pydata-book/lib/python3.10/site-packages/sklearn/metrics/_classification.py:1469: UndefinedMetricWarning: Precision is ill-defined and being set to 0.0 due to no predicted samples. Use `zero_division` parameter to control this behavior.\n",
      "  _warn_prf(average, modifier, msg_start, len(result))\n"
     ]
    }
   ],
   "source": [
    "_, test_dl = get_dls(X, y)\n",
    "evaluate_model(model, test_dl)"
   ]
  },
  {
   "cell_type": "code",
   "execution_count": null,
   "id": "59ebca0c",
   "metadata": {},
   "outputs": [],
   "source": []
  }
 ],
 "metadata": {
  "kernelspec": {
   "display_name": "pydata-book",
   "language": "python",
   "name": "pydata-book"
  },
  "language_info": {
   "codemirror_mode": {
    "name": "ipython",
    "version": 3
   },
   "file_extension": ".py",
   "mimetype": "text/x-python",
   "name": "python",
   "nbconvert_exporter": "python",
   "pygments_lexer": "ipython3",
   "version": "3.10.12"
  }
 },
 "nbformat": 4,
 "nbformat_minor": 5
}
